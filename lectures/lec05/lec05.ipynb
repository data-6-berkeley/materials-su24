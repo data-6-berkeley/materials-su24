{
 "cells": [
  {
   "cell_type": "markdown",
   "id": "881184d3",
   "metadata": {},
   "source": [
    "# Lecture 5 – Evaluation, Names, Data Types\n",
    "\n",
    "### Data 6, Summer 2024"
   ]
  },
  {
   "cell_type": "code",
   "execution_count": null,
   "id": "7c1ed79a",
   "metadata": {},
   "outputs": [],
   "source": [
    "from datascience import *"
   ]
  },
  {
   "cell_type": "markdown",
   "id": "127a088f",
   "metadata": {},
   "source": [
    "## Warmup"
   ]
  },
  {
   "cell_type": "code",
   "execution_count": null,
   "id": "3a10faa2",
   "metadata": {},
   "outputs": [],
   "source": [
    "pop_2020 = make_array(5.025, .732, 7.178, 3.012, 39.500)\n",
    "pop_2021 = make_array(5.040, .733, 7.276, 3.026, 39.238)"
   ]
  },
  {
   "cell_type": "code",
   "execution_count": null,
   "id": "954a5620",
   "metadata": {},
   "outputs": [],
   "source": [
    "pop_2021 - pop_2020"
   ]
  },
  {
   "cell_type": "code",
   "execution_count": null,
   "id": "47d21886",
   "metadata": {
    "scrolled": false
   },
   "outputs": [],
   "source": [
    "100 * (pop_2021 - pop_2020) / pop_2020"
   ]
  },
  {
   "cell_type": "markdown",
   "id": "4f6f09f1",
   "metadata": {},
   "source": [
    "<br/><br/>\n",
    "\n",
    "# Array Functions\n",
    "Array functions in Python, such as len, min, and max, are essential tools for manipulating and analyzing arrays or lists of data. \n",
    "\n",
    "The `len` function returns the length of an array, providing the number of elements it contains. This is useful for determining the size of an array dynamically. \n",
    "\n",
    "The `min` function identifies the smallest value within an array, while the `max` function retrieves the largest value. \n",
    "\n",
    "The `sum` function sums all of the values in an array.\n",
    "\n",
    "These functions are handy when searching for extremities or performing basic statistical analysis on arrays. \n",
    "\n",
    "With their simplicity and efficiency, `len`, `min`, `max`, and `sum` are versatile array functions that greatly enhance Python's capabilities in data processing and analysis."
   ]
  },
  {
   "cell_type": "code",
   "execution_count": null,
   "id": "f04fbaa9",
   "metadata": {},
   "outputs": [],
   "source": [
    "empty_arr = make_array()\n",
    "int_arr = make_array(3, -4, 0, 5, 2)\n",
    "str_arr = make_array(\"cm\", \"m\" \"in\", \"ft\", \"yd\")"
   ]
  },
  {
   "cell_type": "code",
   "execution_count": null,
   "id": "118ee8f0",
   "metadata": {
    "scrolled": true
   },
   "outputs": [],
   "source": [
    "print(empty_arr)\n",
    "print(int_arr)\n",
    "print(str_arr)"
   ]
  },
  {
   "cell_type": "markdown",
   "id": "f5d13ab5",
   "metadata": {},
   "source": [
    "`len()`"
   ]
  },
  {
   "cell_type": "code",
   "execution_count": null,
   "id": "cdee96c9",
   "metadata": {},
   "outputs": [],
   "source": [
    "len(str_arr)"
   ]
  },
  {
   "cell_type": "code",
   "execution_count": null,
   "id": "ff186f6b",
   "metadata": {},
   "outputs": [],
   "source": [
    "len(empty_arr)"
   ]
  },
  {
   "cell_type": "markdown",
   "id": "976f9f36",
   "metadata": {},
   "source": [
    "`min()`, `max()`"
   ]
  },
  {
   "cell_type": "code",
   "execution_count": null,
   "id": "3f07496f",
   "metadata": {},
   "outputs": [],
   "source": [
    "min(int_arr)"
   ]
  },
  {
   "cell_type": "code",
   "execution_count": null,
   "id": "3e81edba",
   "metadata": {},
   "outputs": [],
   "source": [
    "max(str_arr)"
   ]
  },
  {
   "cell_type": "markdown",
   "id": "722843a9",
   "metadata": {},
   "source": [
    "`sum()`"
   ]
  },
  {
   "cell_type": "code",
   "execution_count": null,
   "id": "f0d94d07",
   "metadata": {},
   "outputs": [],
   "source": [
    "sum(int_arr)"
   ]
  },
  {
   "cell_type": "code",
   "execution_count": null,
   "id": "74b4c629",
   "metadata": {
    "scrolled": true
   },
   "outputs": [],
   "source": [
    "sum(str_arr)"
   ]
  },
  {
   "cell_type": "markdown",
   "id": "730bee35",
   "metadata": {},
   "source": [
    "## Quick Check 1\n",
    "How would you compute the average of an array arr?"
   ]
  },
  {
   "cell_type": "code",
   "execution_count": null,
   "id": "b572ef5b",
   "metadata": {},
   "outputs": [],
   "source": [
    "arr = make_array(30, -40, -4.5, 0, 35)\n",
    "avg = sum(arr)/len(arr)\n",
    "avg"
   ]
  },
  {
   "cell_type": "markdown",
   "id": "b4b64ac1",
   "metadata": {},
   "source": [
    "## NumPy Functions"
   ]
  },
  {
   "cell_type": "code",
   "execution_count": null,
   "id": "55ca0f9f",
   "metadata": {},
   "outputs": [],
   "source": [
    "import numpy as np"
   ]
  },
  {
   "cell_type": "markdown",
   "id": "b016439a",
   "metadata": {},
   "source": [
    "Elementwise functions"
   ]
  },
  {
   "cell_type": "code",
   "execution_count": null,
   "id": "e94298eb",
   "metadata": {},
   "outputs": [],
   "source": [
    "numbers_arr = make_array(5, 4, 9, 12, 100)\n",
    "numbers_arr"
   ]
  },
  {
   "cell_type": "code",
   "execution_count": null,
   "id": "d255ea7b",
   "metadata": {},
   "outputs": [],
   "source": [
    "np.sqrt(numbers_arr)"
   ]
  },
  {
   "cell_type": "code",
   "execution_count": null,
   "id": "788bb503",
   "metadata": {
    "scrolled": true
   },
   "outputs": [],
   "source": [
    "np.log(numbers_arr)   # natural log"
   ]
  },
  {
   "cell_type": "code",
   "execution_count": null,
   "id": "e957300a",
   "metadata": {},
   "outputs": [],
   "source": [
    "np.log10(numbers_arr) # log base 10"
   ]
  },
  {
   "cell_type": "code",
   "execution_count": null,
   "id": "53a29c4f",
   "metadata": {},
   "outputs": [],
   "source": [
    "np.sin(numbers_arr)"
   ]
  },
  {
   "cell_type": "code",
   "execution_count": null,
   "id": "d9923a92",
   "metadata": {
    "scrolled": true
   },
   "outputs": [],
   "source": [
    "np.sqrt(144)"
   ]
  },
  {
   "cell_type": "markdown",
   "id": "9eaa9f1d",
   "metadata": {},
   "source": [
    "Common functions"
   ]
  },
  {
   "cell_type": "code",
   "execution_count": null,
   "id": "bc03eda2",
   "metadata": {},
   "outputs": [],
   "source": [
    "pop_2020"
   ]
  },
  {
   "cell_type": "code",
   "execution_count": null,
   "id": "51a52335",
   "metadata": {},
   "outputs": [],
   "source": [
    "np.mean(pop_2020)"
   ]
  },
  {
   "cell_type": "code",
   "execution_count": null,
   "id": "a434ce14",
   "metadata": {},
   "outputs": [],
   "source": [
    "np.average(pop_2020)"
   ]
  },
  {
   "cell_type": "code",
   "execution_count": null,
   "id": "cfd21b08",
   "metadata": {},
   "outputs": [],
   "source": [
    "np.sum(pop_2020)"
   ]
  },
  {
   "cell_type": "code",
   "execution_count": null,
   "id": "e1568fe2",
   "metadata": {},
   "outputs": [],
   "source": [
    "np.prod(pop_2020)"
   ]
  },
  {
   "cell_type": "code",
   "execution_count": null,
   "id": "ff9bd1ed",
   "metadata": {},
   "outputs": [],
   "source": [
    "np.count_nonzero(make_array(1, 2, 3, 0, 4, 0, -5))"
   ]
  },
  {
   "cell_type": "markdown",
   "id": "84d05587",
   "metadata": {},
   "source": [
    "### Even More Functions"
   ]
  },
  {
   "cell_type": "code",
   "execution_count": null,
   "id": "6154b1c8",
   "metadata": {},
   "outputs": [],
   "source": [
    "daily_high_temps = make_array(73, 71, 69, 72, 76, 74, 75)\n",
    "daily_high_temps"
   ]
  },
  {
   "cell_type": "code",
   "execution_count": null,
   "id": "f07fd3b1",
   "metadata": {},
   "outputs": [],
   "source": [
    "np.diff(daily_high_temps)"
   ]
  },
  {
   "cell_type": "code",
   "execution_count": null,
   "id": "adae1236",
   "metadata": {},
   "outputs": [],
   "source": [
    "pop_by_year = make_array(23, 45, 93, 101, 118)\n",
    "pop_by_year"
   ]
  },
  {
   "cell_type": "code",
   "execution_count": null,
   "id": "aa4b561a",
   "metadata": {},
   "outputs": [],
   "source": [
    "np.cumsum(pop_by_year)"
   ]
  },
  {
   "cell_type": "code",
   "execution_count": null,
   "id": "5028d11e",
   "metadata": {},
   "outputs": [],
   "source": [
    "sq_array = make_array(1, 4, 9, 16, 25)\n",
    "sq_array"
   ]
  },
  {
   "cell_type": "code",
   "execution_count": null,
   "id": "1b1094f8",
   "metadata": {},
   "outputs": [],
   "source": [
    "type(sq_array)"
   ]
  },
  {
   "cell_type": "code",
   "execution_count": null,
   "id": "84ce5dd7",
   "metadata": {},
   "outputs": [],
   "source": [
    "int_arr = make_array(3, -4, 0, 5, 2)\n",
    "int_arr"
   ]
  },
  {
   "cell_type": "code",
   "execution_count": null,
   "id": "e563eff4",
   "metadata": {},
   "outputs": [],
   "source": [
    "int_arr.item(0)"
   ]
  },
  {
   "cell_type": "code",
   "execution_count": null,
   "id": "ab84e513",
   "metadata": {},
   "outputs": [],
   "source": [
    "int_arr.item(3)"
   ]
  },
  {
   "cell_type": "code",
   "execution_count": null,
   "id": "9b620dbb",
   "metadata": {},
   "outputs": [],
   "source": [
    "int_arr.item(5)"
   ]
  },
  {
   "cell_type": "code",
   "execution_count": null,
   "id": "05c016d9",
   "metadata": {},
   "outputs": [],
   "source": [
    "int_arr.item(len(int_arr) - 1)"
   ]
  },
  {
   "cell_type": "code",
   "execution_count": null,
   "id": "f6b130d5",
   "metadata": {},
   "outputs": [],
   "source": [
    "int_arr.item(-1)"
   ]
  },
  {
   "cell_type": "code",
   "execution_count": null,
   "id": "862507a7",
   "metadata": {},
   "outputs": [],
   "source": [
    "int_arr.item(-3)"
   ]
  },
  {
   "cell_type": "code",
   "execution_count": null,
   "id": "4e15c46f",
   "metadata": {},
   "outputs": [],
   "source": [
    "np.arange(10)"
   ]
  },
  {
   "cell_type": "code",
   "execution_count": null,
   "id": "5cc1cd52",
   "metadata": {},
   "outputs": [],
   "source": [
    "arr = np.arange(3, 9)\n",
    "arr"
   ]
  },
  {
   "cell_type": "code",
   "execution_count": null,
   "id": "dc219113",
   "metadata": {},
   "outputs": [],
   "source": [
    "np.arange(3, 9, 3)"
   ]
  },
  {
   "cell_type": "code",
   "execution_count": null,
   "id": "e419d0b6",
   "metadata": {},
   "outputs": [],
   "source": [
    "arr = np.arange(1, 11)\n",
    "arr"
   ]
  },
  {
   "cell_type": "code",
   "execution_count": null,
   "id": "9c963c50",
   "metadata": {},
   "outputs": [],
   "source": [
    "np.sum(arr)"
   ]
  },
  {
   "cell_type": "code",
   "execution_count": null,
   "id": "7c99e5fb",
   "metadata": {},
   "outputs": [],
   "source": [
    "np.arange(3, 11, 2)"
   ]
  },
  {
   "cell_type": "code",
   "execution_count": null,
   "id": "fef38a67",
   "metadata": {},
   "outputs": [],
   "source": [
    "np.arange(10, 1, -3)"
   ]
  },
  {
   "cell_type": "markdown",
   "id": "3ce23eed",
   "metadata": {},
   "source": [
    "# Indexing"
   ]
  },
  {
   "cell_type": "code",
   "execution_count": null,
   "id": "96f6f3e4",
   "metadata": {},
   "outputs": [],
   "source": [
    "test_array = make_array(10, 14, 67, -1.5, 3.2, 2.72, 104, 81, 3.14159)"
   ]
  },
  {
   "cell_type": "code",
   "execution_count": null,
   "id": "8c15eef9",
   "metadata": {},
   "outputs": [],
   "source": [
    "# first (0th element)\n",
    "test_array.item(0)"
   ]
  },
  {
   "cell_type": "code",
   "execution_count": null,
   "id": "5e3494ec",
   "metadata": {},
   "outputs": [],
   "source": [
    "# second (1st element)\n",
    "test_array.item(1)"
   ]
  },
  {
   "cell_type": "code",
   "execution_count": null,
   "id": "997dc25c",
   "metadata": {},
   "outputs": [],
   "source": [
    "# last element\n",
    "test_array.item(len(test_array) - 1)\n",
    "# OR \n",
    "test_array.item(-1)"
   ]
  },
  {
   "cell_type": "code",
   "execution_count": null,
   "id": "ebc02691",
   "metadata": {},
   "outputs": [],
   "source": [
    "# second to last element\n",
    "test_array.item(-2)"
   ]
  },
  {
   "cell_type": "markdown",
   "id": "76ae3612",
   "metadata": {},
   "source": [
    "## Quick Check 2\n",
    "What is the value of `five` after running this code?"
   ]
  },
  {
   "cell_type": "code",
   "execution_count": null,
   "id": "e15d1e97",
   "metadata": {},
   "outputs": [],
   "source": [
    "threes = make_array(3, 6, 9, 12, 15)\n",
    "five = threes.item(-1) + threes.item(1)\n",
    "five"
   ]
  }
 ],
 "metadata": {
  "kernelspec": {
   "display_name": "Python 3 (ipykernel)",
   "language": "python",
   "name": "python3"
  },
  "language_info": {
   "codemirror_mode": {
    "name": "ipython",
    "version": 3
   },
   "file_extension": ".py",
   "mimetype": "text/x-python",
   "name": "python",
   "nbconvert_exporter": "python",
   "pygments_lexer": "ipython3",
   "version": "3.11.2"
  }
 },
 "nbformat": 4,
 "nbformat_minor": 5
}
