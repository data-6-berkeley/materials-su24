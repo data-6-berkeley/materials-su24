{
 "cells": [
  {
   "cell_type": "code",
   "execution_count": null,
   "metadata": {
    "deletable": false,
    "editable": false
   },
   "outputs": [],
   "source": [
    "# Initialize Otter\n",
    "import otter\n",
    "grader = otter.Notebook(\"hw04.ipynb\")"
   ]
  },
  {
   "cell_type": "markdown",
   "metadata": {},
   "source": [
    "<img src=\"data6.png\" style=\"width: 15%; float: right; padding: 1%; margin-right: 2%;\"/>\n",
    "\n",
    "# Homework 4 \u2013 Control, Iteration, and Strings\n",
    "\n",
    "## Data 6, Summer 2024\n",
    "\n",
    "In this homework assignment, you will apply what you've learned about `if`-statements, `while` loops, string manipulation, and `for` loops.\n",
    "\n",
    "This homework is due on **Thursday, August 1st at 11:00PM**. You must submit the assignment to Gradescope. Submission instructions can be found at the bottom of this notebook. See the [Course Website](https://data6.org/su24/submissions/) for our late submission policy."
   ]
  },
  {
   "cell_type": "code",
   "execution_count": null,
   "metadata": {},
   "outputs": [],
   "source": [
    "# Don't worry about what this cell does, just run it.\n",
    "from datascience import *\n",
    "import numpy as np\n",
    "from IPython.display import YouTubeVideo, HTML, display\n",
    "from ipywidgets import interact, widgets"
   ]
  },
  {
   "cell_type": "markdown",
   "metadata": {},
   "source": [
    "<hr style=\"border: 5px solid #003262;\" />\n",
    "<hr style=\"border: 1px solid #fdb515;\" />\n",
    "\n",
    "\n",
    "# Part 1: Control Flow\n",
    "\n",
    "<br></br>\n",
    "<hr style=\"border: 1px solid #fdb515;\" />\n",
    "\n",
    "# Question 1 \u2013 Short-Circuit\n",
    "\n",
    "Your friend Edwin has defined the function `some_equal`, which takes in three arguments, `a`, `b`, and `c`. Edwin wants `some_equal` to return `True` if *at least two* of `a`, `b`, and `c` are equal to one another, and `False` otherwise; his implementation is defined in the following cell:"
   ]
  },
  {
   "cell_type": "code",
   "execution_count": null,
   "metadata": {},
   "outputs": [],
   "source": [
    "def some_equal(a, b, c):\n",
    "    return a == b or b == c or a == c or 1/0"
   ]
  },
  {
   "cell_type": "markdown",
   "metadata": {},
   "source": [
    "Sometimes, `some_equal` works:"
   ]
  },
  {
   "cell_type": "code",
   "execution_count": null,
   "metadata": {},
   "outputs": [],
   "source": [
    "some_equal('hey', 'hi', 'hey')"
   ]
  },
  {
   "cell_type": "code",
   "execution_count": null,
   "metadata": {},
   "outputs": [],
   "source": [
    "some_equal(3, 3, 3)"
   ]
  },
  {
   "cell_type": "markdown",
   "metadata": {},
   "source": [
    "But other times..."
   ]
  },
  {
   "cell_type": "code",
   "execution_count": null,
   "metadata": {
    "tags": [
     "raises-exception"
    ]
   },
   "outputs": [],
   "source": [
    "some_equal(1, 2, 4)"
   ]
  },
  {
   "cell_type": "markdown",
   "metadata": {},
   "source": [
    "<!-- BEGIN QUESTION -->\n",
    "\n",
    "Josh shows you his code and asks:\n",
    "> \"Why don't I get a `division by zero` error in the first two examples?\"\n",
    "\n",
    "Your job is to use the internet to figure out what's happening and to come up with an answer for Edwin **in your own words**. Write your answer in the cell below.\n",
    "\n",
    "_Hint_: Search online for \"short-circuiting in Python\". Don't hesitate to ask on Ed or in office hours if you're not sure!\n"
   ]
  },
  {
   "cell_type": "markdown",
   "metadata": {},
   "source": [
    "_Type your answer here, replacing this text._"
   ]
  },
  {
   "cell_type": "markdown",
   "metadata": {},
   "source": [
    "<!-- END QUESTION -->\n",
    "\n",
    "<br></br>\n",
    "<hr style=\"border: 1px solid #fdb515;\" />\n",
    "\n",
    "# Question 2 \u2013 Death and Taxes\n",
    "\n",
    "The United States, like many countries, uses a progressive tax bracket system. This means that as your earnings increase, the percentage of your earnings you owe in tax also increases. In addition, the US tax system uses marginal tax brackets \u2013 what this means is that US taxpayers pay different tax percentages on different \"chunks\" of their earnings.\n",
    "\n",
    "Let's suppose the tax brackets for the 2023 tax year are defined by the table below. This is pretty close to the actual bracket, but for simplicities' sake we'll use 4 brackets instead of 7.\n",
    "\n",
    "| Tax Rate | Taxable Income |\n",
    "| --- | --- |\n",
    "| 10% | \\$0 to \\$11,000 |\n",
    "| 12% | \\$11,001 to \\$44,725 |\n",
    "| 22% | \\$44,726 to \\$95,375 |\n",
    "| 24% | \\$95,376 or more |\n",
    "\n",
    "**You will need to use these numbers throughout this question.**\n",
    "\n",
    "A few notes:\n",
    "- We will assume all incomes are integers.\n",
    "- \"Taxable Income\" refers to the part of ones income that is taxable; in the US there is what's known as a \"standard deduction\" which can be thought of as a discount on your taxes. In this assignment, we won't worry about deductions.\n",
    "\n",
    "If someone has a taxable income of \\$60,000, we say they are in the 22% tax bracket. However, such an individual doesn't owe 22% of \\$60,000 in taxes. Instead, they owe:\n",
    "- 10% of \\$11,000, **plus**\n",
    "- 12% of \\$33725 (\\$44,725 - \\$11,000), **plus**\n",
    "- 22% of \\$15,275 (\\$60,000 - \\$44,725)\n",
    "\n",
    "for a total of \\$8,507.50 ($ 0.1 \\cdot \\$11,000 + 0.12 \\cdot \\$33,725 + 0.22 \\cdot \\$15,275 = \\$8,507.50 $). This makes their effective tax rate $\\frac{8508}{60000} \\approx 0.1418$, or about 14.18%.\n",
    "\n",
    "If you want to read more about the US federal income tax system, click [here](https://www.taxpolicycenter.org/briefing-book/how-do-federal-income-tax-rates-work)."
   ]
  },
  {
   "cell_type": "markdown",
   "metadata": {},
   "source": [
    "---\n",
    "## Question 2a\n",
    "\n",
    "Complete the implementation of the function `tax_bracket`, which takes in a taxable income as a number (`income`) and returns the tax bracket (as a decimal) it is in. For instance, `tax_bracket(60000)` should evaluate to `0.22` and `tax_bracket(402150)` should evaluate to `0.24`.\n",
    "\n",
    "_Hint_: Use what you know about `if-elif-else` blocks to your advantage!\n"
   ]
  },
  {
   "cell_type": "code",
   "execution_count": null,
   "metadata": {
    "tags": []
   },
   "outputs": [],
   "source": [
    "def tax_bracket(income):\n",
    "    if ...:\n",
    "        ...\n",
    "    elif ...:\n",
    "        ...\n",
    "    elif:\n",
    "        ...\n",
    "    else:\n",
    "    ..."
   ]
  },
  {
   "cell_type": "code",
   "execution_count": null,
   "metadata": {
    "deletable": false,
    "editable": false
   },
   "outputs": [],
   "source": [
    "grader.check(\"q2a\")"
   ]
  },
  {
   "cell_type": "markdown",
   "metadata": {},
   "source": [
    "---\n",
    "## Question 2b\n",
    "\n",
    "Complete the implementation of `tax_owed`, which takes in a taxable income (`income`) and returns the amount of tax owed by an individual with that taxable income. For instance, `tax_owed(60000)` should evaluate to `8507.5`.\n",
    "\n",
    "**Note**: The code you write for this question might get a little long \u2013 but that's okay! Take it one step at a time.\n",
    "\n",
    "For your convenience, here's the tax bracket table again:\n",
    "\n",
    "| Tax Rate | Taxable Income |\n",
    "| --- | --- |\n",
    "| 10% | \\$0 to \\$11,000 |\n",
    "| 12% | \\$11,001 to \\$44,725 |\n",
    "| 22% | \\$44,726 to \\$95,375 |\n",
    "| 24% | \\$95,376 or more |\n"
   ]
  },
  {
   "cell_type": "code",
   "execution_count": null,
   "metadata": {
    "tags": []
   },
   "outputs": [],
   "source": [
    "def tax_owed(income):\n",
    "    if ...:\n",
    "        ...\n",
    "    elif ...:\n",
    "        ...\n",
    "    elif:\n",
    "        ...\n",
    "    else:\n",
    "    ..."
   ]
  },
  {
   "cell_type": "code",
   "execution_count": null,
   "metadata": {
    "deletable": false,
    "editable": false
   },
   "outputs": [],
   "source": [
    "grader.check(\"q2b\")"
   ]
  },
  {
   "cell_type": "markdown",
   "metadata": {},
   "source": [
    "---\n",
    "## Question 2c\n",
    "\n",
    "Finally, complete the implementation of `effective_tax_rate`, which takes in a taxable income (`income`) and returns the effective tax rate for an individual with that taxable income, as a decimal. For instance, `effective_tax_rate(60000)` should evaluate to approximately `0.149833`.\n",
    "\n",
    "*Note*: If `income` is 0, your `effective_tax_rate` function should also return 0. Make sure you handle this case in your function!\n",
    "\n",
    "_Hint_: You should use your `tax_owed` function. Our entire solution is only three lines, but you may use more than that if necessary."
   ]
  },
  {
   "cell_type": "code",
   "execution_count": null,
   "metadata": {
    "tags": []
   },
   "outputs": [],
   "source": [
    "def effective_tax_rate(income):\n",
    "    ..."
   ]
  },
  {
   "cell_type": "code",
   "execution_count": null,
   "metadata": {
    "deletable": false,
    "editable": false
   },
   "outputs": [],
   "source": [
    "grader.check(\"q2c\")"
   ]
  },
  {
   "cell_type": "markdown",
   "metadata": {},
   "source": [
    "---\n",
    "## Fun Demo\n",
    "\n",
    "You just did all of the math necessary to build an income tax calculator, like the ones you see on many financial websites. Run the following cell once you've completed the rest of this question!"
   ]
  },
  {
   "cell_type": "code",
   "execution_count": null,
   "metadata": {},
   "outputs": [],
   "source": [
    "# Don't worry about the code, just play with the slider that appears after running.\n",
    "def plot_income_calculator(income):\n",
    "    s = f'''\n",
    "    <div style=\"font-family: Arial, sans-serif; text-align: center;\">\n",
    "        <div style=\"margin-bottom: 20px;\">\n",
    "            <h1 style=\"font-size: 36px; color: #80B2D9;\">${'{:,.2f}'.format(income)}</h1>\n",
    "            <h3 style=\"color: #6c757d;\">Taxable Income</h3>\n",
    "        </div>\n",
    "        \n",
    "        <div style=\"margin-bottom: 20px;\">\n",
    "            <h1 style=\"font-size: 36px; color: #AAE895;\">${'{:,.2f}'.format(tax_owed(income))}</h1>\n",
    "            <h3 style=\"color: #6c757d;\">Tax Owed</h3>\n",
    "        </div>\n",
    "        \n",
    "        <div>\n",
    "            <h1 style=\"font-size: 36px; color: #F99D81;\">{'{:,.1f}'.format((100 * effective_tax_rate(income))) + '%'}</h1>\n",
    "            <h3 style=\"color: #6c757d;\">Effective Tax Rate</h3>\n",
    "        </div>\n",
    "    </div>\n",
    "    '''\n",
    "    \n",
    "    display(HTML(s))\n",
    "    \n",
    "interact(plot_income_calculator, income=widgets.IntSlider(min=0, max=200000, step=500, value=100000));"
   ]
  },
  {
   "cell_type": "markdown",
   "metadata": {},
   "source": [
    "<hr style=\"border: 5px solid #003262;\" />\n",
    "<hr style=\"border: 1px solid #fdb515;\" />\n",
    "\n",
    "# Part 2: `for` Loops\n",
    "\n",
    "<br></br>\n",
    "<hr style=\"border: 1px solid #fdb515;\" />\n",
    "\n",
    "# Question 3 \u2013 For Loop Fundamentals \n",
    "\n",
    "In this problem, you will practice writing for loops. For reference, the function `sum_first_n` defined below computes the sum of the first `n` positive integers."
   ]
  },
  {
   "cell_type": "code",
   "execution_count": null,
   "metadata": {},
   "outputs": [],
   "source": [
    "# Run this cell!\n",
    "def sum_first_n(n):\n",
    "    total = 0\n",
    "    for i in np.arange(1, n + 1):\n",
    "        total = total + i\n",
    "    return total"
   ]
  },
  {
   "cell_type": "code",
   "execution_count": null,
   "metadata": {},
   "outputs": [],
   "source": [
    "# 1 + 2 + 3\n",
    "sum_first_n(3)"
   ]
  },
  {
   "cell_type": "code",
   "execution_count": null,
   "metadata": {},
   "outputs": [],
   "source": [
    "# 1 + 2 + 3 + 4 + 5 + 6 + 7 + 8 + 9 + 10\n",
    "sum_first_n(10)"
   ]
  },
  {
   "cell_type": "markdown",
   "metadata": {},
   "source": [
    "---\n",
    "## Question 3a\n",
    "\n",
    "Complete the implementation of the function `sum_first_n_cubes`, which takes in an integer `n` and returns the sum of the cubes of the first `n` positive integers. Example behavior is shown below. The code next to `>>>` is an example function call, and the following line is the desired output of that function call.\n",
    "\n",
    "```python\n",
    ">>> sum_first_n_squares(3) \n",
    "14 # 1^3 + 2^3 + 3^3\n",
    "\n",
    ">>> sum_first_n_squares(10)\n",
    "385 # 1^3 + 2^3 + 3^3 + ... + 9^3 + 10^3\n",
    "```\n",
    "*Hint*: Start with the example for loop given above; you should not have to modify much.\n"
   ]
  },
  {
   "cell_type": "code",
   "execution_count": null,
   "metadata": {
    "tags": []
   },
   "outputs": [],
   "source": [
    "def sum_first_n_cubes(n):\n",
    "    ..."
   ]
  },
  {
   "cell_type": "code",
   "execution_count": null,
   "metadata": {
    "deletable": false,
    "editable": false
   },
   "outputs": [],
   "source": [
    "grader.check(\"q3a\")"
   ]
  },
  {
   "cell_type": "markdown",
   "metadata": {},
   "source": [
    "---\n",
    "## Question 3b\n",
    "\n",
    "Complete the implementation of the function `alternating_product`, which takes in an array of numbers `values` and returns the product of every third in `values`, starting with element `0`. Example behavior is shown below.\n",
    "\n",
    "```py\n",
    ">>> alternating_product(make_array(2, 8.5, 1, 9))\n",
    "18 # 2 * 9\n",
    "\n",
    ">>> alternating_product(make_array(2, 8.5, 9, 4.5, 1))\n",
    "9.0 # 2 * 4.5\n",
    "```\n",
    "\n",
    "*Hint*: Review how `np.arange` works \u2013 in particular, `np.arange(start, stop, step)`.\n"
   ]
  },
  {
   "cell_type": "code",
   "execution_count": null,
   "metadata": {
    "tags": []
   },
   "outputs": [],
   "source": [
    "def alternating_product(values):\n",
    "    ..."
   ]
  },
  {
   "cell_type": "code",
   "execution_count": null,
   "metadata": {
    "deletable": false,
    "editable": false
   },
   "outputs": [],
   "source": [
    "grader.check(\"q3b\")"
   ]
  },
  {
   "cell_type": "markdown",
   "metadata": {},
   "source": [
    "---\n",
    "## Question 3c\n",
    "\n",
    "Complete the implementation of the function `only_uppercase`, which takes in a string `s` and returns a new string containing only the uppercase characters in `s`. Example behavior is shown below.\n",
    "\n",
    "```py\n",
    ">>> only_uppercase('University of California, BerkelEY')\n",
    "'UCBEY'\n",
    "\n",
    ">>> only_uppercase('now THiS!')\n",
    "'THS'\n",
    "```\n",
    "\n",
    "*Hint*: Use `.isupper()` on each character individually. Confused about what `.isupper()` will do? Try checking its documentation by Googling the function name.\n"
   ]
  },
  {
   "cell_type": "code",
   "execution_count": null,
   "metadata": {
    "tags": []
   },
   "outputs": [],
   "source": [
    "def only_uppercase(s):\n",
    "    output = ''\n",
    "    for char in s:\n",
    "        ...\n",
    "    return output"
   ]
  },
  {
   "cell_type": "code",
   "execution_count": null,
   "metadata": {
    "deletable": false,
    "editable": false
   },
   "outputs": [],
   "source": [
    "grader.check(\"q3c\")"
   ]
  },
  {
   "cell_type": "markdown",
   "metadata": {},
   "source": [
    "<br></br>\n",
    "<hr style=\"border: 1px solid #fdb515;\" />\n",
    "\n",
    "# Question 4 \u2013 Billboard Charts \ud83d\udcc8\n",
    "\n",
    "Run the cell below to load in data from the Billboard charts in the 2010s. If you're unfamiliar with the *Billboard Top 100*, you can read about the chart [here](https://www.billboard.com/charts/)."
   ]
  },
  {
   "cell_type": "code",
   "execution_count": null,
   "metadata": {},
   "outputs": [],
   "source": [
    "# Run this cell!\n",
    "billboard = Table.read_table('billboard-2010.csv')\n",
    "billboard"
   ]
  },
  {
   "cell_type": "markdown",
   "metadata": {},
   "source": [
    "Artists and fans alike like to keep track of the most consecutive weeks a song has been ranked #1 on the Billboard 200. For example, run the cell below to look at data regarding Drake's hit \"One Dance\" from 2016:"
   ]
  },
  {
   "cell_type": "code",
   "execution_count": null,
   "metadata": {},
   "outputs": [],
   "source": [
    "# Run this cell!\n",
    "billboard.where('Name', 'One Dance').select('Artists', 'Name', 'Week', 'Weekly.rank').sort('Week').show(15)"
   ]
  },
  {
   "cell_type": "markdown",
   "metadata": {},
   "source": [
    "According to the above table, it seems like One Dance was ranked #1 for 9 consecutive weeks at one point \u2013 pretty impressive!\n",
    "\n",
    "---\n",
    "## Question 4a\n",
    "Below, complete the implementation of the function `one_streak`, which takes in an array `charts` representing the position of a song in the Billboard 200 over several consecutive weeks and returns the most consecutive weeks that song was ranked **#1.** Example behavior is shown below.\n",
    "\n",
    "```py\n",
    ">>> one_streak(make_array(13, 3, 2, 1, 2, 1, 1, 1, 1, 1, 1, 1, 1, 1, 2, 3, 2, 5, 7, 8))\n",
    "9\n",
    "\n",
    ">>> one_streak(make_array(4, 1, 1, 1, 2, 3, 11, 1, 1, 1, 1, 1))\n",
    "5\n",
    "\n",
    ">>> one_streak(make_array(5, 4, 1, 1, 1, 3, 2, 1, 2, 3))\n",
    "3\n",
    "```\n"
   ]
  },
  {
   "cell_type": "code",
   "execution_count": null,
   "metadata": {
    "tags": []
   },
   "outputs": [],
   "source": [
    "def one_streak(charts):\n",
    "    longest = ...\n",
    "    current = ...\n",
    "    for num in charts:\n",
    "        if num == 1:\n",
    "            current = ...\n",
    "        else:\n",
    "            longest = ...\n",
    "            current = ...\n",
    "\n",
    "    # Ask yourself \u2013 why are we returning max(longest, current) instead of just current?\n",
    "    return max(longest, current)"
   ]
  },
  {
   "cell_type": "code",
   "execution_count": null,
   "metadata": {
    "deletable": false,
    "editable": false
   },
   "outputs": [],
   "source": [
    "grader.check(\"q4a\")"
   ]
  },
  {
   "cell_type": "markdown",
   "metadata": {},
   "source": [
    "---\n",
    "## Question 4b\n",
    "\n",
    "Now that you've successfully defined the `one_streak` function, it's time to put it to use! In the following cell, assign `feeling_streak` to the most consecutive weeks that **I Gotta Feeling by the Black Eye Peas** was ranked #1 on the *Billboard Hot 100*.\n",
    "\n",
    "*Hint*: You'll need to use the `billboard` table.\n"
   ]
  },
  {
   "cell_type": "code",
   "execution_count": null,
   "metadata": {
    "tags": []
   },
   "outputs": [],
   "source": [
    "feeling_array = ...\n",
    "feeling_streak = ...\n",
    "feeling_streak"
   ]
  },
  {
   "cell_type": "code",
   "execution_count": null,
   "metadata": {
    "deletable": false,
    "editable": false
   },
   "outputs": [],
   "source": [
    "grader.check(\"q4b\")"
   ]
  },
  {
   "cell_type": "markdown",
   "metadata": {},
   "source": [
    "---\n",
    "## Question 4c\n",
    "\n",
    "Now, using what you have learned up to this point, find the longest artist streak, meaning the longest streak in which the artist has held the $\\#1$ spot, for the artist who spent the most weeks with a song ranked $\\#1$ in the `billboard` table. \n",
    "\n",
    "**Assign that value to `top_artist_streak` and assign the name of the Artist to `top_ranked_artist`**. You may use as many lines as you'd like.\n",
    "\n",
    "**The correct answer tests are hidden for this question**\n",
    "\n",
    "This question may be challenging, but remember to chunk it into smaller pieces and use the [reference sheet](https://data6.org/su23/reference) when you need it.\n",
    "\n",
    "*Hint*: You'll need to use multiple methods for this question\n"
   ]
  },
  {
   "cell_type": "code",
   "execution_count": null,
   "metadata": {
    "tags": []
   },
   "outputs": [],
   "source": [
    "...\n",
    "top_ranked_artist = ...\n",
    "...\n",
    "top_artist_streak = ..."
   ]
  },
  {
   "cell_type": "code",
   "execution_count": null,
   "metadata": {
    "deletable": false,
    "editable": false
   },
   "outputs": [],
   "source": [
    "grader.check(\"q4c\")"
   ]
  },
  {
   "cell_type": "markdown",
   "metadata": {},
   "source": [
    "<hr style=\"border: 5px solid #003262;\" />\n",
    "<hr style=\"border: 1px solid #fdb515;\" />\n",
    "\n",
    "# Part 3: `while` Loops\n",
    "\n",
    "<br></br>\n",
    "<hr style=\"border: 1px solid #fdb515;\" />\n",
    "\n",
    "# Question 5 \u2013 FizzBuzz\n",
    "\n",
    "[FizzBuzz](https://en.wikipedia.org/wiki/Fizz_buzz) is a game and common programming challenge. It is described below.\n",
    "\n",
    "> Players generally sit in a circle. The player designated to go first says the number \"1\", and the players then count upwards in turn. However, any number divisible by three is replaced by the word \"fizz\" and any number divisible by five by the word \"buzz\". Numbers divisible by 15 become \"fizz buzz\". A player who hesitates or makes a mistake is eliminated from the game.\n",
    "\n",
    "In this problem, you will write a function that computes the \"FizzBuzz sequence.\" We'll practice using `while` loops to do this."
   ]
  },
  {
   "cell_type": "markdown",
   "metadata": {},
   "source": [
    "---\n",
    "## Question 5a\n",
    "\n",
    "Complete the implementation of the function `single_number`, which takes in an integer (`n`) greater than or equal to 1 and returns the corresponding number or word in the FizzBuzz sequence, **as a string**. For instance, `single_number(2)` should evaluate to `'2'`, and `single_number(30)` should evaluate to `'fizz buzz'`.\n",
    "\n",
    "_Hint_: Use the remainder operator `%`.\n"
   ]
  },
  {
   "cell_type": "code",
   "execution_count": null,
   "metadata": {
    "tags": []
   },
   "outputs": [],
   "source": [
    "def single_number(n):\n",
    "    ..."
   ]
  },
  {
   "cell_type": "code",
   "execution_count": null,
   "metadata": {
    "deletable": false,
    "editable": false
   },
   "outputs": [],
   "source": [
    "grader.check(\"q5a\")"
   ]
  },
  {
   "cell_type": "markdown",
   "metadata": {},
   "source": [
    "---\n",
    "## Question 5b\n",
    "\n",
    "Complete the implementation of the function `fizz_buzz_sequence`, which takes in an integer (`n`) greater than or equal to 1 and returns an array of length `n` containing the first `n` elements of the FizzBuzz sequence.\n",
    "\n",
    "For instance, `fizz_buzz_sequence(8)` should evaluate to the array `array(['1', '2', 'fizz', '4', 'buzz', 'fizz', '7', '8'])`.\n",
    "\n",
    "_Hint_: Use `np.append`, and make sure to increment `i`. For more information on `np.append`, you can reference the `NumPy` documentation [here](https://numpy.org/doc/stable/reference/generated/numpy.append.html). \n"
   ]
  },
  {
   "cell_type": "code",
   "execution_count": null,
   "metadata": {
    "tags": []
   },
   "outputs": [],
   "source": [
    "def fizz_buzz_sequence(n):\n",
    "    i = 1\n",
    "    sequence = make_array()\n",
    "    while i <= n:\n",
    "        ...\n",
    "    return sequence"
   ]
  },
  {
   "cell_type": "code",
   "execution_count": null,
   "metadata": {
    "deletable": false,
    "editable": false
   },
   "outputs": [],
   "source": [
    "grader.check(\"q5b\")"
   ]
  },
  {
   "cell_type": "markdown",
   "metadata": {},
   "source": [
    "# Done!\n",
    "\n",
    "Congrats!\n",
    "\n",
    "The point breakdown for this assignment is given in the table below:\n",
    "\n",
    "| **Category** | Points |\n",
    "| --- | --- |\n",
    "| Autograder | 28 |\n",
    "| Written  | 2 |\n",
    "| **Total** | 30 |"
   ]
  },
  {
   "attachments": {},
   "cell_type": "markdown",
   "metadata": {},
   "source": [
    "## Pets of Data 6\n",
    "**Bella** was very excited that you finished HW4!!! She tried going to you, but found herself stuck :O\n",
    "\n",
    "<img src=\"bella.jpg\" width=\"50%\" alt=\"A dog called Bella stuck in between the fence\"/>"
   ]
  },
  {
   "cell_type": "markdown",
   "metadata": {},
   "source": [
    "## Submission\n",
    "\n",
    "Below, you will see two cells. Running the first cell will automatically generate a PDF of all questions that need to be manually graded, and running the second cell will automatically generate a zip with your autograded answers. You are responsible for submitting both the coding portion (the zip) and the written portion (the PDF) to their respective Gradescope portals. **Please save before exporting!**\n",
    "\n",
    "> **Important: You must correctly assign the pages of your PDF after you submit to the correct gradescope assignment. If your pages are not correctly assigned and/or not in the correct PDF format by the deadline, we reserve the right to award no points for your written work.**\n",
    "\n",
    "If there are issues with automatically generating the PDF in the first cell, you can try downloading the notebook as a PDF by colicking on `File -> Save and Export Notebook As... -> PDF`. If that doesn't work either, you can manually take screenshots of your answers to the manually graded questions and submit those. Either way, **you are responsible for ensuring your submision follows our requirements, we will NOT be granting regrade requests for submissions that don't follow instructions.**"
   ]
  },
  {
   "cell_type": "code",
   "execution_count": null,
   "metadata": {},
   "outputs": [],
   "source": [
    "from otter.export import export_notebook\n",
    "from os import path\n",
    "from IPython.display import display, HTML\n",
    "name = 'hw04'\n",
    "export_notebook(f\"{name}.ipynb\", filtering=True, pagebreaks=True)\n",
    "if(path.exists(f'{name}.pdf')):\n",
    "    display(HTML(f\"Download your PDF <a href='{name}.pdf' download>here</a>.\"))\n",
    "else:\n",
    "    print(\"\\n Pdf generation failed, please try the other methods described above\")"
   ]
  },
  {
   "cell_type": "markdown",
   "metadata": {
    "deletable": false,
    "editable": false
   },
   "source": [
    "## Submission\n",
    "\n",
    "Make sure you have run all cells in your notebook in order before running the cell below, so that all images/graphs appear in the output. The cell below will generate a zip file for you to submit. **Please save before exporting!**"
   ]
  },
  {
   "cell_type": "code",
   "execution_count": null,
   "metadata": {
    "deletable": false,
    "editable": false
   },
   "outputs": [],
   "source": [
    "# Save your notebook first, then run this cell to export your submission.\n",
    "grader.export(pdf=False, run_tests=True)"
   ]
  },
  {
   "cell_type": "markdown",
   "metadata": {},
   "source": [
    " "
   ]
  }
 ],
 "metadata": {
  "kernelspec": {
   "display_name": "Python 3",
   "language": "python",
   "name": "python3"
  },
  "language_info": {
   "codemirror_mode": {
    "name": "ipython",
    "version": 3
   },
   "file_extension": ".py",
   "mimetype": "text/x-python",
   "name": "python",
   "nbconvert_exporter": "python",
   "pygments_lexer": "ipython3",
   "version": "3.12.4"
  },
  "otter": {
   "OK_FORMAT": true,
   "tests": {
    "q2a": {
     "name": "q2a",
     "points": 2,
     "suites": [
      {
       "cases": [
        {
         "code": ">>> callable(tax_bracket)\nTrue",
         "hidden": false,
         "locked": false
        },
        {
         "code": ">>> tax_bracket(60000) == 0.22\nTrue",
         "hidden": false,
         "locked": false
        },
        {
         "code": ">>> tax_bracket(402150) == 0.24\nTrue",
         "hidden": false,
         "locked": false
        },
        {
         "code": ">>> tax_bracket(40125) == 0.12\nTrue",
         "hidden": false,
         "locked": false
        },
        {
         "code": ">>> tax_bracket(1) == 0.1\nTrue",
         "hidden": false,
         "locked": false
        }
       ],
       "scored": true,
       "setup": "",
       "teardown": "",
       "type": "doctest"
      }
     ]
    },
    "q2b": {
     "name": "q2b",
     "points": 3,
     "suites": [
      {
       "cases": [
        {
         "code": ">>> callable(tax_owed)\nTrue",
         "hidden": false,
         "locked": false
        },
        {
         "code": ">>> np.isclose(tax_owed(150), 15.0)\nTrue",
         "hidden": false,
         "locked": false
        },
        {
         "code": ">>> np.isclose(tax_owed(12000), 1220.0)\nTrue",
         "hidden": false,
         "locked": false
        },
        {
         "code": ">>> np.isclose(tax_owed(60000), 8507.5)\nTrue",
         "hidden": false,
         "locked": false
        },
        {
         "code": ">>> np.isclose(tax_owed(420150), 94236.0)\nTrue",
         "hidden": false,
         "locked": false
        }
       ],
       "scored": true,
       "setup": "",
       "teardown": "",
       "type": "doctest"
      }
     ]
    },
    "q2c": {
     "name": "q2c",
     "points": 2,
     "suites": [
      {
       "cases": [
        {
         "code": ">>> np.isclose(effective_tax_rate(60000), 0.1417916666)\nTrue",
         "hidden": false,
         "locked": false
        },
        {
         "code": ">>> np.isclose(effective_tax_rate(12000), 0.1016666)\nTrue",
         "hidden": false,
         "locked": false
        },
        {
         "code": ">>> np.isclose(effective_tax_rate(420150), 0.2242913)\nTrue",
         "hidden": false,
         "locked": false
        },
        {
         "code": ">>> # If you fail this test, make sure you address the case where if income is equal to 0, you return 0!\n>>> effective_tax_rate(0) == 0\nTrue",
         "hidden": false,
         "locked": false
        }
       ],
       "scored": true,
       "setup": "",
       "teardown": "",
       "type": "doctest"
      }
     ]
    },
    "q3a": {
     "name": "q3a",
     "points": 2,
     "suites": [
      {
       "cases": [
        {
         "code": ">>> callable(sum_first_n_cubes)\nTrue",
         "hidden": false,
         "locked": false
        },
        {
         "code": ">>> sum_first_n_cubes(3) == 36\nTrue",
         "hidden": false,
         "locked": false
        },
        {
         "code": ">>> sum_first_n_cubes(10) == 3_025\nTrue",
         "hidden": false,
         "locked": false
        },
        {
         "code": ">>> sum_first_n_cubes(15) == 14_400\nTrue",
         "hidden": false,
         "locked": false
        },
        {
         "code": ">>> sum_first_n_cubes(1000) == 250_500_250_000\nTrue",
         "hidden": false,
         "locked": false
        }
       ],
       "scored": true,
       "setup": "",
       "teardown": "",
       "type": "doctest"
      }
     ]
    },
    "q3b": {
     "name": "q3b",
     "points": 2,
     "suites": [
      {
       "cases": [
        {
         "code": ">>> callable(alternating_product)\nTrue",
         "hidden": false,
         "locked": false
        },
        {
         "code": ">>> alternating_product(make_array(2, 8.5, 1, 9)) == 18.0\nTrue",
         "hidden": false,
         "locked": false
        },
        {
         "code": ">>> alternating_product(make_array(2, 8.5, 9, 4.5, 1)) == 9.0\nTrue",
         "hidden": false,
         "locked": false
        },
        {
         "code": ">>> alternating_product(make_array(1, 2, 3, 4, 5, 9, -22)) == -88\nTrue",
         "hidden": false,
         "locked": false
        },
        {
         "code": ">>> alternating_product(make_array(1, 2, 3, 4, 5, 6, 7, 8, 9, 10)) == 280\nTrue",
         "hidden": false,
         "locked": false
        }
       ],
       "scored": true,
       "setup": "",
       "teardown": "",
       "type": "doctest"
      }
     ]
    },
    "q3c": {
     "name": "q3c",
     "points": 3,
     "suites": [
      {
       "cases": [
        {
         "code": ">>> callable(only_uppercase)\nTrue",
         "hidden": false,
         "locked": false
        },
        {
         "code": ">>> only_uppercase('University of California, BerkelEY') == 'UCBEY'\nTrue",
         "hidden": false,
         "locked": false
        },
        {
         "code": ">>> only_uppercase('now THiS!') == 'THS'\nTrue",
         "hidden": false,
         "locked": false
        },
        {
         "code": ">>> only_uppercase('Data 6, Summer 2021') == 'DS'\nTrue",
         "hidden": false,
         "locked": false
        },
        {
         "code": ">>> only_uppercase('what if they are all lowercase?') == ''\nTrue",
         "hidden": false,
         "locked": false
        }
       ],
       "scored": true,
       "setup": "",
       "teardown": "",
       "type": "doctest"
      }
     ]
    },
    "q4a": {
     "name": "q4a",
     "points": 3,
     "suites": [
      {
       "cases": [
        {
         "code": ">>> callable(one_streak)\nTrue",
         "hidden": false,
         "locked": false
        },
        {
         "code": ">>> one_streak(make_array(13, 3, 2, 1, 2, 1, 1, 1, 1, 1, 1, 1, 1, 1, 2, 3, 2, 5, 7, 8)) == 9\nTrue",
         "hidden": false,
         "locked": false
        },
        {
         "code": ">>> one_streak(make_array(4, 1, 1, 1, 2, 3, 11, 1, 1, 1, 1, 1)) == 5\nTrue",
         "hidden": false,
         "locked": false
        },
        {
         "code": ">>> one_streak(make_array(5, 4, 1, 1, 1, 3, 2, 1, 2, 3)) == 3\nTrue",
         "hidden": false,
         "locked": false
        },
        {
         "code": ">>> one_streak(make_array(1, 2, 3, 4, 5)) == 1\nTrue",
         "hidden": false,
         "locked": false
        },
        {
         "code": ">>> one_streak(make_array(3, 4, 5, 6, 7, 2, 3, 4, 5, 6, 7)) == 0\nTrue",
         "hidden": false,
         "locked": false
        },
        {
         "code": ">>> one_streak(make_array()) == 0\nTrue",
         "hidden": false,
         "locked": false
        }
       ],
       "scored": true,
       "setup": "",
       "teardown": "",
       "type": "doctest"
      }
     ]
    },
    "q4b": {
     "name": "q4b",
     "points": 2,
     "suites": [
      {
       "cases": [
        {
         "code": ">>> type(feeling_streak) in set([int, np.int32, np.int64])\nTrue",
         "hidden": false,
         "locked": false
        },
        {
         "code": ">>> feeling_streak == 14\nTrue",
         "hidden": false,
         "locked": false
        }
       ],
       "scored": true,
       "setup": "",
       "teardown": "",
       "type": "doctest"
      }
     ]
    },
    "q4c": {
     "name": "q4c",
     "points": 4,
     "suites": [
      {
       "cases": [
        {
         "code": ">>> type(top_ranked_artist) == str\nTrue",
         "hidden": false,
         "locked": false
        },
        {
         "code": ">>> \"Adele\" <= top_ranked_artist <= \"Usher\"\nTrue",
         "hidden": false,
         "locked": false
        },
        {
         "code": ">>> type(top_artist_streak) in set([int, np.int32, np.int64])\nTrue",
         "hidden": false,
         "locked": false
        },
        {
         "code": ">>> 10 <= top_artist_streak <= 40\nTrue",
         "hidden": false,
         "locked": false
        }
       ],
       "scored": true,
       "setup": "",
       "teardown": "",
       "type": "doctest"
      }
     ]
    },
    "q5a": {
     "name": "q5a",
     "points": 3,
     "suites": [
      {
       "cases": [
        {
         "code": ">>> callable(single_number)\nTrue",
         "hidden": false,
         "locked": false
        },
        {
         "code": ">>> single_number(30) == 'fizz buzz'\nTrue",
         "hidden": false,
         "locked": false
        },
        {
         "code": ">>> single_number(9) == 'fizz'\nTrue",
         "hidden": false,
         "locked": false
        },
        {
         "code": ">>> single_number(10) == 'buzz'\nTrue",
         "hidden": false,
         "locked": false
        },
        {
         "code": ">>> # Make sure you're returning a string, not an int!\n>>> single_number(1) == '1'\nTrue",
         "hidden": false,
         "locked": false
        }
       ],
       "scored": true,
       "setup": "",
       "teardown": "",
       "type": "doctest"
      }
     ]
    },
    "q5b": {
     "name": "q5b",
     "points": 2,
     "suites": [
      {
       "cases": [
        {
         "code": ">>> all(fizz_buzz_sequence(8) == make_array('1', '2', 'fizz', '4', 'buzz', 'fizz', '7', '8'))\nTrue",
         "hidden": false,
         "locked": false
        },
        {
         "code": ">>> all(fizz_buzz_sequence(3) == make_array('1', '2', 'fizz'))\nTrue",
         "hidden": false,
         "locked": false
        },
        {
         "code": ">>> fizz_buzz_sequence(15).item(14) == 'fizz buzz'\nTrue",
         "hidden": false,
         "locked": false
        },
        {
         "code": ">>> sum(fizz_buzz_sequence(1000) == \"fizz\") == 267\nTrue",
         "hidden": false,
         "locked": false
        }
       ],
       "scored": true,
       "setup": "",
       "teardown": "",
       "type": "doctest"
      }
     ]
    }
   }
  }
 },
 "nbformat": 4,
 "nbformat_minor": 5
}