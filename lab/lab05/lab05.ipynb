{
 "cells": [
  {
   "cell_type": "code",
   "execution_count": null,
   "metadata": {
    "deletable": false,
    "editable": false
   },
   "outputs": [],
   "source": [
    "# Initialize Otter\n",
    "import otter\n",
    "grader = otter.Notebook(\"lab05.ipynb\")"
   ]
  },
  {
   "cell_type": "markdown",
   "metadata": {},
   "source": [
    "<img src=\"data6.png\" style=\"width: 15%; float: right; padding: 1%; margin-right: 2%;\"/>\n",
    "\n",
    "# Lab 5 – Advanced Table Methods\n",
    "\n",
    "## Data 6, Summer 2024\n",
    "\n",
    "Today we will be exploring some more complex table methods we can use! The `apply`, `group`, `pivot`, and `join` methods all allow us to perform different queries on our familiar tables. Understanding not only *how* each method works, but also *why* and *when* to use them are the key takeaways from this lab; by the end of it, we will be able to query tables in some pretty cool ways!\n",
    "\n",
    "These new methods allow us to do different operations than before. As such, it is becoming more and more important to remember how each method sits on our Data Science toolbelt. We should think of each new method as a **tool that serves a specific purpose**. Your job as a data scientist is not only to understand what each tool does, but when each tool is applicable in new situations!"
   ]
  },
  {
   "cell_type": "code",
   "execution_count": null,
   "metadata": {},
   "outputs": [],
   "source": [
    "from datascience import *\n",
    "import numpy as np\n",
    "\n",
    "import warnings\n",
    "warnings.simplefilter('ignore')"
   ]
  },
  {
   "cell_type": "markdown",
   "metadata": {},
   "source": [
    "<hr style=\"border: 5px solid #003262;\" />\n",
    "<hr style=\"border: 1px solid #fdb515;\" />\n",
    "\n",
    "## Part 1: Data Context Exploration"
   ]
  },
  {
   "cell_type": "markdown",
   "metadata": {},
   "source": [
    "<div class=\"alert alert-warning\">\n",
    "As we saw at the end of Part 2 from Lab 4, when working with data, it is always important to consider not only the impacts that the representation of the data can have in the real world</strong>, but also <strong>the effects that the conclusions from your data analysis and visualizations can have!</strong> While we were able to observe some interesting trends in Part 2, it is important to consider what types of conclusions we're making with our analysis and how applicable they are. In this part, we'll delve further into representations of data, while also utilizing additional data from UC Riverside broken down by college to try to analyze more interesting trends with student demographics.\n",
    "</div>"
   ]
  },
  {
   "cell_type": "markdown",
   "metadata": {},
   "source": [
    "### A Further Look Into the `Gender` Column"
   ]
  },
  {
   "cell_type": "markdown",
   "metadata": {},
   "source": [
    "Let's continue with a bit more analysis on the `\"Gender\"` column. As stated above, the [source of the original data](https://ir.ucr.edu/stats/enrollment/demographic) from UC Riverside also included a second dataset that displays the same admissions data, broken down by college. An interesting question you may want to consider is why UC Riverside would make this type of breakdown available alongside the original dataset of the whole university. \n",
    "\n",
    "Let's load the dataset into a Table object below called `ucr_college`."
   ]
  },
  {
   "cell_type": "code",
   "execution_count": null,
   "metadata": {},
   "outputs": [],
   "source": [
    "ucr_college = Table.read_table(\"riverside_by_college.csv\")\n",
    "ucr_college.show(5)"
   ]
  },
  {
   "cell_type": "markdown",
   "metadata": {},
   "source": [
    "As we can see from the `\"Year\"` column, this dataset also contains slightly more updated information, including data from 2023. Let's take a look at the way the data is represented in the `\"Gender\"` column for this dataset:"
   ]
  },
  {
   "cell_type": "code",
   "execution_count": null,
   "metadata": {},
   "outputs": [],
   "source": [
    "np.unique(ucr_college.column(\"Gender\"))"
   ]
  },
  {
   "cell_type": "markdown",
   "metadata": {},
   "source": [
    "<!-- BEGIN QUESTION -->\n",
    "\n",
    "### Question 1.1 (Discussion)\n",
    "It looks like this dataset contains the additional values of `\"Nonbinary\"` and `\"Unknown\"` for `\"Gender\"`. Take a look at the \"Details about the data\" section [at the bottom of the website.](https://ir.ucr.edu/stats/enrollment/demographic) How was this particular variable measured? How might this impact our comparison between the conclusions we come to with this data vs. the data we previously worked with?\n",
    "\n",
    "*Hint:* Think about what reducing the number of categories would mean."
   ]
  },
  {
   "cell_type": "markdown",
   "metadata": {},
   "source": [
    "_Type your answer here, replacing this text._"
   ]
  },
  {
   "cell_type": "markdown",
   "metadata": {},
   "source": [
    "<!-- END QUESTION -->\n",
    "\n",
    "Doing this type of extra basic background research on the source of our data can be incredibly helpful in our understanding of our data!"
   ]
  },
  {
   "cell_type": "markdown",
   "metadata": {},
   "source": [
    "---\n",
    "### Exploration of Aggregation by College"
   ]
  },
  {
   "cell_type": "markdown",
   "metadata": {},
   "source": [
    "> \"STEM Majors include those in the Bourns College of Engineering (BCOE) and the College of Natural and Agricultural Sciences (CNAS).\""
   ]
  },
  {
   "cell_type": "markdown",
   "metadata": {},
   "source": [
    "Using this information, we can use the `where` method to create two different tables: one for STEM majors, and one for non-STEM majors. In the cell below, we generate the list of distinct college names at UC Riverside. As we see in the statement above, we can classify all non-STEM colleges as those in the list below, aside from the College of Engineering and the College of Natural and Agricultural Sciences."
   ]
  },
  {
   "cell_type": "code",
   "execution_count": null,
   "metadata": {},
   "outputs": [],
   "source": [
    "np.unique(ucr_college.column(\"College\"))"
   ]
  },
  {
   "cell_type": "markdown",
   "metadata": {},
   "source": [
    "### Question 1.2\n",
    "In the two cells below, use the `where` method to create two different tables: one for STEM majors (`ucr_stem`), and one for non-STEM majors (`ucr_nonstem`), based on which college they belong to."
   ]
  },
  {
   "cell_type": "code",
   "execution_count": null,
   "metadata": {
    "tags": []
   },
   "outputs": [],
   "source": [
    "ucr_stem = ...\n",
    "ucr_stem.show(3)"
   ]
  },
  {
   "cell_type": "code",
   "execution_count": null,
   "metadata": {
    "tags": []
   },
   "outputs": [],
   "source": [
    "ucr_nonstem = ...\n",
    "ucr_nonstem.show(3)"
   ]
  },
  {
   "cell_type": "code",
   "execution_count": null,
   "metadata": {
    "deletable": false,
    "editable": false
   },
   "outputs": [],
   "source": [
    "grader.check(\"q1_2\")"
   ]
  },
  {
   "cell_type": "markdown",
   "metadata": {},
   "source": [
    "Now, if we wanted to do a rough tabular comparison of the STEM vs. non-STEM majors, we can group by `\"Gender\"` and compare the numbers.\n",
    "\n",
    "For now, don't worry too much about understanding the syntax for the group method: we'll cover it in the next lab! The code in the two cells below simply aggregates the data by calculating the sums of the `\"Fall Headcount\"` column for each gender category."
   ]
  },
  {
   "cell_type": "code",
   "execution_count": null,
   "metadata": {},
   "outputs": [],
   "source": [
    "ucr_stem_grouped = ucr_stem.group(\"Gender\", np.sum).select(\"Gender\", \"Fall Headcount sum\").sort(\"Fall Headcount sum\", descending=True)\n",
    "ucr_stem_grouped "
   ]
  },
  {
   "cell_type": "code",
   "execution_count": null,
   "metadata": {},
   "outputs": [],
   "source": [
    "ucr_nonstem_grouped = ucr_nonstem.group(\"Gender\", np.sum).select(\"Gender\", \"Fall Headcount sum\").sort(\"Fall Headcount sum\", descending=True)\n",
    "ucr_nonstem_grouped "
   ]
  },
  {
   "cell_type": "markdown",
   "metadata": {},
   "source": [
    "<!-- BEGIN QUESTION -->\n",
    "\n",
    "### Question 1.3 (Discussion)\n",
    "From the above two tables, we can see an interesting discrepancy that we see quite often with this type of education-related data. What do you see when we compare these two tables?"
   ]
  },
  {
   "cell_type": "markdown",
   "metadata": {},
   "source": [
    "_Type your answer here, replacing this text._"
   ]
  },
  {
   "cell_type": "markdown",
   "metadata": {},
   "source": [
    "<!-- END QUESTION -->\n",
    "\n",
    "Using what we learned in Lab 3, we can also visualize the data to be able to see the trends and proportions of the data more clearly. Below, we create a joined version of the headcounts split by gender for with one column containing the fall headcounts for STEM colleges, and another containing the headcounts for non-STEM colleges. Don't worry too much about the `join` method -- we'll cover it in the next lab!"
   ]
  },
  {
   "cell_type": "code",
   "execution_count": null,
   "metadata": {},
   "outputs": [],
   "source": [
    "ucr_joined_gender = ucr_stem_grouped.join('Gender', ucr_nonstem_grouped).relabeled(make_array('Fall Headcount sum', 'Fall Headcount sum_2'), make_array('STEM Fall Headcount', 'Non-STEM Fall Headcount'))\n",
    "ucr_joined_gender.show(5)"
   ]
  },
  {
   "cell_type": "markdown",
   "metadata": {},
   "source": [
    "<!-- BEGIN QUESTION -->\n",
    "\n",
    "### Question 1.4\n",
    "Using the `ucr_joined_gender` table, create an overlaid bar chart plotting the breakdown of the `Gender` category between the two college types. \n",
    "\n",
    "*Hint:* Look back to how we created overlaid bar charts in Lab 3 if you're stuck!"
   ]
  },
  {
   "cell_type": "code",
   "execution_count": null,
   "metadata": {
    "tags": []
   },
   "outputs": [],
   "source": [
    "..."
   ]
  },
  {
   "cell_type": "markdown",
   "metadata": {},
   "source": [
    "<!-- END QUESTION -->\n",
    "\n",
    "<div class=\"alert alert-warning\">We looked into some aspects of the students' race/ethnicities in Part 2, but now we can dig a little deeper by performing the same process of grouping our data and visualizing the distribution between the STEM and non-STEM colleges. We start by creating the tables split by STEM and non-STEM, as well as the joined version with the headcounts of both categories. </div>"
   ]
  },
  {
   "cell_type": "code",
   "execution_count": null,
   "metadata": {},
   "outputs": [],
   "source": [
    "ucr_stem_grouped_re = ucr_stem.group(\"IPEDS Race/Ethnicity\", np.sum).select([\"IPEDS Race/Ethnicity\", \"Fall Headcount sum\"]).sort(\"Fall Headcount sum\", descending=True)\n",
    "ucr_stem_grouped_re "
   ]
  },
  {
   "cell_type": "code",
   "execution_count": null,
   "metadata": {},
   "outputs": [],
   "source": [
    "ucr_nonstem_grouped_re = ucr_nonstem.group(\"IPEDS Race/Ethnicity\", np.sum).select(\"IPEDS Race/Ethnicity\", \"Fall Headcount sum\").sort(\"Fall Headcount sum\", descending=True)\n",
    "ucr_nonstem_grouped_re "
   ]
  },
  {
   "cell_type": "code",
   "execution_count": null,
   "metadata": {},
   "outputs": [],
   "source": [
    "ucr_joined_re = ucr_stem_grouped_re.join('IPEDS Race/Ethnicity', ucr_nonstem_grouped_re).relabeled(make_array('Fall Headcount sum', 'Fall Headcount sum_2'), make_array('STEM Fall Headcount', 'Non-STEM Fall Headcount'))\n",
    "ucr_joined_re.show(5)"
   ]
  },
  {
   "cell_type": "markdown",
   "metadata": {},
   "source": [
    "<!-- BEGIN QUESTION -->\n",
    "\n",
    "### Question 1.5\n",
    "As you did in Question 3.4, using `ucr_joined_re`, create an overlaid bar chart between the two colleges, this time of the race/ethnicity. What do you see when we compare these two groups of students, disaggregated by race?"
   ]
  },
  {
   "cell_type": "markdown",
   "metadata": {},
   "source": [
    "_Type your answer here, replacing this text._"
   ]
  },
  {
   "cell_type": "code",
   "execution_count": null,
   "metadata": {
    "tags": []
   },
   "outputs": [],
   "source": [
    "..."
   ]
  },
  {
   "cell_type": "markdown",
   "metadata": {},
   "source": [
    "<!-- END QUESTION -->\n",
    "\n",
    "<div class=\"alert alert-warning\">\n",
    "As we come to an end of our exploration of student demographics from UC Riverside, consider what we've learned about the different representations of categories, as well as what sorts of conclusions we were able to effectively draw from tabular vs. visualization methods. What more could we still do in order to more concretely explore student demographics? What type of information do you think is missing that could be useful? How might you change the way that some of these demographics are represented, if data collection could be more flexible and supportive of values that lie on a continuum or are subject to changes?\n",
    "</div>"
   ]
  },
  {
   "cell_type": "markdown",
   "metadata": {},
   "source": [
    "Going back to an idea we posed when starting to look into the `\"Gender\"` column: while this type of exploration is very important and can also be informative, it is also important to remember that it is not always enough to simply look at a trend like this and state it. Ultimately, it is typically very hard to encode data about humans into numbers and categories, **because in doing so, we lose information and context about the individual we are looking at.** In your analysis in the future, try to strike a balance of looking at interesting trends in the data and considering the original context of the data you're working with."
   ]
  },
  {
   "cell_type": "markdown",
   "metadata": {},
   "source": [
    "<hr style=\"border: 5px solid #003262;\" />\n",
    "<hr style=\"border: 1px solid #fdb515;\" />\n",
    "\n",
    "## Part 2: Table Methods with Movies\n",
    "\n",
    "In this section, we'll be working with a `movies` data set that contains information about various American films over time. It contains the following columns:\n",
    "1. `\"Film\"`: The name of the movie\n",
    "2. `\"Genre\"`: The genre of the movie\n",
    "3. `\"Year\"`: The year the movie was released\n",
    "4. `\"Lead Studio\"`: The primary movie studio responsible for producing the movie\n",
    "5. `\"Audience score %\"`: The score, out of 100%, given to the movie by viewers\n",
    "6. `\"Rotten Tomatoes %\"`: The score, out of 100%, given to the movies by the website [Rotten Tomatoes](https://www.rottentomatoes.com/)\n",
    "7. `\"Worldwide Gross (Millions)\"`: The total gross revenue, in millions of dollars, that the movie made\n",
    "8. `\"Quality\"`: Descriptive ranking of the movie based on audience score\n",
    "\n",
    "Let's load the dataset into a new table, `movies`, to get practice with the more advanced table methods."
   ]
  },
  {
   "cell_type": "code",
   "execution_count": null,
   "metadata": {
    "scrolled": false
   },
   "outputs": [],
   "source": [
    "movies = Table.read_table(\"movies.csv\")\n",
    "movies.show(5)"
   ]
  },
  {
   "cell_type": "markdown",
   "metadata": {},
   "source": [
    "## The [apply](http://data8.org/datascience/_autosummary/datascience.tables.Table.apply.html#datascience.tables.Table.apply) method\n",
    "\n",
    "The `apply` method allows us to map a function's behavior onto an entire column of a table. We can use built-in Python functions (like `max`) or we can define our own functions and then *apply* those functions to the columns of a table.\n",
    "\n",
    "The `apply` method takes at least 2 arguments. The first is a function, and the rest are as many column labels you need to run that function. The number of columns you need to specify is dependent on the number of arguments the function has. For example, if the function you provide needs two inputs, you need to list two columns for it to work on.\n",
    "\n",
    "`apply` returns a NumPy array of the transformed values. We can ask questions like \"How can I categorize the items in this column?\" (like converting grade percentages into letter grades from lecture). We can also make modifications to a table, like rounding all the values in a column to a certain accuracy.\n",
    "\n",
    "### Example Use\n",
    "We can see some examples of `apply` at work. Let's use `apply` to take the average of the two score percentages, `\"Audience score %\"` and `\"Rotten Tomatoes %\"`."
   ]
  },
  {
   "cell_type": "code",
   "execution_count": null,
   "metadata": {},
   "outputs": [],
   "source": [
    "def average_score(audience_score, rt_score):\n",
    "    \"Computes the average score between the audience score and Rotten Tomatoes score\"\n",
    "    return (audience_score + rt_score) / 2"
   ]
  },
  {
   "cell_type": "code",
   "execution_count": null,
   "metadata": {},
   "outputs": [],
   "source": [
    "average_scores = movies.apply(average_score, \"Audience score %\", \"Rotten Tomatoes %\")\n",
    "average_scores"
   ]
  },
  {
   "cell_type": "markdown",
   "metadata": {},
   "source": [
    "Now, let's add a new column called `\"Average score %\"` and populate it with the information we just assigned to `average_scores`. We'll re-assign this new table to `movies`."
   ]
  },
  {
   "cell_type": "code",
   "execution_count": null,
   "metadata": {},
   "outputs": [],
   "source": [
    "movies = movies.with_column(\"Average score %\", average_scores)\n",
    "movies.show(5)"
   ]
  },
  {
   "cell_type": "markdown",
   "metadata": {},
   "source": [
    "We can use `apply` in this way to add columns to a table that transforms something in the table to something that more people can understand more easily!\n",
    "\n",
    "### Input Type and Output Type\n",
    "\n",
    "Very quickly, we should talk about **input type** and **output type**. **Input type** is the *type* of the arguments in a function. A function can take in as input any of the types we have talked about so far in this class (int, str, boolean, etc.). The input type is very important when using the table methods we talk about today, because there can be behavior we do not expect if we give a function the wrong input type. Let's see an example of this behavior when we try to use our `average_score` function on a row that has an **input type** of `str` instead of `int`:"
   ]
  },
  {
   "cell_type": "code",
   "execution_count": null,
   "metadata": {
    "tags": [
     "raises-exception"
    ]
   },
   "outputs": [],
   "source": [
    "movies.apply(average_score, \"Genre\", \"Lead Studio\")"
   ]
  },
  {
   "cell_type": "markdown",
   "metadata": {},
   "source": [
    "The error message does not make it *explicitly* clear that the function you provided got an incorrect input type, but if you are using a table method and the error message seems to indicate incompatible types interacting with each other, that may be the issue. You can see this on the **last line of the error message**:\n",
    "\n",
    "```python\n",
    "TypeError: unsupported operand type(s) for /: 'str' and 'int'\n",
    "```\n",
    "\n",
    "In simple terms, it means you're trying to *divide a string by an integer*, which you cannot do in Python."
   ]
  },
  {
   "cell_type": "markdown",
   "metadata": {},
   "source": [
    "### Question 2.1\n",
    "Fill in the function `convert_to_dollars` which converts a dollar amount from *millions of dollars* to *dollars*. Then, use the `apply` method to convert all values from the `\"Worldwide Gross (Millions)\"` column into dollars. Finally, create a new column in the `movies` table called `\"Worldwide Gross\"` using the array resulting from your call to `apply`.\n",
    "\n",
    "*Note*: The code for this question requires several steps. Feel free to create new cells to experiment!\n"
   ]
  },
  {
   "cell_type": "code",
   "execution_count": null,
   "metadata": {
    "tags": []
   },
   "outputs": [],
   "source": [
    "def convert_to_dollars(dollar_millions):\n",
    "    \"Converts a dollar amount from millions of dollars to dollars\"\n",
    "    ...\n",
    "\n",
    "dollars = ...\n",
    "movies = ...\n",
    "movies"
   ]
  },
  {
   "cell_type": "code",
   "execution_count": null,
   "metadata": {
    "deletable": false,
    "editable": false
   },
   "outputs": [],
   "source": [
    "grader.check(\"q2_1\")"
   ]
  },
  {
   "cell_type": "markdown",
   "metadata": {},
   "source": [
    "## The [group](http://data8.org/datascience/_autosummary/datascience.tables.Table.group.html#datascience.tables.Table.group) method\n",
    "\n",
    "The `group` method is very helpful for organizing a table before asking more questions about it. you can think of the `group` method as organizing rows into bins based on one of their values. All the rows that share a column value go in the same bin! We saw this in action in Lab 3 when we grouped tables in order to visualize certain variables like `\"Month\"` or `\"Binge Drink\"` in the BRFSS data set. Now, we will learn how to use the `group` method ourselves.\n",
    "\n",
    "`group` takes in 1-2 arguments. The first is a column label to group by, and the second is an optional function argument to group on, which defaults to counting the number of rows in the bin. We will see some examples of how this optional argument works below.\n",
    "\n",
    "> For a visualization of the `.group` method, check out the [Data 8 Table Visualizer](http://www.data8.org/interactive_table_functions/)\n",
    "\n",
    "Let's use the `group` method to organize our movies by `Genre` so that we can see which genres are in our table:"
   ]
  },
  {
   "cell_type": "code",
   "execution_count": null,
   "metadata": {},
   "outputs": [],
   "source": [
    "movies_by_genre = movies.group(\"Genre\")\n",
    "movies_by_genre"
   ]
  },
  {
   "cell_type": "markdown",
   "metadata": {},
   "source": [
    "### Question 2.2\n",
    "What if we want to group by movie *quality*? Fill in the following cell with code that will assign `quality_groups` to a grouped table based on the `\"Quality\"` column.\n"
   ]
  },
  {
   "cell_type": "code",
   "execution_count": null,
   "metadata": {
    "tags": []
   },
   "outputs": [],
   "source": [
    "quality_groups = ...\n",
    "quality_groups"
   ]
  },
  {
   "cell_type": "code",
   "execution_count": null,
   "metadata": {
    "deletable": false,
    "editable": false
   },
   "outputs": [],
   "source": [
    "grader.check(\"q2_2\")"
   ]
  },
  {
   "cell_type": "markdown",
   "metadata": {},
   "source": [
    "We can use the optional `collect` argument to ask more complex questions instead of just asking for the number of rows in each bin. For example, to see the average `\"Audience Score %\"` of each bin, we can use `np.mean` or `np.average`.\n",
    "\n",
    "*Note*: For our purposes, `np.mean` and `np.average` are exactly the same and you can use them interchangeably in the call to `group`. However, the function you choose will impact the **column names** of the resulting table."
   ]
  },
  {
   "cell_type": "code",
   "execution_count": null,
   "metadata": {},
   "outputs": [],
   "source": [
    "quality_group_ratings = movies.group(\"Quality\", np.average)\n",
    "quality_group_ratings"
   ]
  },
  {
   "cell_type": "markdown",
   "metadata": {},
   "source": [
    "### Shortcomings of `collect` argument\n",
    "\n",
    "Look at the `quality_group_rating` table above -- notice that we cannot specify which column we want the average of. As you can see, the `group` method will take the average of every column. For columns where it is **possible to take the average** (columns with the correct input type), it does so. For columns where taking the average doesn't work (with strings in this case), Python outputs nothing for those column averages.\n",
    "\n",
    "Also, the column labels in this new table now have `average` at the end **except** the column label you grouped on. The name of the function you choose to group on will appear at the end of every label in the resulting table. **Like most table methods, the original table you are grouping does not change unless you reassign it**.\n",
    "\n",
    "To get only the column we wanted the average of, we can use the `select` method to get the `Quality` and the `Audience score % average`:"
   ]
  },
  {
   "cell_type": "code",
   "execution_count": null,
   "metadata": {},
   "outputs": [],
   "source": [
    "quality_ratings = quality_group_ratings.select(\"Quality\", \"Audience score % average\")\n",
    "quality_ratings"
   ]
  },
  {
   "cell_type": "markdown",
   "metadata": {},
   "source": [
    "### Question 2.3\n",
    "The table defaults to sort on the column you grouped on, which in this case is alphabetical order for strings. Oscar asks you to sort the `quality_ratings` table in decreasing order based on the average audience score. \n",
    "\n",
    "Write a line of code below that assigns `ratings_sorted` to a table that matches Oscar's request.\n"
   ]
  },
  {
   "cell_type": "code",
   "execution_count": null,
   "metadata": {
    "tags": []
   },
   "outputs": [],
   "source": [
    "ratings_sorted = ...\n",
    "ratings_sorted"
   ]
  },
  {
   "cell_type": "code",
   "execution_count": null,
   "metadata": {
    "deletable": false,
    "editable": false
   },
   "outputs": [],
   "source": [
    "grader.check(\"q2_3\")"
   ]
  },
  {
   "cell_type": "markdown",
   "metadata": {},
   "source": [
    "### Question 2.4 (Do Well-Liked Movies Make Money?) \n",
    "After hearing that you have a handy `movies` table, Rebecca asks you the following question:\n",
    ">*Do well-liked movies make money?*\n",
    "\n",
    "It's your job to answer Rebecca's question. To do so, create a new table called `money_by_quality` with the following **two columns**:\n",
    "1. `\"Quality\"`: String describing the quality of a given movie\n",
    "2. `\"Worldwide Gross (Millions) mean\"`: The average gross revenue for each movie quality\n",
    "\n",
    "*Hint*: You may find the previous calls to `group` helpful.\n"
   ]
  },
  {
   "cell_type": "code",
   "execution_count": null,
   "metadata": {
    "tags": []
   },
   "outputs": [],
   "source": [
    "money_by_quality = ...\n",
    "money_by_quality"
   ]
  },
  {
   "cell_type": "code",
   "execution_count": null,
   "metadata": {
    "deletable": false,
    "editable": false
   },
   "outputs": [],
   "source": [
    "grader.check(\"q2_4\")"
   ]
  },
  {
   "cell_type": "markdown",
   "metadata": {},
   "source": [
    "Look at that! Using the `group` method, we found that **\"Great\"** movies make an average of 215 million dollars while **\"Okay\"** movies only make an average of 71.7 million dollars. Let's report back to Rebecca!"
   ]
  },
  {
   "cell_type": "markdown",
   "metadata": {},
   "source": [
    "## The [pivot](http://data8.org/datascience/_autosummary/datascience.tables.Table.pivot.html#datascience.tables.Table.pivot) method\n",
    "\n",
    "The `pivot` method allows us to see the *intersection* of two of our column labels. `pivot` essentially sorts the contents of the dataset based on the combination of the two column labels you pivot on. All the table's rows that share values in the pivoting columns all go into the same bin, and this happens for all combinations of the first and second column you are pivoting on.\n",
    "\n",
    "The `pivot` method has 4 important arguments, 2 of which are mandatory and 2 of which are optional:\n",
    "\n",
    "| **Argument** | **Description** |\n",
    "| --- | --- |\n",
    "| `columns` | The label whose unique values will appear as the **columns** of the outputted pivot table |\n",
    "| `rows` | The label whose unique values will appear as the **rows** of the outputted pivot table |\n",
    "| *Optional:* `values` | Values to use when aggregating |\n",
    "| *Optional:* `collect` | Function used to aggregate the `values` provided in the previous argument |\n",
    "\n",
    "You must use the two `values` and `collect` arguments together, one does not work without the other.\n",
    "\n",
    "> For a visualization of the `.pivot` method, check out the [Data 8 Table Visualizer](http://www.data8.org/interactive_table_functions/)\n",
    "\n",
    "The best way to understand how `pivot` works is to look at some examples and talk about what happens. Here we will pivot the `movies` table on its `Genre` and `Quality` column labels to see how many of each type of *genre* are in each category of *quality*:"
   ]
  },
  {
   "cell_type": "code",
   "execution_count": null,
   "metadata": {},
   "outputs": [],
   "source": [
    "genre_quality_pivot = movies.pivot(\"Genre\", \"Quality\")\n",
    "genre_quality_pivot"
   ]
  },
  {
   "cell_type": "markdown",
   "metadata": {},
   "source": [
    "The way we can read this table is almost how we read a graph in a math class. To see how many **Good Comedies** there are, we look at the row corresponding to `Good` and the column corresponding to `Comedy`, so there are 18 **Good Comedies**.\n",
    "\n",
    "The default behavior of `pivot` is to just count the rows that appear at each intersection of the pivot. However, we can ask it to count another value in the table using any function we want! For example, if we want to know **the maximum amount of money** each intersection made instead of **how many** movies appear in each intersection, we can do that as well!"
   ]
  },
  {
   "cell_type": "code",
   "execution_count": null,
   "metadata": {},
   "outputs": [],
   "source": [
    "genre_quality_average_grosses = movies.pivot(\"Genre\", \"Quality\", values=\"Worldwide Gross (Millions)\", collect=max)\n",
    "genre_quality_average_grosses"
   ]
  },
  {
   "cell_type": "markdown",
   "metadata": {},
   "source": [
    "Based on this small dataset, it seems that the highest grossing film is not actually a \"Great\" film but rather a \"Good\" one. Run the following cell to find out what film it actually is!"
   ]
  },
  {
   "cell_type": "code",
   "execution_count": null,
   "metadata": {},
   "outputs": [],
   "source": [
    "movies.where(\"Worldwide Gross (Millions)\", 709.82)"
   ]
  },
  {
   "cell_type": "markdown",
   "metadata": {},
   "source": [
    "Ah, Twilight! Who can resist Robert Pattinson and Taylor Lautner?"
   ]
  },
  {
   "cell_type": "markdown",
   "metadata": {},
   "source": [
    "### Question 2.5 (Does Studio Matter?) \n",
    "Now, let's write a query that can tell us what genre of movie each studio tends to make, and how much those movies made in total. We can use the `pivot` method just like we did above to see the breakdown of movies by studio and genre, and then aggregate those rows by adding up the worldwide gross of each intersection!\n",
    "\n",
    "Assign `column_label` and `row_label` to column labels of `movies` that make the resulting `pivot` call have studios as the rows and genres as the columns.\n",
    "\n",
    "Assign `value_to_collect` to a column label that we can use to collect the data we need to ultimately see the total amount of money made by each intersection of genre and studio. Use the column that uses millions.\n",
    "\n",
    "Assign `collection_function` to a function you know that can add up all the movie earnings at each intersection\n"
   ]
  },
  {
   "cell_type": "code",
   "execution_count": null,
   "metadata": {
    "tags": []
   },
   "outputs": [],
   "source": [
    "column_label = ...\n",
    "row_label = ...\n",
    "value_to_collect = ...\n",
    "collection_function = ...\n",
    "\n",
    "studio_genre_total_gross = movies.pivot(column_label, row_label, value_to_collect, collection_function)\n",
    "studio_genre_total_gross"
   ]
  },
  {
   "cell_type": "code",
   "execution_count": null,
   "metadata": {
    "deletable": false,
    "editable": false
   },
   "outputs": [],
   "source": [
    "grader.check(\"q2_5\")"
   ]
  },
  {
   "cell_type": "markdown",
   "metadata": {},
   "source": [
    "## The [join](http://data8.org/datascience/_autosummary/datascience.tables.Table.join.html#datascience.tables.Table.join) method\n",
    "\n",
    "The last method we will talk about in this lab is the `join` method. This method allows us to combine two different tables together!\n",
    "\n",
    "The `join` method takes in 2 mandatory arguments and 1 optional argument:\n",
    "\n",
    "| **Column Name** | **Description** |\n",
    "| --- | --- |\n",
    "| `column_label` | a column to use to join |\n",
    "| `other` | another table |\n",
    "| *Optional:* `other_label` | `other`'s label to join on (if not the same as `column_label`) |\n",
    "\n",
    "If `other` has a label in common with the table you are joining with and this common label is the one you want to join on, then you do not need to use the optional argument. If you want to join on another column label or if neither table has a column label in common, then you can use the optional `other_label`.\n",
    "\n",
    "The way join works takes some getting used to, so let's look at some examples of `join` at work!\n",
    "\n",
    "We have the `dogs` and `owners` tables below, take a look at them a bit before we move on so you understand what data they contain:"
   ]
  },
  {
   "cell_type": "code",
   "execution_count": null,
   "metadata": {},
   "outputs": [],
   "source": [
    "dogs = Table().with_columns(\n",
    "    \"Name\", np.array([\"Shefran\", \"Hero\", \"Fluffy\", \"Doge\"]),\n",
    "    \"Breed\", np.array([\"Bichon Frise\", \"Shih-poo\", \"Corgi\", \"Coin\"]),\n",
    "    \"Owner\", np.array([\"Su Min\", \"Su Min\", \"Josh\", \"Edwin\"]),\n",
    ")\n",
    "dogs"
   ]
  },
  {
   "cell_type": "code",
   "execution_count": null,
   "metadata": {},
   "outputs": [],
   "source": [
    "owners = Table().with_columns(\n",
    "    \"Owner\", np.array([\"Su Min\", \"Josh\", \"Edwin\", \"Sandra\"]),\n",
    "    \"Owner Age\", np.array([22, 21, 21, 20])\n",
    ")\n",
    "owners"
   ]
  },
  {
   "cell_type": "markdown",
   "metadata": {},
   "source": [
    "As you can see, we have a column in common: `Owner`. Let's join these two tables together so that we can have all the doggy data in one place!"
   ]
  },
  {
   "cell_type": "code",
   "execution_count": null,
   "metadata": {},
   "outputs": [],
   "source": [
    "doggy_data = dogs.join(\"Owner\", owners)\n",
    "doggy_data"
   ]
  },
  {
   "cell_type": "markdown",
   "metadata": {},
   "source": [
    "This table now has all of our information in one place, which makes using it easier!\n",
    "\n",
    "Now let's take a look at a more common example, where the column labels being named differently can cause a problem. We will use the exact same `dogs` and `owners` tables, but we will change a column label on `owners`:"
   ]
  },
  {
   "cell_type": "code",
   "execution_count": null,
   "metadata": {},
   "outputs": [],
   "source": [
    "owners_new_label = owners.relabeled(\"Owner\", \"Name\")\n",
    "\n",
    "display(dogs, owners_new_label)"
   ]
  },
  {
   "cell_type": "markdown",
   "metadata": {},
   "source": [
    "Now if we try to use the `join` method like we did last time, we run into an issue..."
   ]
  },
  {
   "cell_type": "code",
   "execution_count": null,
   "metadata": {
    "tags": [
     "raises-exception"
    ]
   },
   "outputs": [],
   "source": [
    "doggy_data = dogs.join(\"Owner\", owners_new_label)\n",
    "doggy_data"
   ]
  },
  {
   "cell_type": "markdown",
   "metadata": {},
   "source": [
    "Because the `owners` table does not have a column label called `Owner`, we may try to use the one column label they do have in common: `Name`..."
   ]
  },
  {
   "cell_type": "code",
   "execution_count": null,
   "metadata": {},
   "outputs": [],
   "source": [
    "doggy_data = dogs.join(\"Name\", owners_new_label)\n",
    "doggy_data"
   ]
  },
  {
   "cell_type": "markdown",
   "metadata": {},
   "source": [
    "...but this doesn't appear to work either. This is not an error, there is simply no table outputted by this join call!\n",
    "\n",
    "This `join` call does not do what we want, because the `dogs` `Name` corresponds to the **dog's** name, but the `owners` `Name` corresponds to the **Owner's** name! No dog and owner have any of the same names, so there is no data to output in this `join` call!\n",
    "\n",
    "Instead, we have to make sure we join on the `Owner` column from `dogs` and the `Name` column from `owners`! We can do this using the third *optional* argument in the `join` method:"
   ]
  },
  {
   "cell_type": "code",
   "execution_count": null,
   "metadata": {
    "scrolled": true
   },
   "outputs": [],
   "source": [
    "doggy_data = dogs.join(\"Owner\", owners_new_label, \"Name\")\n",
    "doggy_data"
   ]
  },
  {
   "cell_type": "markdown",
   "metadata": {},
   "source": [
    "In this table, the `Name` column now refers to the name of the dog, and the `Owner` column corresponds to the name of the owner!"
   ]
  },
  {
   "cell_type": "markdown",
   "metadata": {},
   "source": [
    "### Question 2.6 (A Slightly Different `Join`): \n",
    "The `join` method can also change the number of rows in its output. If there are multiple rows in one table that match with one row in the other, the `join` method will include rows for each of these matches in the output. Also, if there is a row in a table with no match in the other, there will be no row in the output that represents this row. Let's implement both these situations in practice and see how they work:"
   ]
  },
  {
   "cell_type": "code",
   "execution_count": null,
   "metadata": {},
   "outputs": [],
   "source": [
    "# Just run this cell\n",
    "# This new dogs table has a new extra dogs\n",
    "more_dogs = dogs.with_rows([[\"Clifford\", \"Big Red\", \"Sandra\"], [\"Doug\", \"Golden Retriever\", \"Russell\"]])\n",
    "more_dogs"
   ]
  },
  {
   "cell_type": "markdown",
   "metadata": {},
   "source": [
    "**Task**: Before we exectute the join between these tables, we should be able to calculate how many rows should there be in the output. Assign the variable `more_dog_owner_rows` to the number of rows that should result from joining `more_dogs` with `owners_new_label`. Run the cell below to see them again for clarity:"
   ]
  },
  {
   "cell_type": "code",
   "execution_count": null,
   "metadata": {},
   "outputs": [],
   "source": [
    "display(more_dogs, owners_new_label)"
   ]
  },
  {
   "cell_type": "code",
   "execution_count": null,
   "metadata": {
    "tags": []
   },
   "outputs": [],
   "source": [
    "more_dog_owner_rows = ...\n",
    "more_dog_owner_rows"
   ]
  },
  {
   "cell_type": "code",
   "execution_count": null,
   "metadata": {
    "deletable": false,
    "editable": false
   },
   "outputs": [],
   "source": [
    "grader.check(\"q2_6\")"
   ]
  },
  {
   "cell_type": "markdown",
   "metadata": {},
   "source": [
    "### Confirm your answer\n",
    "\n",
    "Remember, each row in the `more_dogs` table only gets a row in the output if it matches a row in `owners_new_label`"
   ]
  },
  {
   "cell_type": "code",
   "execution_count": null,
   "metadata": {},
   "outputs": [],
   "source": [
    "# If an owner in the table has 2 dogs, both dogs should appear in the output\n",
    "# If a dog has no owner in the owners table, the dog does not appear in the output\n",
    "complex_doggy_data = more_dogs.join(\"Owner\", owners_new_label, \"Name\")\n",
    "complex_doggy_data"
   ]
  },
  {
   "cell_type": "code",
   "execution_count": null,
   "metadata": {},
   "outputs": [],
   "source": [
    "# Doug is not in the new table, and both Sandra's dogs are present for a total of 5 rows\n",
    "complex_doggy_data.num_rows"
   ]
  },
  {
   "cell_type": "markdown",
   "metadata": {},
   "source": [
    "As we expect, `Clifford` appears as Sandra's dog, but `Doug` does not appear in the table (fear not, he still has an owner, but `Russell` is not in the owners table)."
   ]
  },
  {
   "cell_type": "markdown",
   "metadata": {},
   "source": [
    "**Finally, for reference, here is the link to the Data 6 Python Reference (our Python cheat-sheet) so you can review some of the methods we've used for tables in this lab!**\n",
    "\n",
    "[Python Reference](http://data6.org/su24/reference)"
   ]
  },
  {
   "cell_type": "markdown",
   "metadata": {},
   "source": [
    "## Done! 😇\n",
    "\n",
    "There are no extra problems this week, good luck with the homework!"
   ]
  },
  {
   "attachments": {},
   "cell_type": "markdown",
   "metadata": {},
   "source": [
    "## Pets of Data 6\n",
    "Luna and her friend wish you well! \n",
    "\n",
    "<img src=\"luna.jpeg\" width=\"40%\" alt=\"Cat and her cat plushie bonding\"/>"
   ]
  },
  {
   "cell_type": "markdown",
   "metadata": {
    "deletable": false,
    "editable": false
   },
   "source": [
    "## Submission\n",
    "\n",
    "Make sure you have run all cells in your notebook in order before running the cell below, so that all images/graphs appear in the output. The cell below will generate a zip file for you to submit. **Please save before exporting!**"
   ]
  },
  {
   "cell_type": "code",
   "execution_count": null,
   "metadata": {
    "deletable": false,
    "editable": false
   },
   "outputs": [],
   "source": [
    "# Save your notebook first, then run this cell to export your submission.\n",
    "grader.export(pdf=False, run_tests=True)"
   ]
  },
  {
   "cell_type": "markdown",
   "metadata": {},
   "source": [
    " "
   ]
  }
 ],
 "metadata": {
  "kernelspec": {
   "display_name": "Python 3",
   "language": "python",
   "name": "python3"
  },
  "language_info": {
   "codemirror_mode": {
    "name": "ipython",
    "version": 3
   },
   "file_extension": ".py",
   "mimetype": "text/x-python",
   "name": "python",
   "nbconvert_exporter": "python",
   "pygments_lexer": "ipython3",
   "version": "3.12.4"
  },
  "otter": {
   "OK_FORMAT": true,
   "tests": {
    "q1_2": {
     "name": "q1_2",
     "points": [
      1,
      1,
      1,
      1,
      1,
      1
     ],
     "suites": [
      {
       "cases": [
        {
         "code": ">>> assert isinstance(ucr_stem, Table)\n",
         "hidden": false,
         "locked": false
        },
        {
         "code": ">>> assert isinstance(ucr_nonstem, Table)\n",
         "hidden": false,
         "locked": false
        },
        {
         "code": ">>> assert all(x in [\"Bourns College of Engineering\", \"College of Natural and Agricultural Sciences\"] for x in ucr_stem.column('College'))\n",
         "hidden": false,
         "locked": false
        },
        {
         "code": ">>> assert all(x in [\"College of Humanities, Arts, and Social Sciences\", \"Graduate School of Education\", \"School of Business\", \"School of Medicine\", \"School of Public Policy\"] for x in ucr_nonstem.column('College'))\n",
         "hidden": false,
         "locked": false
        },
        {
         "code": ">>> assert ucr_stem.num_rows == 7419\n",
         "hidden": false,
         "locked": false
        },
        {
         "code": ">>> assert ucr_nonstem.num_rows == 9451\n",
         "hidden": false,
         "locked": false
        }
       ],
       "scored": true,
       "setup": "",
       "teardown": "",
       "type": "doctest"
      }
     ]
    },
    "q2_1": {
     "name": "q2_1",
     "points": 1,
     "suites": [
      {
       "cases": [
        {
         "code": ">>> callable(convert_to_dollars)\nTrue",
         "hidden": false,
         "locked": false
        },
        {
         "code": ">>> convert_to_dollars(10) == 10000000.0\nTrue",
         "hidden": false,
         "locked": false
        },
        {
         "code": ">>> isinstance(movies, Table)\nTrue",
         "hidden": false,
         "locked": false
        },
        {
         "code": ">>> 'Worldwide Gross' in movies.labels\nTrue",
         "hidden": false,
         "locked": false
        },
        {
         "code": ">>> np.isclose(movies.column('Worldwide Gross').item(10), 376660000.0)\nTrue",
         "hidden": false,
         "locked": false
        }
       ],
       "scored": true,
       "setup": "",
       "teardown": "",
       "type": "doctest"
      }
     ]
    },
    "q2_2": {
     "name": "q2_2",
     "points": 1,
     "suites": [
      {
       "cases": [
        {
         "code": ">>> isinstance(quality_groups, Table)\nTrue",
         "hidden": false,
         "locked": false
        },
        {
         "code": ">>> quality_groups.num_rows == 3\nTrue",
         "hidden": false,
         "locked": false
        },
        {
         "code": ">>> quality_groups.labels == (\"Quality\", \"count\")\nTrue",
         "hidden": false,
         "locked": false
        }
       ],
       "scored": true,
       "setup": "",
       "teardown": "",
       "type": "doctest"
      }
     ]
    },
    "q2_3": {
     "name": "q2_3",
     "points": 1,
     "suites": [
      {
       "cases": [
        {
         "code": ">>> isinstance(ratings_sorted, Table)\nTrue",
         "hidden": false,
         "locked": false
        },
        {
         "code": ">>> all(ratings_sorted.column(\"Quality\") == make_array('Great', 'Good', 'Okay'))\nTrue",
         "hidden": false,
         "locked": false
        }
       ],
       "scored": true,
       "setup": "",
       "teardown": "",
       "type": "doctest"
      }
     ]
    },
    "q2_4": {
     "name": "q2_4",
     "points": 1,
     "suites": [
      {
       "cases": [
        {
         "code": ">>> isinstance(money_by_quality, Table)\nTrue",
         "hidden": false,
         "locked": false
        },
        {
         "code": ">>> money_by_quality.num_rows == 3\nTrue",
         "hidden": false,
         "locked": false
        },
        {
         "code": ">>> money_by_quality.labels == ('Quality', 'Worldwide Gross (Millions) mean')\nTrue",
         "hidden": false,
         "locked": false
        },
        {
         "code": ">>> np.isclose(money_by_quality.column(1).item(2), 71.72821428571429)\nTrue",
         "hidden": false,
         "locked": false
        }
       ],
       "scored": true,
       "setup": "",
       "teardown": "",
       "type": "doctest"
      }
     ]
    },
    "q2_5": {
     "name": "q2_5",
     "points": 1,
     "suites": [
      {
       "cases": [
        {
         "code": ">>> isinstance(studio_genre_total_gross, Table)\nTrue",
         "hidden": false,
         "locked": false
        },
        {
         "code": ">>> studio_genre_total_gross.num_rows == 12\nTrue",
         "hidden": false,
         "locked": false
        },
        {
         "code": ">>> studio_genre_total_gross.labels == ('Lead Studio', 'Action', 'Animation', 'Comedy', 'Drama', 'Fantasy', 'Romance')\nTrue",
         "hidden": false,
         "locked": false
        },
        {
         "code": ">>> studio_genre_total_gross.column(\"Comedy\").item(5) == 59.19\nTrue",
         "hidden": false,
         "locked": false
        }
       ],
       "scored": true,
       "setup": "",
       "teardown": "",
       "type": "doctest"
      }
     ]
    },
    "q2_6": {
     "name": "q2_6",
     "points": 1,
     "suites": [
      {
       "cases": [
        {
         "code": ">>> type(more_dog_owner_rows) in set([int, np.int32, np.int64])\nTrue",
         "hidden": false,
         "locked": false
        },
        {
         "code": ">>> more_dog_owner_rows == 5\nTrue",
         "hidden": false,
         "locked": false
        }
       ],
       "scored": true,
       "setup": "",
       "teardown": "",
       "type": "doctest"
      }
     ]
    }
   }
  }
 },
 "nbformat": 4,
 "nbformat_minor": 5
}
