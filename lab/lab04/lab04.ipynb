{
 "cells": [
  {
   "cell_type": "code",
   "execution_count": null,
   "metadata": {
    "deletable": false,
    "editable": false
   },
   "outputs": [],
   "source": [
    "# Initialize Otter\n",
    "import otter\n",
    "grader = otter.Notebook(\"lab04.ipynb\")"
   ]
  },
  {
   "cell_type": "markdown",
   "metadata": {},
   "source": [
    "<img src=\"data6.png\" style=\"width: 15%; float: right; padding: 1%; margin-right: 2%;\"/>\n",
    "\n",
    "# Lab 4 - Tables\n",
    "\n",
    "## Data 6, Summer 2024\n",
    "\n",
    "In this lab, we will be talking all about **tables**. We use tables to store all sorts of data form sports statistics to population information. If there's data you have ever been curious about, it is very likely that the internet has a table somewhere with that data!\n",
    "\n",
    "Tables are integral to the foundation of Data Science, and in this lab we will go over how to query a table. Querying a table is basically asking information about the table. Some examples of common queries (in English, not code):\n",
    "\n",
    "How many data points are there?\n",
    "Which data points have a specific characteristic?\n",
    "What is the attribute of a specific data point?\n",
    "And many more!\n",
    "There are so many ways we can use tables to get information we need, and there are several existing libraries in Python that we can use to do this! In this course, we will be using the `datascience` library, and if you take Data Science classes beyond this one, you'll likely learn many more."
   ]
  },
  {
   "cell_type": "code",
   "execution_count": null,
   "metadata": {},
   "outputs": [],
   "source": [
    "from datascience import *\n",
    "import numpy as np\n",
    "\n",
    "import matplotlib.pyplot as plt\n",
    "plt.style.use(\"ggplot\")\n",
    "%matplotlib inline"
   ]
  },
  {
   "cell_type": "markdown",
   "metadata": {},
   "source": [
    "<div class=\"alert alert-warning\">\n",
    "The data that we'll be using in this lab contains data on <a href=https://ir.ucr.edu/stats/admission/undergraduate>University of California, Riverside's undergraduate admissions.</a> We'll be looking at this data today as we are interested in exploring the context and ethics behind education-related data (UC Riverside specifically was chosen as it was the UC that provided the most publicly accessible method of downloading the data). In this case, we are looking at the demographics of undergraduate students. This leads us to many important questions to consider: why does UC Riverside make this data publicly available? Why does it choose this format and these categories to represent students? Who or what is affected by the conclusions we make from analyzing this data? Think about these questions as you work through the lab.\n",
    "</div>"
   ]
  },
  {
   "cell_type": "markdown",
   "metadata": {},
   "source": [
    "<hr style=\"border: 5px solid #003262;\" />\n",
    "<hr style=\"border: 1px solid #fdb515;\" />\n",
    "\n",
    "## Part 1: Basic Table Functions"
   ]
  },
  {
   "cell_type": "markdown",
   "metadata": {},
   "source": [
    "<div class=\"alert alert-warning\">\n",
    "In the first part of this lab, we'll be learning about some of the various basic table functions that we can utilize in the <code>datascience</code> library in order to answer questions about student demographics at UC Riverside. In this part, we'll be focusing on the demographic categories of <code>Gender</code> and <code>IPEDS Race/Ethnicity</code> to explore what the breakdown of students at UC Riverside looks like, as well as getting a better understanding of how and why UC Riverside chose to represent their data publicly in this format.\n",
    "</div>"
   ]
  },
  {
   "cell_type": "markdown",
   "metadata": {},
   "source": [
    "### Loading a Table\n",
    "\n",
    "Recall in Lab 2, we introduced the `Table.read_table` method, which takes a *file path* and constructs a `Table` with the information from that file. Let's see how this works using the file `\"riverside.csv\"`, which contains information about UC Riverside's admissions.\n",
    "\n",
    "*Note*: If you want to check where the `riverside.csv` file is, you can look in your DataHub directory by clicking `File` > `Open...` in the top left."
   ]
  },
  {
   "cell_type": "code",
   "execution_count": null,
   "metadata": {},
   "outputs": [],
   "source": [
    "ucr = Table.read_table(\"riverside.csv\")\n",
    "ucr.show(5)"
   ]
  },
  {
   "cell_type": "markdown",
   "metadata": {},
   "source": [
    "<!-- BEGIN QUESTION -->\n",
    "\n",
    "### Question 1.1 (Discussion)\n",
    "As we discussed in the previous lab, what is the unit of analysis of our dataset? Another common way of asking this when considering our data is: what is the granularity of our data?"
   ]
  },
  {
   "cell_type": "markdown",
   "metadata": {},
   "source": [
    "_Type your answer here, replacing this text._"
   ]
  },
  {
   "cell_type": "markdown",
   "metadata": {},
   "source": [
    "<!-- END QUESTION -->\n",
    "\n",
    "### Question 1.2\n",
    "Now that we have considered what each row in the data represents, let's take a look at how many rows we have overall. This gives us a better idea of approximately how many years and stratifications of students per year we have in our data. Assign the variable `ucr_rows` to the number of rows in `ucr`. \n",
    "\n",
    "You should not write an integer, but instead use one of the table attributes we have talked about so far to **calculate** the number of rows.\n",
    "\n",
    "*Hint:* Stuck? Remember, you can reference all of the Table tools in `datascience` by looking at the Data 6 Python Reference sheet [here](http://data6.org/su24/reference). "
   ]
  },
  {
   "cell_type": "code",
   "execution_count": null,
   "metadata": {
    "tags": []
   },
   "outputs": [],
   "source": [
    "ucr_rows = ...\n",
    "ucr_rows"
   ]
  },
  {
   "cell_type": "code",
   "execution_count": null,
   "metadata": {
    "deletable": false,
    "editable": false
   },
   "outputs": [],
   "source": [
    "grader.check(\"q1_2\")"
   ]
  },
  {
   "cell_type": "markdown",
   "metadata": {},
   "source": [
    "<div class=\"alert alert-warning\">\n",
    "To get our analysis started, let's take a look at the <code>drop</code> and <code>relabeled</code> methods to see how we can clean up the appearance of the columns and tables to make viewing and working with the data easier.\n",
    "</div>"
   ]
  },
  {
   "cell_type": "markdown",
   "metadata": {},
   "source": [
    "---\n",
    "### Excluding columns: `drop`\n",
    "\n",
    "We now have information about UC Riverside's admissions in a `datascience` Table. It is common in data analysis for our tables to have columns that may not be relevant to what our exploration is focused on. One way of cleaning up our table to remove these unnecessary columns is to use the `drop` method!\n",
    "\n",
    "Along with having columns that may not be relevant to our exploration, it is very common for our datasets to have many rows or columns with `NaN` values (`nan` stands for \"Not A Number\", and it is typically used to denote a missing value). **However**, it is not a good idea to blindly drop columns with several NaN values from a table. Think back to what you saw with the missing values in Lab 2. What information would have been lost if we just dropped all missing values?\n",
    "\n",
    "Our table below fortunately doesn't have any missing values, so we'll be using the `drop` method to get rid of columns that aren't relevant in our analysis. This will make it easier to focus on the columns that we do care about. Below, let's use the `drop` method to remove a column from our table, such as the `\"New/Continuing Status\"` column:"
   ]
  },
  {
   "cell_type": "code",
   "execution_count": null,
   "metadata": {},
   "outputs": [],
   "source": [
    "ucr = ucr.drop(\"New/Continuing Status\")\n",
    "ucr.show(5)"
   ]
  },
  {
   "cell_type": "markdown",
   "metadata": {},
   "source": [
    "*Note:* By dropping the `\"New/Continuing Status\"` column above, we no longer have information on whether the students in the stratification are new or continuing, so there may be some rows that appear to be duplicates. This is one of the downsides of dropping columns we aren't focusing on -- we may lose some data and context in the process! However, for our exploration's purposes, this information isn't that important, so we'll continue without it."
   ]
  },
  {
   "cell_type": "markdown",
   "metadata": {},
   "source": [
    "### Question 1.3 (Multiple Choice)\n",
    "If the `\"Full-Time Status\"` column is dropped using the `drop` method, what would `ucr_dropped` look like? You can answer the question by assigning `q1_3` to `make_array(...)` where `...` is the choice of your answer (eg. `make_array(3)`).\n",
    "\n",
    "1. It contains only rows with NaN values.\n",
    "2. It contains only the columns before the `\"Full-Time Status\"` column.\n",
    "3. It contains all columns except the `\"Full-Time Status\"` column.\n",
    "4. It contains the same columns as the original table, but all NaN values in the `\"Full-Time Status\"` column are dropped."
   ]
  },
  {
   "cell_type": "code",
   "execution_count": null,
   "metadata": {
    "tags": []
   },
   "outputs": [],
   "source": [
    "q1_3 = ..."
   ]
  },
  {
   "cell_type": "code",
   "execution_count": null,
   "metadata": {
    "deletable": false,
    "editable": false
   },
   "outputs": [],
   "source": [
    "grader.check(\"q1_3\")"
   ]
  },
  {
   "cell_type": "markdown",
   "metadata": {},
   "source": [
    "---\n",
    "### Changing column labels: `relabeled`\n",
    "\n",
    "Sometimes the original column names of the data are long or not descriptive enough. We can rename column labels using the `relabeled` method. With this function, you are able to:\n",
    "1. Relabel a *single column*\n",
    "2. Relabel *several columns* at once\n",
    "\n",
    "To change the names of multiple columns, we pass in an array of the old names and an array of the new names as the 2 inputs to `relabeled`.\n",
    "\n",
    "*Note*: You may see another method called `relabel` in the `datascience` documentation. Please avoid using this, as it can change your data when you may not want to."
   ]
  },
  {
   "cell_type": "markdown",
   "metadata": {},
   "source": [
    "### Question 1.4\n",
    "If we're accessing the `\"IPEDS Race/Ethnicity\"` column a lot, it could be cumbersome to type the long column name multiple times. Let's change the column label instead to `\"Race/Ethnicity\"`.\n",
    "\n",
    "*Hint*: We've provided skeleton code for you to use."
   ]
  },
  {
   "cell_type": "code",
   "execution_count": null,
   "metadata": {
    "tags": []
   },
   "outputs": [],
   "source": [
    "ucr_relabeled = ucr.relabeled(..., ...)\n",
    "ucr_relabeled.show(5)"
   ]
  },
  {
   "cell_type": "code",
   "execution_count": null,
   "metadata": {
    "deletable": false,
    "editable": false
   },
   "outputs": [],
   "source": [
    "grader.check(\"q1_4\")"
   ]
  },
  {
   "cell_type": "markdown",
   "metadata": {},
   "source": [
    "<div class=\"alert alert-warning\">\n",
    "In the next two sections of this part, we'll be looking at the <code>column</code> and <code>select</code> methods to discover ways of focusing on certain subsections of columns in our data.\n",
    "</div>"
   ]
  },
  {
   "cell_type": "markdown",
   "metadata": {},
   "source": [
    "---\n",
    "### Querying the table: `column`\n",
    "\n",
    "Looking at the first five rows of `ucr_relabeled` above, we can see some of the possible values for each of the columns. For example, in the `\"Race/Ethnicity\"` column, we see that there are values such as \"Asian\", \"Black/African American\", etc. In order to get a better idea of the individual values that exist within a column of our dataset, we can query the table using the `column` method. Let's use this method on `\"Race/Ethnicity\"`."
   ]
  },
  {
   "cell_type": "code",
   "execution_count": null,
   "metadata": {},
   "outputs": [],
   "source": [
    "ethnicity_list = ucr_relabeled.column(\"Race/Ethnicity\")\n",
    "ethnicity_list"
   ]
  },
  {
   "cell_type": "markdown",
   "metadata": {},
   "source": [
    "One downside of doing it this way is that the list would be long and repetitive, since it will include the race/ethnicity for every row, resulting in repeated values. To work around this, we can use the `np.unique` method to tell us all the race/ethnicity values only once as they appear:"
   ]
  },
  {
   "cell_type": "code",
   "execution_count": null,
   "metadata": {},
   "outputs": [],
   "source": [
    "np.unique(ethnicity_list)"
   ]
  },
  {
   "cell_type": "markdown",
   "metadata": {},
   "source": [
    "<div class=\"alert alert-warning\">\n",
    "This gives us a much clearer picture of what the possible representations of race/ethnicity are in this dataset. Looking at the values above, here's something to consider: do you find any issues with how the individuals can be categorized? Are there any labels that could be misleading or misrepresentative? Are there any groups of people who might not be included by this breakdown? <br><br>\n",
    "\n",
    "We'll consider this idea of representation of the data as we continue through the lab.\n",
    "</div>"
   ]
  },
  {
   "cell_type": "markdown",
   "metadata": {},
   "source": [
    "---\n",
    "### Picking columns: `select`\n",
    "\n",
    "In many cases during data analysis, there will be several columns that we aren't interested in, and only a few that we are. Instead of dropping several columns as we learned about earlier, we can use the `select` method to grab only the columns we want. "
   ]
  },
  {
   "cell_type": "markdown",
   "metadata": {},
   "source": [
    "### Question 1.5\n",
    "For this example, we only want to keep the `\"Year\"`, `\"Level\"`, `\"Full-Time Status\"`, `\"Race/Ethnicity\"`, and `\"Fall Headcount\"`  columns. Fill in the following code so that the `ucr_relabeled` table has only the relevant columns."
   ]
  },
  {
   "cell_type": "code",
   "execution_count": null,
   "metadata": {
    "tags": []
   },
   "outputs": [],
   "source": [
    "ucr_selected = ...\n",
    "ucr_selected"
   ]
  },
  {
   "cell_type": "code",
   "execution_count": null,
   "metadata": {
    "deletable": false,
    "editable": false
   },
   "outputs": [],
   "source": [
    "grader.check(\"q1_5\")"
   ]
  },
  {
   "cell_type": "markdown",
   "metadata": {},
   "source": [
    "### Question 1.6 (Multiple Choice)\n",
    "What is the purpose of using the `select` method in this context? You can answer the question by assigning `q1_6` to `make_array(...)` where `...` is the choice of your answer (eg. `make_array(3)`).\n",
    "\n",
    "1. To drop specific columns from the table selectively.\n",
    "2. To filter rows based on a corresponding condition to keep relevant information.\n",
    "3. To rearrange and rename columns in the table based on a criteria.\n",
    "4. To choose specific columns to keep in the table and create a new table with only the selected columns."
   ]
  },
  {
   "cell_type": "code",
   "execution_count": null,
   "metadata": {
    "tags": []
   },
   "outputs": [],
   "source": [
    "q1_6 = ..."
   ]
  },
  {
   "cell_type": "code",
   "execution_count": null,
   "metadata": {
    "deletable": false,
    "editable": false
   },
   "outputs": [],
   "source": [
    "grader.check(\"q1_6\")"
   ]
  },
  {
   "cell_type": "markdown",
   "metadata": {},
   "source": [
    "<hr style=\"border: 5px solid #003262;\" />\n",
    "<hr style=\"border: 1px solid #fdb515;\" />\n",
    "\n",
    "## Part 2: More Table Functions"
   ]
  },
  {
   "cell_type": "markdown",
   "metadata": {},
   "source": [
    "<div class=\"alert alert-warning\">\n",
    "In Part 1 of this lab, we learned about several Table methods that help clean up and reorganize the appearance of a table to make our analysis easier. In this part, we'll learn about a couple more Table methods that help us filter and hone in on specific aspects of our data that we're interested in. In our case, these methods will help us better explore the breakdown of the gender and race/ethnicity demographics of students at UC Riverside.\n",
    "</div>"
   ]
  },
  {
   "cell_type": "markdown",
   "metadata": {},
   "source": [
    "### Sorting a column: `sort`\n",
    "\n",
    "We will now introduce a new table method: `sort`. The `sort` table method allows us to see a table's column values sorted by its values in either **decreasing** (`descending=True`) or **increasing** (`descending=False`) order.\n",
    "\n",
    "Let's say we want to ask the question: among all years, and particularly among the different groups of students based on their demographics, which fall headcount was the highest? Sorting the table will not only allow us to see a potential trend of headcounts over the years, but it will also show us if there are any trends among which groups of students have the highest headcounts. Let's use the `sort` method to find out:"
   ]
  },
  {
   "cell_type": "code",
   "execution_count": null,
   "metadata": {},
   "outputs": [],
   "source": [
    "ucr_relabeled.sort(\"Fall Headcount\", descending=True)"
   ]
  },
  {
   "cell_type": "markdown",
   "metadata": {},
   "source": [
    "<div class=\"alert alert-warning\">\n",
    "The results that we see above are very interesting: firstly, we notice that the highest headcounts have all been in the most recent 10 years of the dataset (2013-2022), which shows us that student admissions at UC Riverside are higher than they were in the past; and secondly, we notice that the gender and race/ethnicity category is the same for the top 10 highest headcounts, female-identifying Chicanx/Latinx students. We may wonder how this breakdown would look by major or college as well, which we'll explore later in the lab.\n",
    "</div>"
   ]
  },
  {
   "cell_type": "markdown",
   "metadata": {},
   "source": [
    "### Question 2.1\n",
    "\n",
    "Using the same method but changing the `descending` parameter to `False`, we can discover the lowest fall headcounts. Fill in the following code using the `sort` method to accomplish this.\n",
    "\n",
    "*Note:* Be sure to use the `ucr_relabeled` table for this question!"
   ]
  },
  {
   "cell_type": "code",
   "execution_count": null,
   "metadata": {
    "tags": []
   },
   "outputs": [],
   "source": [
    "ucr_sorted_lowest = ...\n",
    "ucr_sorted_lowest.show(5)"
   ]
  },
  {
   "cell_type": "code",
   "execution_count": null,
   "metadata": {
    "deletable": false,
    "editable": false
   },
   "outputs": [],
   "source": [
    "grader.check(\"q2_1\")"
   ]
  },
  {
   "cell_type": "markdown",
   "metadata": {},
   "source": [
    "<div class=\"alert alert-warning\">\n",
    "The results from this call may not be as interesting as the previous one: we notice that there's a greater breakdown of full-time statuses and new/continuing statuses among these students, and each of these categories only had one individual in the 2022 fall semester. However, if we were to take a look at the next twenty or thirty lowest rows, this may yield some more valuable information about which groups of students are witnessing much lower admission rates.\n",
    "</div>"
   ]
  },
  {
   "cell_type": "markdown",
   "metadata": {},
   "source": [
    "---\n",
    "### Row selection: `where` and the `are` Predicates\n",
    "\n",
    "The last table method we will talk about is the `where` method. The `where` method keeps all rows that satisfiy a particular boolean condition. It takes in a column label and an `are` statement, which can be crafted using the `are` library. These are the most important `are` library predicates, but there are many more if you would like to investigate: [explore the 'are' library here.](https://data6.org/su23/reference/#tablewhere-predicates)\n",
    "\n",
    "| Method | Input Type | Method Description |\n",
    "| --- | --- | --- |\n",
    "| `are.equal_to(n)` | number | Is the value from the column equal to `n`? |\n",
    "| `are.above(n)` | number | Is the value from the column above `n`? |\n",
    "| `are.above_or_equal_to(n)` | number | Is the value from the column above or equal to `n`? |\n",
    "| `are.below(n)` | number | Is the value from the column below `n`? |\n",
    "| `are.below_or_equal_to(n)` | number | Is the value from the column below or equal `n`? |\n",
    "| `are.containing(s)` | string | Is `s` contained in the string value from the given column? |\n",
    "| `are.containined_in(s)` | string | Is the string value from the given column contained in `s`? |\n",
    "\n",
    "Adding a `not_` in front of all of these predicates makes each method do the opposite of what it does (ex: `are.not_equal_to(n)`).\n",
    "\n",
    "*Note*: As we've seen in lecture, we can achieve an **exact match** by not explicitly using an `are` predicate. That is, `where(\"col\", are.equal_to(\"something\")` is identical to `where(\"col\", \"something\")`; the latter is shorthand for the former.\n",
    "\n",
    "For example, if we only wanted to see the rows in which the `\"Fall Headcount\"` was above 500, we could use the `where()` method combined with an `are` method:"
   ]
  },
  {
   "cell_type": "code",
   "execution_count": null,
   "metadata": {},
   "outputs": [],
   "source": [
    "ucr_relabeled.where(\"Fall Headcount\", are.above(500))"
   ]
  },
  {
   "cell_type": "markdown",
   "metadata": {},
   "source": [
    "<div class=\"alert alert-warning\">\n",
    "In the context of our exploration of student demographics, this method can be incredibly useful. For example, if we wanted to delve further into fall headcounts that were above 3 (to avoid getting tons of random rows like we did when using the <code>sort</code> method) but below 20, in order to find groups of students that had relatively low values for fall headcounts, we could use the <code>are.strictly_between</code> predicate:\n",
    "</div>"
   ]
  },
  {
   "cell_type": "code",
   "execution_count": null,
   "metadata": {},
   "outputs": [],
   "source": [
    "ucr_relabeled.where(\"Fall Headcount\", are.strictly_between(1, 21))"
   ]
  },
  {
   "cell_type": "markdown",
   "metadata": {},
   "source": [
    "<div class=\"alert alert-warning\">\n",
    "From this view of our data, we might be able to see more interesting trends, such as the low values of full-time Native Hawaiian / Pacific Islander undergrads in 2022. We could also chain together multiple <code>where</code> calls in order to satisfy conditions for different rows in our table. If we wanted to get even more specific in looking at these lower headcounts, we could specify the values as we did previously, but then also look for only full-time students:\n",
    "</div>"
   ]
  },
  {
   "cell_type": "code",
   "execution_count": null,
   "metadata": {},
   "outputs": [],
   "source": [
    "ucr_relabeled.where(\"Fall Headcount\", are.strictly_between(1, 21)).where(\"Full-Time Status\", are.equal_to(\"Full-Time\"))"
   ]
  },
  {
   "cell_type": "markdown",
   "metadata": {},
   "source": [
    "<div class=\"alert alert-warning\">\n",
    "You may notice that some of the rows appear to be duplicates, but they are different -- we just can't see it because we dropped the <code>\"New/Continuing Status\"</code> column earlier. Now, when we really limit the data like this, we can see some trends about which races/ethnicities have less students belonging to them. This table still includes both transfers and frosh, undergraduates and graduates, but we can see some consistencies with Native Hawaiian/Pacific Islander, Domestic Unknown, and Black/African American students tending to have lower numbers. This type of more complex use of the <code>where</code> method showcases just how useful it can be.\n",
    "</div>"
   ]
  },
  {
   "cell_type": "markdown",
   "metadata": {},
   "source": [
    "In the example above, you can see the use of the predicate `are.equal_to` in order to match strings (you can also match exact numbers this way). You can also use a shorthand of omitting the `are` predicate completely to achieve the same effect. For example, if we wanted to see the rows of only undergrads, we could use the shorthand in this way:"
   ]
  },
  {
   "cell_type": "code",
   "execution_count": null,
   "metadata": {},
   "outputs": [],
   "source": [
    "ucr_relabeled.where(\"Level\", \"Undergraduate\")"
   ]
  },
  {
   "cell_type": "markdown",
   "metadata": {},
   "source": [
    "When we omit the `are` predicate, the function is just using `are.equal_to` behind the scenes as the default option!"
   ]
  },
  {
   "cell_type": "markdown",
   "metadata": {},
   "source": [
    "### Question 2.2\n",
    "At this point in our analysis of the data, we have many tools under our belt to take a deeper look into the demographics of gender and race/ethnicity. For the following question, looking only at rows where the `\"Year\"` is equal to 2022, keep only the female-identifying students, and then sort by descending `\"Fall Headcount\"` value. Because this question is more complex and requires chaining together of multiple calls, we've provided skeleton code for you.\n",
    "\n",
    "*Hint:* Use the shorthand in the example above with the `where` methods."
   ]
  },
  {
   "cell_type": "code",
   "execution_count": null,
   "metadata": {
    "tags": []
   },
   "outputs": [],
   "source": [
    "ucr_f_2022 = ucr_relabeled.where(..., ...).where(..., ...).sort(..., ...)\n",
    "ucr_f_2022.show(5)"
   ]
  },
  {
   "cell_type": "code",
   "execution_count": null,
   "metadata": {
    "deletable": false,
    "editable": false
   },
   "outputs": [],
   "source": [
    "grader.check(\"q2_2\")"
   ]
  },
  {
   "cell_type": "markdown",
   "metadata": {},
   "source": [
    "<div class=\"alert alert-warning\">\n",
    "From the result above, you should see some similarities to what we found earlier when looking at the highest fall headcounts: female-identifying Chicanx/Latinx students make up some of the highest headcount values, regardless of <code>\"New/Continuing Status\"</code> or <code>\"Original Entry Type\"</code>. Additionally from this view, we can see that the next largest proportion of female-identifying students in 2022 had a race/ethnicity of Asian.\n",
    "</div>"
   ]
  },
  {
   "cell_type": "markdown",
   "metadata": {},
   "source": [
    "Now that we've learned a bit of surface-level information about the distribution of race/ethnicity, let's dig a little deeper into what the `\"Gender\"` column looks like. Utilizing the `np.unique` method that we used in the first section above, we can find the distinct values in the `\"Gender\"` column, to see which values are used to represent gender in this dataset."
   ]
  },
  {
   "cell_type": "code",
   "execution_count": null,
   "metadata": {},
   "outputs": [],
   "source": [
    "# Just run this cell\n",
    "np.unique(ucr.column(\"Gender\"))"
   ]
  },
  {
   "cell_type": "markdown",
   "metadata": {},
   "source": [
    "As we can see above, the only two options for representing gender in this dataset are \"Female\" and \"Male\". It can often be hard to determine how to represent complex pieces of information (especially when this information is about individual people) as categorized versions in data."
   ]
  },
  {
   "cell_type": "markdown",
   "metadata": {},
   "source": [
    "<!-- BEGIN QUESTION -->\n",
    "\n",
    "### Question 2.3 (Discussion)\n",
    "Because this categorization of gender may not be the best way to represent this information, what do you think some potential issues with looking only at the female-identifying individuals from our data are? Additionally, what are the implications and potential sources of harm when we have to categorize information like this?"
   ]
  },
  {
   "cell_type": "markdown",
   "metadata": {},
   "source": [
    "_Type your answer here, replacing this text._"
   ]
  },
  {
   "cell_type": "markdown",
   "metadata": {},
   "source": [
    "<!-- END QUESTION -->\n",
    "\n",
    "<div class=\"alert alert-warning\">\n",
    "We can tie your takeaways from this question back to one we asked earlier in the lab, while looking at the unique values available for race/ethnicity. There are certainly some issues with the representation of this demographic as well, as many individuals have to be lumped in together (e.g. students with origins from Middle Eastern or Arab countries having to identify themselves as \"White\", even when that likely does not accurately capture how they would identify themselves).\n",
    "</div>"
   ]
  },
  {
   "cell_type": "markdown",
   "metadata": {},
   "source": [
    "**Finally, for reference, here is the link to the Data 6 Python Reference (our Python cheat-sheet) so you can review some of the methods we've used for tables in this lab!**\n",
    "\n",
    "[Python Reference](http://data6.org/su24/reference)"
   ]
  },
  {
   "cell_type": "markdown",
   "metadata": {},
   "source": [
    "---\n",
    "## Done! 😇"
   ]
  },
  {
   "cell_type": "markdown",
   "metadata": {},
   "source": [
    "---"
   ]
  },
  {
   "attachments": {},
   "cell_type": "markdown",
   "metadata": {},
   "source": [
    "## Pets of Data 6\n",
    "Lilo hopes you're having a great time with Lab 4!\n",
    "\n",
    "<img src=\"lilo.jpeg\" width=\"40%\" alt=\"Cat next to a squirtle plushie\"/>"
   ]
  },
  {
   "cell_type": "markdown",
   "metadata": {
    "deletable": false,
    "editable": false
   },
   "source": [
    "## Submission\n",
    "\n",
    "Make sure you have run all cells in your notebook in order before running the cell below, so that all images/graphs appear in the output. The cell below will generate a zip file for you to submit. **Please save before exporting!**"
   ]
  },
  {
   "cell_type": "code",
   "execution_count": null,
   "metadata": {
    "deletable": false,
    "editable": false
   },
   "outputs": [],
   "source": [
    "# Save your notebook first, then run this cell to export your submission.\n",
    "grader.export(pdf=False, run_tests=True)"
   ]
  },
  {
   "cell_type": "markdown",
   "metadata": {},
   "source": [
    " "
   ]
  }
 ],
 "metadata": {
  "kernelspec": {
   "display_name": "Python 3",
   "language": "python",
   "name": "python3"
  },
  "language_info": {
   "codemirror_mode": {
    "name": "ipython",
    "version": 3
   },
   "file_extension": ".py",
   "mimetype": "text/x-python",
   "name": "python",
   "nbconvert_exporter": "python",
   "pygments_lexer": "ipython3",
   "version": "3.12.4"
  },
  "otter": {
   "OK_FORMAT": true,
   "tests": {
    "q1_2": {
     "name": "q1_2",
     "points": [
      0,
      1
     ],
     "suites": [
      {
       "cases": [
        {
         "code": ">>> assert isinstance(ucr_rows, int)\n",
         "hidden": false,
         "locked": false
        },
        {
         "code": ">>> assert ucr_rows == 5021\n",
         "hidden": false,
         "locked": false
        }
       ],
       "scored": true,
       "setup": "",
       "teardown": "",
       "type": "doctest"
      }
     ]
    },
    "q1_3": {
     "name": "q1_3",
     "points": [
      0,
      1
     ],
     "suites": [
      {
       "cases": [
        {
         "code": ">>> assert isinstance(q1_3, np.ndarray)\n",
         "hidden": false,
         "locked": false
        },
        {
         "code": ">>> assert q1_3 == make_array(3)\n",
         "hidden": false,
         "locked": false
        }
       ],
       "scored": true,
       "setup": "",
       "teardown": "",
       "type": "doctest"
      }
     ]
    },
    "q1_4": {
     "name": "q1_4",
     "points": [
      0,
      0.5,
      0.5,
      1
     ],
     "suites": [
      {
       "cases": [
        {
         "code": ">>> assert isinstance(ucr_relabeled, Table)\n",
         "hidden": false,
         "locked": false
        },
        {
         "code": ">>> assert \"Race/Ethnicity\" in ucr_relabeled.labels\n",
         "hidden": false,
         "locked": false
        },
        {
         "code": ">>> assert \"IPEDS Race/Ethnicity\" not in ucr_relabeled.labels\n",
         "hidden": false,
         "locked": false
        },
        {
         "code": ">>> assert all(ucr_relabeled) == all(ucr.relabeled('IPEDS Race/Ethnicity', 'Race/Ethnicity'))\n",
         "hidden": false,
         "locked": false
        }
       ],
       "scored": true,
       "setup": "",
       "teardown": "",
       "type": "doctest"
      }
     ]
    },
    "q1_5": {
     "name": "q1_5",
     "points": [
      0,
      1,
      1
     ],
     "suites": [
      {
       "cases": [
        {
         "code": ">>> assert isinstance(ucr_selected, Table)\n",
         "hidden": false,
         "locked": false
        },
        {
         "code": ">>> assert ucr_selected.num_columns == 5\n",
         "hidden": false,
         "locked": false
        },
        {
         "code": ">>> assert all(ucr_selected) == all(ucr_relabeled.select('Year', 'Level', 'Full-Time Status', 'Race/Ethnicity', 'Fall Headcount'))\n",
         "hidden": false,
         "locked": false
        }
       ],
       "scored": true,
       "setup": "",
       "teardown": "",
       "type": "doctest"
      }
     ]
    },
    "q1_6": {
     "name": "q1_6",
     "points": [
      0,
      1
     ],
     "suites": [
      {
       "cases": [
        {
         "code": ">>> assert isinstance(q1_6, np.ndarray)\n",
         "hidden": false,
         "locked": false
        },
        {
         "code": ">>> assert q1_6 == make_array(4)\n",
         "hidden": false,
         "locked": false
        }
       ],
       "scored": true,
       "setup": "",
       "teardown": "",
       "type": "doctest"
      }
     ]
    },
    "q2_1": {
     "name": "q2_1",
     "points": [
      0,
      1,
      1,
      1
     ],
     "suites": [
      {
       "cases": [
        {
         "code": ">>> assert isinstance(ucr_sorted_lowest, Table)\n",
         "hidden": false,
         "locked": false
        },
        {
         "code": ">>> assert ucr_sorted_lowest.take(0).column('Fall Headcount').item(0) == 1\n",
         "hidden": false,
         "locked": false
        },
        {
         "code": ">>> assert ucr_sorted_lowest.take(1).column('Race/Ethnicity').item(0) == 'Asian'\n",
         "hidden": false,
         "locked": false
        },
        {
         "code": ">>> assert all(ucr_sorted_lowest) == all(ucr_relabeled.sort(\"Fall Headcount\", descending=False))\n",
         "hidden": false,
         "locked": false
        }
       ],
       "scored": true,
       "setup": "",
       "teardown": "",
       "type": "doctest"
      }
     ]
    },
    "q2_2": {
     "name": "q2_2",
     "points": [
      0,
      1,
      1,
      1
     ],
     "suites": [
      {
       "cases": [
        {
         "code": ">>> assert isinstance(ucr_f_2022, Table)\n",
         "hidden": false,
         "locked": false
        },
        {
         "code": ">>> assert ucr_f_2022.num_rows == 94\n",
         "hidden": false,
         "locked": false
        },
        {
         "code": ">>> assert all(ucr_f_2022.column('Gender') == 'Female')\n",
         "hidden": false,
         "locked": false
        },
        {
         "code": ">>> assert all(ucr_f_2022.column('Year') == 2022)\n",
         "hidden": false,
         "locked": false
        }
       ],
       "scored": true,
       "setup": "",
       "teardown": "",
       "type": "doctest"
      }
     ]
    }
   }
  }
 },
 "nbformat": 4,
 "nbformat_minor": 5
}
