{
 "cells": [
  {
   "cell_type": "code",
   "execution_count": null,
   "metadata": {
    "deletable": false,
    "editable": false
   },
   "outputs": [],
   "source": [
    "# Initialize Otter\n",
    "import otter\n",
    "grader = otter.Notebook(\"lab03.ipynb\")"
   ]
  },
  {
   "cell_type": "markdown",
   "metadata": {},
   "source": [
    "<img src=\"data6.png\" style=\"width: 15%; float: right; padding: 1%; margin-right: 2%;\"/>\n",
    "\n",
    "# Lab 3 – Data Visualization\n",
    "\n",
    "## Data 6, Summer 2024\n",
    "So far, we have discussed methods to interpret the data, but what if we want to present our data in a visual format? In this lab, you'll learn several important table methods for producing data visualizations. **Visualizations** are some of the most powerful tools in data science; they're helpful for showing data to people who don't necessarily have a background in data science, and allow data scientists like yourselves to help others understand the data in a more intuitive way.\n",
    "\n",
    "In Lecture 8, we talked about methods we could use to visualize one variable, namely the `barh` and `hist` methods. We added the `scatter` and `plot` methods in Lecture 9. These methods allow us to visualize two or more variables at once, which can open up more patterns in the data and can further improve your ability to visualize data for people who do not necessarily understand data science.\n",
    "\n",
    "As data scientists, it is not only our job to be able to implement various visualization methods, but also to know *when* to use each method. As we build our toolkit of visualization techniques going forward, it's important to understand the **advantages and disadvantages of each visualization type.**"
   ]
  },
  {
   "cell_type": "code",
   "execution_count": null,
   "metadata": {
    "executionInfo": {
     "elapsed": 1742,
     "status": "ok",
     "timestamp": 1698980580990,
     "user": {
      "displayName": "Amy Alyssa Castillo",
      "userId": "09028318795527832231"
     },
     "user_tz": 420
    }
   },
   "outputs": [],
   "source": [
    "# Run this cell to load all required Python libraries\n",
    "import numpy as np\n",
    "from datascience import *\n",
    "\n",
    "import matplotlib.pyplot as plt\n",
    "plt.style.use(\"ggplot\")\n",
    "%matplotlib inline"
   ]
  },
  {
   "cell_type": "markdown",
   "metadata": {},
   "source": [
    "<div class=\"alert alert-warning\">\n",
    "Something important to note before we begin is that the <code>salary</code> dataset that we'll be using today, which includes information on jobholders and their salaries, came from <a href=https://www.kaggle.com/datasets/mohithsairamreddy/salary-data/data>Kaggle</a> and was supposedly combined from multiple surveys, job postings, and other public sources. However, the Kaggle source does not provide any of the original sources that the data was taken from, so we have no idea how reliable or real this data is. It's okay to use data like this for the sake of practice, but when doing so, it is important to remember that the conclusions you can make become much less reliable and trustworthy. When looking to use data that can make an impact, be sure to thoroughly research where your data is coming from and how it was collected. Keep this fact in mind as you're going through the lab!\n",
    "</div>"
   ]
  },
  {
   "cell_type": "markdown",
   "metadata": {},
   "source": [
    "<hr style=\"border: 5px solid #003262;\" />\n",
    "<hr style=\"border: 1px solid #fdb515;\" />\n",
    "\n",
    "## Part 1: Data Visualization Methods for One Variable"
   ]
  },
  {
   "cell_type": "markdown",
   "metadata": {},
   "source": [
    "<div class=\"alert alert-warning\">\n",
    "As stated in the introduction, this dataset contains information on jobholders and their salaries, so we'll be using it today to visualize some of the relationships between various characteristics of a jobholder and their salaries. For example, what sort of relationship might we see between an individual's gender and their salary? Is there a correlation between an individual's education level or years of experience and their salary? These are interesting starting questions to dive into exploration of the data, but remember what we said in the introduction: we aren't sure of the reliability of this data, so if we wanted to make concrete conclusions, we would need to check our results against more reliable sources. <br> <br>\n",
    "\n",
    "In this first part of the lab, we'll be looking at some methods for visualizing one variable, whether it's numeric or qualitative.\n",
    "</div>"
   ]
  },
  {
   "cell_type": "markdown",
   "metadata": {},
   "source": [
    "<div class=\"alert alert-warning\">\n",
    "Let's begin by loading in the original <code>Salary_Data.csv</code> file. This data required a lot of cleaning and manipulating behind the scenes in order to produce the visualizations in the lab, so be sure to keep that in mind: a lot of the time, you'll need to put work into preparing your data for analysis and visualization! Since some of the methods are out-of-scope for this course, we've done the cleaning for you beforehand.\n",
    "</div>"
   ]
  },
  {
   "cell_type": "code",
   "execution_count": null,
   "metadata": {
    "colab": {
     "base_uri": "https://localhost:8080/",
     "height": 374
    },
    "executionInfo": {
     "elapsed": 216,
     "status": "error",
     "timestamp": 1698980581203,
     "user": {
      "displayName": "Amy Alyssa Castillo",
      "userId": "09028318795527832231"
     },
     "user_tz": 420
    },
    "outputId": "a615bb86-2f97-489f-f3bd-08200c16452d"
   },
   "outputs": [],
   "source": [
    "salary = Table.read_table(\"Salary_Data.csv\")\n",
    "salary.show(5)"
   ]
  },
  {
   "cell_type": "markdown",
   "metadata": {},
   "source": [
    "### Contextualizing the Data\n",
    "As data scientists, it's important to take a look at the data we're working with to understand the information we have available to us. Take some time to look at our `salary` table and try to understand what information we have."
   ]
  },
  {
   "cell_type": "markdown",
   "metadata": {},
   "source": [
    "<div class=\"alert alert-warning\">\n",
    "One of the concepts we discussed in lecture was the <strong>unit of analysis</strong>, which comes from sociology. We defined it as essentially the entity that we are studying, which can range from the micro level (such as an individual) to the macro level (such as a nation). When first looking into our data, the level of the unit of analysis within our dataset is always important to consider.\n",
    "</div>"
   ]
  },
  {
   "cell_type": "markdown",
   "metadata": {},
   "source": [
    "<!-- BEGIN QUESTION -->\n",
    "\n",
    "### Question 1.1 (Discussion)\n",
    "What information does our table tell us? Additionally, what does each record (i.e. row) represent? In other words, what is the unit of analysis of our dataset?"
   ]
  },
  {
   "cell_type": "markdown",
   "metadata": {},
   "source": [
    "_Type your answer here, replacing this text._"
   ]
  },
  {
   "cell_type": "markdown",
   "metadata": {},
   "source": [
    "<!-- END QUESTION -->\n",
    "\n",
    "<!-- BEGIN QUESTION -->\n",
    "\n",
    "### Question 1.2 (Discussion)\n",
    "Are there any features (columns) of the data that may affect one another? What patterns can we learn from this data?"
   ]
  },
  {
   "cell_type": "markdown",
   "metadata": {},
   "source": [
    "_Type your answer here, replacing this text._"
   ]
  },
  {
   "cell_type": "markdown",
   "metadata": {},
   "source": [
    "<!-- END QUESTION -->\n",
    "\n",
    "<div class=\"alert alert-warning\">\n",
    "Because we expect some of the features to affect one another, this is another reason that we have to take our findings with a grain of salt: in some cases, there might appear to be a relationship among variables related to salary, but it may simply just because these variables are not independent of each other.\n",
    "</div>"
   ]
  },
  {
   "cell_type": "markdown",
   "metadata": {},
   "source": [
    "---\n",
    "### **The [barh](http://data8.org/datascience/_autosummary/datascience.tables.Table.barh.html#datascience.tables.Table.barh) method**\n",
    "\n",
    "The `barh` (horizontal bar chart) method is used to visualize **categorical** variable values. Categorical variables are non-numbers, like names and qualities (Color, Gender, Name etc.). As we saw in lecture, categorical variables come in 2 different types: *ordinal* and *nominal*. Refer to the Lecture 8 Slides linked on [the course site](https://data6.org/su24) to see the difference between the two types.\n",
    "\n",
    "The `barh` method takes in 1 mandatory argument, which is the **name of the column** you want on the left (vertical) axis of your `barh` plot. There are also optional arguments that have to do with plotting -- you'll see examples of those in this lab and in the homework. The remaining optional arguments in the `datascience` documentation linked above can also be used, feel free to try out some of the others on your own!\n",
    "\n",
    "**Important note:** To use the `barh` method properly, we first need to select the columns we want to see in the graph. We should not call `barh` directly on a large `Table` because without specifying a column, we get a bar graph for every single instance of every single variable, which you can imagine results in a lot of bar graphs. Therefore, in the cell below and throughout the lab **we utilize more advanced table functions for aggregating the data to make visualization easier.** Most of these functions are out of scope for this lab or this course. Just focus on the methods and functions for creating the visualizations throughout the lab!"
   ]
  },
  {
   "cell_type": "markdown",
   "metadata": {},
   "source": [
    "<div class=\"alert alert-warning\">\n",
    "In the context of our exploration of what factors impact salary, this visualization method (as well as <code>hist</code>, the next method we look at) will be very helpful in better understanding the breakdown of features that we're interested in, such as education level and gender, within the dataset.\n",
    "</div>"
   ]
  },
  {
   "cell_type": "code",
   "execution_count": null,
   "metadata": {
    "outputId": "97bc74e1-fd97-4662-8714-2a3d048d6b6b"
   },
   "outputs": [],
   "source": [
    "# Just run this cell -- don't worry about the `group` method\n",
    "gender = salary.group(\"Gender\")\n",
    "gender"
   ]
  },
  {
   "cell_type": "markdown",
   "metadata": {},
   "source": [
    "\n",
    "Since the `gender` table only has two columns, we can plot it with `barh`. The plot below results in one bar for each gender category, corresponding to the number of rows in the table with that value. "
   ]
  },
  {
   "cell_type": "code",
   "execution_count": null,
   "metadata": {
    "outputId": "8f266198-3ae8-4d74-806c-2c307238481d"
   },
   "outputs": [],
   "source": [
    "gender.barh(\"Gender\")"
   ]
  },
  {
   "cell_type": "markdown",
   "metadata": {},
   "source": [
    "Next, we can try to create the same graph to visualize education levels!"
   ]
  },
  {
   "cell_type": "code",
   "execution_count": null,
   "metadata": {
    "outputId": "8f767d6a-2fe4-41fc-a96a-8d0c1893d060"
   },
   "outputs": [],
   "source": [
    "# Just run this cell -- don't worry about the `group` method\n",
    "education = salary.group(\"Education Level\")\n",
    "education"
   ]
  },
  {
   "cell_type": "markdown",
   "metadata": {},
   "source": [
    "We see above that there are different values that actually mean the same thing (\"Bachelor's\" vs \"Bachelor's Degree\", etc.). To make sure all of the value names are consistent, we will load a fully cleaned version of the salary data into a table called `clean_salary`. We will then proceed to use this cleaned version for the rest of our table and visualization operations."
   ]
  },
  {
   "cell_type": "code",
   "execution_count": null,
   "metadata": {},
   "outputs": [],
   "source": [
    "clean_salary = Table.read_table(\"clean_data.csv\")\n",
    "clean_salary"
   ]
  },
  {
   "cell_type": "markdown",
   "metadata": {},
   "source": [
    "Now, if we group our data by `\"Education Level\"` you will see much more consistent values."
   ]
  },
  {
   "cell_type": "code",
   "execution_count": null,
   "metadata": {
    "outputId": "246ca35d-5101-406d-bd4f-ccb2401d7d13"
   },
   "outputs": [],
   "source": [
    "# Just run this cell -- don't worry about the `group` method\n",
    "education = clean_salary.group(\"Education Level\").take(make_array(1, 0, 2, 3))\n",
    "education"
   ]
  },
  {
   "cell_type": "markdown",
   "metadata": {},
   "source": [
    "<!-- BEGIN QUESTION -->\n",
    "\n",
    "### Question 1.3\n",
    "Following the example of the `gender` bar chart above, plot a horizontal bar chart that shows the counts of each category from the `\"Education Level\"` column.\n",
    "\n",
    "*Hint*: Use the `education` table."
   ]
  },
  {
   "cell_type": "code",
   "execution_count": null,
   "metadata": {
    "tags": []
   },
   "outputs": [],
   "source": [
    "# Replace the ... with the necessary code to plot the bar chart\n",
    "education.barh(...)"
   ]
  },
  {
   "cell_type": "markdown",
   "metadata": {},
   "source": [
    "<!-- END QUESTION -->\n",
    "\n",
    "### Multiple Columns\n",
    "\n",
    "We can also use `barh` to see multiple statistics at once. Let's use the `barh` method to see the average number of both *age* and *years of experience* for each eduction level. We'll be using the following columns:\n",
    "1. `\"Years of Experience\"`: The average years of experience of the employees with that education level\n",
    "2. `\"Age\"`: The average age of the employees with that education level\n",
    "\n",
    "Run the following cell to load an aggregated version of the dataset that contains the average statistics for each education level."
   ]
  },
  {
   "cell_type": "code",
   "execution_count": null,
   "metadata": {},
   "outputs": [],
   "source": [
    "# Just run this cell -- don't worry about the `group` or `drop` methods\n",
    "education_averages = clean_salary.group(\"Education Level\", np.mean).drop(\"Gender mean\", \"Job Title mean\")\n",
    "education_averages"
   ]
  },
  {
   "cell_type": "markdown",
   "metadata": {},
   "source": [
    "To look at *only* years of experience and age average for each education level, we need to select the `\"Education Level\"`, `\"Years of Experience Average\"`, and `\"Age Average\"` columns. We will discuss this method in the next lab, so don't worry if it doesn't make sense for now."
   ]
  },
  {
   "cell_type": "code",
   "execution_count": null,
   "metadata": {
    "outputId": "da6f5c8c-d252-4621-df16-87d5732ea892"
   },
   "outputs": [],
   "source": [
    "age_experience = education_averages.select(\"Education Level\", \"Years of Experience mean\", \"Age mean\").take(make_array(1, 0, 2, 3))\n",
    "age_experience"
   ]
  },
  {
   "cell_type": "markdown",
   "metadata": {},
   "source": [
    "Run the following cell to show an example of how to create an **overlaid bar chart** with two statistics."
   ]
  },
  {
   "cell_type": "code",
   "execution_count": null,
   "metadata": {
    "outputId": "0ed44e7e-b899-4fc3-8e7d-f269d966f040"
   },
   "outputs": [],
   "source": [
    "age_experience.barh(\"Education Level\", overlay = True)"
   ]
  },
  {
   "cell_type": "markdown",
   "metadata": {},
   "source": [
    "If we want different visualizations for each variable, we can set the optional `overlay` argument to `False`. The default value of `overlay` is `True`, so if you don't give it a value, you will get a plot with all the included variables at once."
   ]
  },
  {
   "cell_type": "code",
   "execution_count": null,
   "metadata": {
    "outputId": "85284ce1-9a61-4b3b-8c73-c942b48bbaa9"
   },
   "outputs": [],
   "source": [
    "age_experience.barh(\"Education Level\", overlay = False)"
   ]
  },
  {
   "cell_type": "markdown",
   "metadata": {},
   "source": [
    "This way, we can choose if we want to create one plot with all our information or a new plot for each piece of information!"
   ]
  },
  {
   "cell_type": "markdown",
   "metadata": {},
   "source": [
    "### Where `barh` fails\n",
    "\n",
    "The `barh` method works well on categorical variables, but what if we have a **numerical** variable that we want to see the distribution of? Let's see what happens if we try to use `barh` on a numerical variable (`\"Salary\"`) instead of a categorical variable:"
   ]
  },
  {
   "cell_type": "code",
   "execution_count": null,
   "metadata": {},
   "outputs": [],
   "source": [
    "# Just run this cell -- don't worry about the group method\n",
    "clean_salary.group('Salary')"
   ]
  },
  {
   "cell_type": "code",
   "execution_count": null,
   "metadata": {
    "outputId": "65e72af6-e73d-4938-e1b4-99adb74d33b9"
   },
   "outputs": [],
   "source": [
    "# Just run this cell -- don't worry about the `group` or `where` methods\n",
    "clean_salary.group(\"Salary\").where('Salary', are.above(190000)).barh(\"Salary\")"
   ]
  },
  {
   "cell_type": "markdown",
   "metadata": {},
   "source": [
    "As you can see, this bar plot is not particularly helpful. There are many categories that seem to not have any corresponding bar. Yet, that isn't the case! Seeing the breakdown of `\"Salary\"` does not provide us with any useful information, and it is also difficult to read or understand. Instead, for numerical variables, we have another visualization method that helps us visualize a numerical variable's distribution: **histograms**."
   ]
  },
  {
   "cell_type": "markdown",
   "metadata": {},
   "source": [
    "---\n",
    "### **The [hist](http://data8.org/datascience/_autosummary/datascience.tables.Table.hist.html#datascience.tables.Table.hist) method**\n",
    "\n",
    "The `hist` method allows us to see the distribution of a numerical variable. `hist` takes in 1 mandatory argument and has several optional arguments (feel free to look through the documentation and explore these optional arguments as before). **Remember: categorical variables should be visualized using `barh`, and numerical variables should be visualized using `hist`.**\n",
    "\n",
    "Let's take a look at the distribution of salaries among people to see how the `hist` method helps visualize numerical variables. We'll use the `clean_salary` table to create this histogram."
   ]
  },
  {
   "cell_type": "code",
   "execution_count": null,
   "metadata": {},
   "outputs": [],
   "source": [
    "# This plot shows the distribution of salaries among employees\n",
    "my_bins = np.arange(0, 300000, 10000)\n",
    "clean_salary.hist(\"Salary\", density = False, bins = my_bins)"
   ]
  },
  {
   "cell_type": "markdown",
   "metadata": {},
   "source": [
    "This shows us that most people have a salary between around 50,000 and 190,000. But there are also many people whose salaries are not in this range, due to how we specified the bins."
   ]
  },
  {
   "cell_type": "markdown",
   "metadata": {},
   "source": [
    "<!-- BEGIN QUESTION -->\n",
    "\n",
    "### Question 1.4\n",
    "Fill in the following code cell to produce a histogram representing the **distribution of years of experience** for employees.\n",
    "\n",
    "*Note*: Set the optional `bins` argument of the `hist` method to `my_bins`. We've provided this variable for you."
   ]
  },
  {
   "cell_type": "code",
   "execution_count": null,
   "metadata": {
    "tags": []
   },
   "outputs": [],
   "source": [
    "my_bins = np.arange(0, 35, 3)"
   ]
  },
  {
   "cell_type": "markdown",
   "metadata": {},
   "source": [
    "<!-- END QUESTION -->\n",
    "\n",
    "### Bachelor's Degree vs. Master's Degree"
   ]
  },
  {
   "cell_type": "markdown",
   "metadata": {},
   "source": [
    "Next, we'll explore a functionality of histograms that allows us to compare the salaries of bachelor's degree holders vs. those of master's holders. We can use `hist` on a `Table` with the rows for just these two education levels and use the optional `group` argument.\n",
    "\n",
    "*Note*: You'll see how `are.contained_in` works with the `where` method in the next lab. For now, think of it as finding any rows corresponding to *either* `\"Bachelor's Degree\"` or `\"Master's Degree\"`."
   ]
  },
  {
   "cell_type": "code",
   "execution_count": null,
   "metadata": {
    "outputId": "56762c4a-d047-4256-f41d-8b62d55e8ef2"
   },
   "outputs": [],
   "source": [
    "# Just run this cell to create the `bachelor_master` table\n",
    "bachelor_master = clean_salary.where(\"Education Level\", are.contained_in([\"Bachelor's Degree\", \"Master's Degree\"]))\n",
    "bachelor_master.show(5)"
   ]
  },
  {
   "cell_type": "markdown",
   "metadata": {},
   "source": [
    "<!-- BEGIN QUESTION -->\n",
    "\n",
    "### Question 1.5\n",
    "Now that we've created our `bachelor_master` table, fill in the following code cell to produce a histogram representing the ***distribution of salary*** for *both* people with a bachelor's degree and people with a master's degree.\n",
    "\n",
    "*Hint*: Take a look at the optional `group` argument in the documentation.\n",
    "\n",
    "*Note*: Set the optional `bins` argument of the `hist` method to `my_bins`. We've provided this variable for you."
   ]
  },
  {
   "cell_type": "code",
   "execution_count": null,
   "metadata": {
    "outputId": "f011bdbb-4189-4840-9812-84b5b03cf595",
    "tags": []
   },
   "outputs": [],
   "source": [
    "# This plot shows the distribution of salary for people with a bachelor's degree AND master's degree\n",
    "my_bins = np.arange(0, 300000, 10000)"
   ]
  },
  {
   "cell_type": "markdown",
   "metadata": {},
   "source": [
    "<!-- END QUESTION -->\n",
    "\n",
    "It appears that salary for those with a **master's degree** is higher, on average, than those with a bachelor's degree. The plot above shows the master's degree salary to be shifted to the right of the bachelor's degree salary. We can also take a look at a subset of the `education_averages` table from earlier to find the same information numerically:"
   ]
  },
  {
   "cell_type": "code",
   "execution_count": null,
   "metadata": {
    "outputId": "acbd797d-2fbd-4c8e-d3a8-4ae3573a1cad"
   },
   "outputs": [],
   "source": [
    "# Makes a table with education level and salary average from our `education_averages` table\n",
    "salary_average = education_averages.select(\"Education Level\", \"Salary mean\")\n",
    "salary_average"
   ]
  },
  {
   "cell_type": "markdown",
   "metadata": {},
   "source": [
    "Above, we created a basic `salary_average` table that gives us the average salary of each education level. Using this table, we can access the rows that correspond to the bachelor's degree salary average and the master's degree salary average."
   ]
  },
  {
   "cell_type": "code",
   "execution_count": null,
   "metadata": {},
   "outputs": [],
   "source": [
    "bachelors_avg = salary_average.where(\"Education Level\", \"Bachelor's Degree\")\n",
    "masters_avg = salary_average.where(\"Education Level\", \"Master's Degree\")"
   ]
  },
  {
   "cell_type": "code",
   "execution_count": null,
   "metadata": {
    "outputId": "351b44d9-31d4-48e9-cf1a-2d2a50783828"
   },
   "outputs": [],
   "source": [
    "print(f\"Bachelor's Degree salary average:\\t{bachelors_avg.column('Salary mean')[0]}\")\n",
    "print(f\"Master's Degree salary average:\\t{masters_avg.column('Salary mean')[0]}\")"
   ]
  },
  {
   "cell_type": "markdown",
   "metadata": {},
   "source": [
    "As we can see, the conclusion we reached from the bar chart appeared to line up with the information from the table operations. This is a benefit of visualization: information can be learned about the dataset with just visual observation. It is always beneficial to back your claims about data with concrete facts about the dataset, but **visualizations can help abstract away some of the confusion of looking at raw data** so that non-data-scientists can better understand what is going on."
   ]
  },
  {
   "cell_type": "markdown",
   "metadata": {},
   "source": [
    "### Bachelor's Degree vs. PhD\n",
    "\n",
    "Next, we'll explore a similar breakdown: comparing the salaries of bachelor's degree holders to those of PhD holders."
   ]
  },
  {
   "cell_type": "code",
   "execution_count": null,
   "metadata": {
    "outputId": "2ed4fbb5-7aae-4701-c8ec-8e9ab2cd46ab"
   },
   "outputs": [],
   "source": [
    "# Just run this cell\n",
    "bachelors = clean_salary.select(\"Education Level\", \"Salary\").where(\"Education Level\", \"Bachelor's Degree\")\n",
    "phd = clean_salary.select(\"Education Level\", \"Salary\").where(\"Education Level\", \"PhD\")\n",
    "print(f\"People with a Bachelor's education level in cleaned dataset: {bachelors.num_rows}\")\n",
    "print(f\"People with a PhD education level in cleaned dataset: {phd.num_rows}\")"
   ]
  },
  {
   "cell_type": "markdown",
   "metadata": {},
   "source": [
    "From the cell above, you should see a big discrepancy in the number of individuals in the dataset with a bachelor's degree vs. a PhD. We want to keep this in mind, as this large difference in sample sizes could potentially affect our analyses. To get an idea of what the range of salaries looks like for these two education levels, we plot them individually below:"
   ]
  },
  {
   "cell_type": "code",
   "execution_count": null,
   "metadata": {
    "outputId": "66ab1724-6e60-4acb-e293-78028ee10afd"
   },
   "outputs": [],
   "source": [
    "# This plot shows the distribution of salary for those with a bachelor's degree\n",
    "my_bins = np.arange(0, 180000, 10000)\n",
    "bachelors.hist(\"Salary\", bins = my_bins)"
   ]
  },
  {
   "cell_type": "code",
   "execution_count": null,
   "metadata": {
    "outputId": "fdeeb160-12d0-43d6-fb9a-33be257190ac"
   },
   "outputs": [],
   "source": [
    "# This plot shows the distribution of salary for those with a PhD\n",
    "my_bins = np.arange(0, 300000, 10000)\n",
    "phd.hist(\"Salary\",  bins = my_bins)"
   ]
  },
  {
   "cell_type": "markdown",
   "metadata": {},
   "source": [
    "On these plots individually, we see a very different distribution for the salaries. Below, we'll visualize them together as we did with the bachelor's vs. master's comparison:"
   ]
  },
  {
   "cell_type": "code",
   "execution_count": null,
   "metadata": {
    "outputId": "1a7de915-1a28-4772-8ade-a3674782cc50"
   },
   "outputs": [],
   "source": [
    "# Just run this cell -- this creates a table of the salaries of people with a PhD or Bachelor's Degree\n",
    "bachelor_phd = clean_salary.select(\"Education Level\", \"Salary\").where(\"Education Level\", are.contained_in([\"Bachelor's Degree\", \"PhD\"]))\n",
    "bachelor_phd.show(5)"
   ]
  },
  {
   "cell_type": "markdown",
   "metadata": {},
   "source": [
    "<!-- BEGIN QUESTION -->\n",
    "\n",
    "### Question 1.6\n",
    "Using the code in **Question 1.5** as reference, produce a histogram showing the distribution of salary for people with a *PhD* and people with a *bachelor's degree*. What do you notice about this plot?"
   ]
  },
  {
   "cell_type": "code",
   "execution_count": null,
   "metadata": {
    "outputId": "1cda991c-260c-47a8-84ef-e2200c19831b",
    "tags": []
   },
   "outputs": [],
   "source": [
    "my_bins = np.arange(0, 180000, 10000)"
   ]
  },
  {
   "cell_type": "markdown",
   "metadata": {},
   "source": [
    "<!-- END QUESTION -->\n",
    "\n",
    "<div class=\"alert alert-warning\">\n",
    "Here is where we could have arrived at some unreliable conclusions: for all the histograms in this lab so far, we've been taking a look at the density plots of these histograms, in which the y-axis is displayed in percent per unit rather than simply count. Let's take a look at what the plot could have looked like, if we were choosing to make count plots for our histograms instead:\n",
    "</div>"
   ]
  },
  {
   "cell_type": "code",
   "execution_count": null,
   "metadata": {},
   "outputs": [],
   "source": [
    "my_bins = np.arange(0, 180000, 10000)\n",
    "bachelor_phd.hist(\"Salary\", density = False, group = \"Education Level\", bins = my_bins)"
   ]
  },
  {
   "cell_type": "markdown",
   "metadata": {},
   "source": [
    "<div class=\"alert alert-warning\">\n",
    "When we make use of the <code>density = False</code> argument, we see that the y-axis plots the counts of individuals instead. As we discovered earlier, the sample sizes of the bachelor's holders vs. PhD holders in this dataset are quite different, and so it's difficult to draw any reliable conclusions from the plot above. When using histograms to visualize data in the future, pay attention to whether a density distribution or a count distribution makes the most sense and is the most reliable for drawing conclusions!\n",
    "</div>"
   ]
  },
  {
   "cell_type": "markdown",
   "metadata": {},
   "source": [
    "<hr style=\"border: 5px solid #003262;\" />\n",
    "<hr style=\"border: 1px solid #fdb515;\" />\n",
    "\n",
    "## Part 2: Data Visualization Methods for Multiple Variables"
   ]
  },
  {
   "cell_type": "markdown",
   "metadata": {},
   "source": [
    "<div class=\"alert alert-warning\">\n",
    "In Part 1, we saw how we could use bar charts and histograms to visualize indvidual (and occasionally multiple) variables at once, in order to get a better idea of how our dataset is broken down and distributed across different features. In this section, we'll dive more into how we can visualize the relationships between variables and how one variable may affect another. For this part, we'll be honing in on the <code>\"Years of Experience\"</code> variable to test our informal hypothesis that an individual's years of experience may be positively correlated with their salary. Let's start this exploration with scatter plots.\n",
    "</div>"
   ]
  },
  {
   "cell_type": "markdown",
   "metadata": {},
   "source": [
    "### **The [scatter](http://data8.org/datascience/_autosummary/datascience.tables.Table.scatter.html#datascience.tables.Table.scatter) method**\n",
    "\n",
    "As we mentioned, visualizing two variables can show us patterns in the data. The `scatter` method allows us to see the relationship between two numerical variables in our data by producing a **scatter plot**. The first provided column name goes along the x-axis and the second goes along the y-axis.\n",
    "\n",
    "Let's take a look at the relationship between **years of experience** and **salary** using our `clean_salary` table."
   ]
  },
  {
   "cell_type": "markdown",
   "metadata": {},
   "source": [
    "### Producing Scatter Plots\n",
    "\n",
    "Now, we can call `scatter` on the `clean_salary` table. Run the following cell to do so."
   ]
  },
  {
   "cell_type": "code",
   "execution_count": null,
   "metadata": {
    "outputId": "b38443e9-aad3-4f18-c987-1466995ae03b"
   },
   "outputs": [],
   "source": [
    "clean_salary.scatter(\"Years of Experience\", \"Salary\")"
   ]
  },
  {
   "cell_type": "markdown",
   "metadata": {},
   "source": [
    "Just like that, you've produced your first scatter plot! It looks a little messy, however. Often, scatter plots can suffer from what's known as **[overplotting](https://www.displayr.com/what-is-overplotting/)**: when many data points fall on top of each other, creating a blob of data. When this happens, it's often difficult to see the individual data points.\n",
    "\n",
    "To fix this, we can focus in on a smaller subset of the data. In this case, we'll look at individuals who have a PhD education level."
   ]
  },
  {
   "cell_type": "markdown",
   "metadata": {},
   "source": [
    "<div class=\"alert alert-warning\">\n",
    "We decide to take only individuals with PhDs as it significantly reduces the size of the data, but something important to note is that whatever trends we find in the scatter plot below might not completely line up with or be true to the trend regarding the general population of the whole dataset.\n",
    "</div>"
   ]
  },
  {
   "cell_type": "code",
   "execution_count": null,
   "metadata": {
    "outputId": "a984fff2-8854-49ee-db73-0cd717dd1f15"
   },
   "outputs": [],
   "source": [
    "# Create a smaller subset of data; only individuals with a PhD\n",
    "scatter_phd = clean_salary.where(\"Education Level\", \"PhD\")\n",
    "scatter_phd"
   ]
  },
  {
   "cell_type": "markdown",
   "metadata": {},
   "source": [
    "<!-- BEGIN QUESTION -->\n",
    "\n",
    "### Question 2.1\n",
    "Using the `scatter_phd` table, produce a scatter plot that plots `\"Years of Experience\"` on the x-axis and `\"Salary\"` on the y-axis. Your code should be very similar to the previous scatter plot."
   ]
  },
  {
   "cell_type": "code",
   "execution_count": null,
   "metadata": {
    "tags": []
   },
   "outputs": [],
   "source": [
    "# Replace the ... with the necessary code to plot the scatter plot\n",
    "scatter_phd.scatter(...)"
   ]
  },
  {
   "cell_type": "markdown",
   "metadata": {},
   "source": [
    "<!-- END QUESTION -->\n",
    "\n",
    "That looks a little better! There is still a cluster of data points in the bottom left corner, but a relationship can be seen between the two variables."
   ]
  },
  {
   "cell_type": "markdown",
   "metadata": {},
   "source": [
    "<div class=\"alert alert-warning\">\n",
    "Analyze your scatter plot above and see if you notice anything interesting. One question to consider is why there are distinct vertical lines of data points, and how this makes sense based on how the <code>\"Years of Experience\"</code> feature is represented.\n",
    "</div>"
   ]
  },
  {
   "cell_type": "markdown",
   "metadata": {},
   "source": [
    "<!-- BEGIN QUESTION -->\n",
    "\n",
    "### Question 2.2 (Discussion)\n",
    "What relationship between years of experience and salary (for PhD holders specifically, in this case) does the above scatter plot reveal? Discuss with someone around you and check in with your GSI once you've agreed on an answer."
   ]
  },
  {
   "cell_type": "markdown",
   "metadata": {},
   "source": [
    "_Type your answer here, replacing this text._"
   ]
  },
  {
   "cell_type": "markdown",
   "metadata": {},
   "source": [
    "<!-- END QUESTION -->\n",
    "\n",
    "### Optional argument: `group`\n",
    "\n",
    "The `scatter` method also allows you to specify specific a group for each data point using the `group` keyword argument.\n",
    "\n",
    "Say we wanted to investigate the relationship between an individual's **years of experience** and their **salary** with respect to their reported **gender**."
   ]
  },
  {
   "cell_type": "code",
   "execution_count": null,
   "metadata": {
    "outputId": "08f8c511-dd49-4499-adc2-d886214b38e5"
   },
   "outputs": [],
   "source": [
    "scatter_phd.scatter(\"Years of Experience\", \"Salary\", group = \"Gender\")"
   ]
  },
  {
   "cell_type": "markdown",
   "metadata": {},
   "source": [
    "**TODO: need to update this text in GitHub repo version** By utilizing the `group` argument, we see our scatter plot stratified into the different categories our data has for gender. This gives us a better insight into the trends of the relationship between years of experience and salary for each gender, rather than simply looking at all gender categories together."
   ]
  },
  {
   "cell_type": "markdown",
   "metadata": {},
   "source": [
    "<!-- BEGIN QUESTION -->\n",
    "\n",
    "### Question 2.3 (Discussion)\n",
    "Are there any patterns you can notice from the scatter plot? Gender biases, when one gender is given preferential treatment (promotions, higher salaries, less work, etc.) over another or when there is a prejudice against one gender, can be prevalent within the workplace. Does this scatter plot show any gender biases? What might this look like in a real-world setting?"
   ]
  },
  {
   "cell_type": "markdown",
   "metadata": {},
   "source": [
    "_Type your answer here, replacing this text._"
   ]
  },
  {
   "cell_type": "markdown",
   "metadata": {},
   "source": [
    "<!-- END QUESTION -->\n",
    "\n",
    "Scatter plots are useful when visualizing two numerical variables together. If you want to plot two numerical variables but one variable corresponds to time, we can use a line plot to visualize this instead."
   ]
  },
  {
   "cell_type": "markdown",
   "metadata": {},
   "source": [
    "---\n",
    "### **The [plot](http://data8.org/datascience/_autosummary/datascience.tables.Table.plot.html#datascience.tables.Table.plot) method**\n",
    "\n",
    "Similar to `scatter`, we give `plot` the names of two numerical columns and it creates a **line plot** for us. If we want to draw multiple line plots on the same set of axes, we give it a table with multiple numerical columns, and tell it which one contains the values for the x-axis.\n",
    "\n",
    "The `plot` method allows us to see how non-time variables change over time. Let's use `plot` to look at the age patterns over the course of years of experience. First, we will look at a single line plot using `plot`:"
   ]
  },
  {
   "cell_type": "code",
   "execution_count": null,
   "metadata": {
    "outputId": "49b47adb-6b69-4582-d576-b26a99e49de7"
   },
   "outputs": [],
   "source": [
    "# Just run this cell -- don't worry about the `group` or `drop` methods\n",
    "experience_age = clean_salary.group(\"Years of Experience\", np.mean).drop(\"Gender mean\", \"Job Title mean\", \"Education Level mean\", \"Salary mean\")\n",
    "experience_age"
   ]
  },
  {
   "cell_type": "markdown",
   "metadata": {},
   "source": [
    "<!-- BEGIN QUESTION -->\n",
    "\n",
    "### Question 2.4\n",
    "Using the `experience_age` table and the `plot` method, produce a *line plot* that plots the average age over years of experience.\n",
    "\n",
    "*Hint*: You'll want to plot the years of experience on the x-axis and average age on the y-axis."
   ]
  },
  {
   "cell_type": "code",
   "execution_count": null,
   "metadata": {
    "tags": []
   },
   "outputs": [],
   "source": [
    "# Replace the ... with the necessary code to plot the scatter plot\n",
    "experience_age.plot(...)"
   ]
  },
  {
   "cell_type": "markdown",
   "metadata": {},
   "source": [
    "<!-- END QUESTION -->\n",
    "\n",
    "### Identifying Temporal Patterns\n",
    "\n",
    "Line plots are incredibly effective tools for identifying temporal patterns (i.e. changes over time). Let's utilize our newfound knowledge of the `plot` method to uncover underlying temporal patterns within each education level as they get more years of experience. Run the following cell to create tables for each education level and the average salary for each additional year of experience. The subsequent cells will create their respective plots. Analyze the graphs and answer the question that follows."
   ]
  },
  {
   "cell_type": "code",
   "execution_count": null,
   "metadata": {},
   "outputs": [],
   "source": [
    "# Create tables for each education level\n",
    "hs_salary_avg = clean_salary.where(\"Education Level\", are.equal_to(\"High School\")).group(\"Years of Experience\", np.mean).drop(\"Gender mean\", \"Job Title mean\", \"Education Level mean\", \"Age mean\")\n",
    "bachelor_salary_avg = clean_salary.where(\"Education Level\", are.equal_to(\"Bachelor's Degree\")).group(\"Years of Experience\", np.mean).drop(\"Gender mean\", \"Job Title mean\", \"Education Level mean\", \"Age mean\")\n",
    "master_salary_avg = clean_salary.where(\"Education Level\", are.equal_to(\"Master's Degree\")).group(\"Years of Experience\", np.mean).drop(\"Gender mean\", \"Job Title mean\", \"Education Level mean\", \"Age mean\")\n",
    "phd_salary_avg = clean_salary.where(\"Education Level\", are.equal_to(\"PhD\")).group(\"Years of Experience\", np.mean).drop(\"Gender mean\", \"Job Title mean\", \"Education Level mean\", \"Age mean\")"
   ]
  },
  {
   "cell_type": "code",
   "execution_count": null,
   "metadata": {
    "outputId": "6aa15b48-16a2-43d8-bb6b-008975c97833"
   },
   "outputs": [],
   "source": [
    "# Run this cell to produce a line plot for the high school education salary average\n",
    "hs_salary_avg.plot(\"Years of Experience\", \"Salary mean\")"
   ]
  },
  {
   "cell_type": "code",
   "execution_count": null,
   "metadata": {
    "outputId": "e303056a-0603-4caa-9800-f9aa784b05d2"
   },
   "outputs": [],
   "source": [
    "# Run this cell to produce a line plot for the bachelor's degree salary average\n",
    "bachelor_salary_avg.plot(\"Years of Experience\", \"Salary mean\")"
   ]
  },
  {
   "cell_type": "code",
   "execution_count": null,
   "metadata": {
    "outputId": "08c4fd9f-16b4-432c-a7a4-e135c9b3f578"
   },
   "outputs": [],
   "source": [
    "# Run this cell to produce a line plot for the master's degree salary average\n",
    "master_salary_avg.plot(\"Years of Experience\", \"Salary mean\")"
   ]
  },
  {
   "cell_type": "code",
   "execution_count": null,
   "metadata": {
    "outputId": "dac49a98-4a9b-4840-d1f0-f62713ea354b"
   },
   "outputs": [],
   "source": [
    "# Run this cell to produce a line plot for the PhD salary average\n",
    "phd_salary_avg.plot(\"Years of Experience\", \"Salary mean\")"
   ]
  },
  {
   "cell_type": "markdown",
   "metadata": {},
   "source": [
    "<!-- BEGIN QUESTION -->\n",
    "\n",
    "### Question 2.5 (Discussion)\n",
    "What patterns do you notice when comparing these line plots? Do any of them stand out to you? Do the results you are seeing make sense with respect to your knowlege of education levels? Be sure to pay close attention to the scales of the axes for each plot!"
   ]
  },
  {
   "cell_type": "markdown",
   "metadata": {},
   "source": [
    "_Type your answer here, replacing this text._"
   ]
  },
  {
   "cell_type": "markdown",
   "metadata": {},
   "source": [
    "<!-- END QUESTION -->\n",
    "\n",
    "### Multiple Variables\n",
    "If we want to visualize multiple variables on one plot, we can include them all in the table we call `plot` on."
   ]
  },
  {
   "cell_type": "code",
   "execution_count": null,
   "metadata": {
    "outputId": "acf0d994-ac97-46bb-ea99-15b70c1d02ba"
   },
   "outputs": [],
   "source": [
    "experience_age_salary = clean_salary.group(\"Years of Experience\", np.mean).drop(\"Gender mean\", \"Education Level mean\", \"Job Title mean\")\n",
    "experience_age_salary"
   ]
  },
  {
   "cell_type": "markdown",
   "metadata": {},
   "source": [
    "Since we are trying to compare `\"Salary mean\"` and `\"Age mean\"` and their units are different, we have to manipulate the data before plotting. To do this, let's first divide the `\"Salary mean\"` column by 1000 to get a better sense of the relationship. The cell below does this data manipulation for you."
   ]
  },
  {
   "cell_type": "code",
   "execution_count": null,
   "metadata": {
    "outputId": "6195486c-2862-4647-f296-156c40e96f61"
   },
   "outputs": [],
   "source": [
    "experience_age_salary = experience_age_salary.with_column('Salary mean', experience_age_salary.column('Salary mean') / 1000)\n",
    "experience_age_salary"
   ]
  },
  {
   "cell_type": "markdown",
   "metadata": {},
   "source": [
    "<!-- BEGIN QUESTION -->\n",
    "\n",
    "### Question 2.6\n",
    "Using the `experience_age_salary` table, produce a scatter plot with *one line per variable* other than `\"Years of Experience\"`. That is, `\"Years of Experience\"` should be plotted on the x-axis."
   ]
  },
  {
   "cell_type": "code",
   "execution_count": null,
   "metadata": {
    "tags": []
   },
   "outputs": [],
   "source": [
    "# Replace the ... with the necessary code to plot the scatter plot\n",
    "experience_age_salary.plot(...)"
   ]
  },
  {
   "cell_type": "markdown",
   "metadata": {},
   "source": [
    "<!-- END QUESTION -->\n",
    "\n",
    "### Question 3\n",
    "\n",
    "Make `finished` equal to the boolean `True` to state that you have worked on lab 3."
   ]
  },
  {
   "cell_type": "code",
   "execution_count": null,
   "metadata": {
    "tags": []
   },
   "outputs": [],
   "source": [
    "finished = ..."
   ]
  },
  {
   "cell_type": "code",
   "execution_count": null,
   "metadata": {
    "deletable": false,
    "editable": false
   },
   "outputs": [],
   "source": [
    "grader.check(\"q3\")"
   ]
  },
  {
   "cell_type": "markdown",
   "metadata": {},
   "source": [
    "---\n",
    "## Done! 😇"
   ]
  },
  {
   "cell_type": "markdown",
   "metadata": {},
   "source": [
    "---"
   ]
  },
  {
   "attachments": {},
   "cell_type": "markdown",
   "metadata": {},
   "source": [
    "## Pets of Data 6\n",
    "I hope you enjoyed Lab 3!\n",
    "\n",
    "<img src=\"Paulina.JPG\" width=\"40%\" alt=\"White dog sitting on grass\"/>"
   ]
  },
  {
   "cell_type": "markdown",
   "metadata": {
    "deletable": false,
    "editable": false
   },
   "source": [
    "## Submission\n",
    "\n",
    "Make sure you have run all cells in your notebook in order before running the cell below, so that all images/graphs appear in the output. The cell below will generate a zip file for you to submit. **Please save before exporting!**"
   ]
  },
  {
   "cell_type": "code",
   "execution_count": null,
   "metadata": {
    "deletable": false,
    "editable": false
   },
   "outputs": [],
   "source": [
    "# Save your notebook first, then run this cell to export your submission.\n",
    "grader.export(pdf=False, run_tests=True)"
   ]
  },
  {
   "cell_type": "markdown",
   "metadata": {},
   "source": [
    " "
   ]
  }
 ],
 "metadata": {
  "kernelspec": {
   "display_name": "Python 3",
   "language": "python",
   "name": "python3"
  },
  "language_info": {
   "codemirror_mode": {
    "name": "ipython",
    "version": 3
   },
   "file_extension": ".py",
   "mimetype": "text/x-python",
   "name": "python",
   "nbconvert_exporter": "python",
   "pygments_lexer": "ipython3",
   "version": "3.12.4"
  },
  "otter": {
   "OK_FORMAT": true,
   "tests": {
    "q3": {
     "name": "q3",
     "points": 1,
     "suites": [
      {
       "cases": [
        {
         "code": ">>> finished == True\nTrue",
         "hidden": false,
         "locked": false
        }
       ],
       "scored": true,
       "setup": "",
       "teardown": "",
       "type": "doctest"
      }
     ]
    }
   }
  }
 },
 "nbformat": 4,
 "nbformat_minor": 5
}
