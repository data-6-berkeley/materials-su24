{
 "cells": [
  {
   "cell_type": "code",
   "execution_count": null,
   "id": "a811d59a",
   "metadata": {
    "deletable": false,
    "editable": false
   },
   "outputs": [],
   "source": [
    "# Initialize Otter\n",
    "import otter\n",
    "grader = otter.Notebook(\"lab08.ipynb\")"
   ]
  },
  {
   "cell_type": "markdown",
   "id": "a4f58753",
   "metadata": {},
   "source": [
    "<img src=\"data6.png\" style=\"width: 15%; float: right; padding: 1%; margin-right: 2%;\"/>\n",
    "\n",
    "# Lab 8 - Randomness and Simulation\n",
    "\n",
    "## Data 6, Summer 2024\n",
    "\n",
    "Welcome to Lab 8! This week we will be covering content from lectures on **radomness** and **simulation**. We will also go over a famous problem known as the Monty Hall problem."
   ]
  },
  {
   "cell_type": "code",
   "execution_count": null,
   "id": "587ddb34",
   "metadata": {
    "execution": {
     "iopub.execute_input": "2024-07-29T02:34:58.304151Z",
     "iopub.status.busy": "2024-07-29T02:34:58.303656Z",
     "iopub.status.idle": "2024-07-29T02:34:59.544208Z",
     "shell.execute_reply": "2024-07-29T02:34:59.543932Z"
    }
   },
   "outputs": [],
   "source": [
    "# Just run this cell to load in the relevant dependencies\n",
    "from IPython.display import display, HTML\n",
    "from datascience import *\n",
    "import numpy as np\n",
    "\n",
    "import matplotlib.pyplot as plt\n",
    "%matplotlib inline\n",
    "plt.style.use('ggplot')"
   ]
  },
  {
   "cell_type": "markdown",
   "id": "b83b668c",
   "metadata": {},
   "source": [
    "## Part 1: Randomness\n",
    "\n",
    "As you've seen in lecture, computers give the illusion of randomness by using **pseudo-random** processes. We, as data scientists, can *control* the randomness of our computer by using a *seed*. \n",
    "\n",
    "Run the following cell **multiple times** to set a random seed value of 42 and then call the `np.random.randint` function. You'll quickly notice that the cell will always output the same integer every time."
   ]
  },
  {
   "cell_type": "code",
   "execution_count": null,
   "id": "f1309c62",
   "metadata": {
    "execution": {
     "iopub.execute_input": "2024-07-29T02:34:59.545833Z",
     "iopub.status.busy": "2024-07-29T02:34:59.545679Z",
     "iopub.status.idle": "2024-07-29T02:34:59.548668Z",
     "shell.execute_reply": "2024-07-29T02:34:59.548455Z"
    }
   },
   "outputs": [],
   "source": [
    "np.random.seed(42)\n",
    "np.random.randint(0, 100)"
   ]
  },
  {
   "cell_type": "markdown",
   "id": "8d29d62c",
   "metadata": {},
   "source": [
    "**Question 1.1:** Play around with the seed value assigned to the `my_seed_val` variable. What happens to the resulting call to `randint` when you change the seed value? What stays the same?"
   ]
  },
  {
   "cell_type": "code",
   "execution_count": null,
   "id": "90687b2c",
   "metadata": {
    "execution": {
     "iopub.execute_input": "2024-07-29T02:34:59.549987Z",
     "iopub.status.busy": "2024-07-29T02:34:59.549904Z",
     "iopub.status.idle": "2024-07-29T02:34:59.551849Z",
     "shell.execute_reply": "2024-07-29T02:34:59.551622Z"
    }
   },
   "outputs": [],
   "source": [
    "my_seed_val = 500\n",
    "np.random.seed(my_seed_val)\n",
    "np.random.randint(0, 100)"
   ]
  },
  {
   "cell_type": "markdown",
   "id": "7c2ea9d9",
   "metadata": {},
   "source": [
    "_Type your answer here, replacing this text._"
   ]
  },
  {
   "cell_type": "markdown",
   "id": "3656826b",
   "metadata": {},
   "source": [
    "<!-- END QUESTION -->\n",
    "\n",
    "### `np.random.randint`\n",
    "\n",
    "The `randint` function takes in three arguments: a **start**, **stop**, and an optional **size**. In the cells above, we generated a single number in the range $[0,99)$. For more detail on the `randint` function, visit the Lecture 25 Slides.\n",
    "\n",
    "**Question 1.2**: In the following cell, generate an array of 100 integers between -500 and 500, inclusive on **both ends**. Assign the resulting array to `hundo_ints`.\n"
   ]
  },
  {
   "cell_type": "code",
   "execution_count": null,
   "id": "b33be531",
   "metadata": {
    "execution": {
     "iopub.execute_input": "2024-07-29T02:34:59.553371Z",
     "iopub.status.busy": "2024-07-29T02:34:59.553281Z",
     "iopub.status.idle": "2024-07-29T02:34:59.555875Z",
     "shell.execute_reply": "2024-07-29T02:34:59.555679Z"
    },
    "tags": []
   },
   "outputs": [],
   "source": [
    "# Seed set for testing purposes -- don't touch!\n",
    "np.random.seed(42)\n",
    "\n",
    "hundo_ints = ...\n",
    "hundo_ints"
   ]
  },
  {
   "cell_type": "code",
   "execution_count": null,
   "id": "a0aedfdd",
   "metadata": {
    "deletable": false,
    "editable": false
   },
   "outputs": [],
   "source": [
    "grader.check(\"q1.2\")"
   ]
  },
  {
   "cell_type": "markdown",
   "id": "43a98c2d",
   "metadata": {},
   "source": [
    "**Question 1.3 (Up or Down)**: In the world of tennis, it's commonplace to start a friendly match with the question: \"*Up or down?*\". One participant will spin their tennis racket on its head and let go -- whichever way the tennis racket is facing (i.e. up or down) determines who will serve first. The following is considered **up**.\n",
    "<figure>\n",
    "    <img src=\"up.jpeg\" alt='missing' width=150 height=150/>\n",
    "</figure>\n",
    "\n",
    "**Task:** Using `np.random.choice`, create an array called `ups_and_downs` containing the results of 1,000 spins of the tennis racket, assuming that *up* and *down* are both equally likely outcomes. The result results should be represented as `\"up\"` for landing up and `\"down\"` for landing down.\n",
    "\n",
    "For an explaination of `np.random.choice`, see the Data 8 reference sheet [here](https://www.data8.org/su24/reference/#:~:text=np.random.choice,random%20with%20replacement.)\n"
   ]
  },
  {
   "cell_type": "code",
   "execution_count": null,
   "id": "45455c47",
   "metadata": {
    "execution": {
     "iopub.execute_input": "2024-07-29T02:34:59.568876Z",
     "iopub.status.busy": "2024-07-29T02:34:59.568796Z",
     "iopub.status.idle": "2024-07-29T02:34:59.572332Z",
     "shell.execute_reply": "2024-07-29T02:34:59.572120Z"
    },
    "tags": []
   },
   "outputs": [],
   "source": [
    "# Seed set for testing purposes -- don't touch!\n",
    "np.random.seed(42)\n",
    "\n",
    "choices = ...\n",
    "ups_and_downs = ...\n",
    "ups_and_downs"
   ]
  },
  {
   "cell_type": "code",
   "execution_count": null,
   "id": "9bc168dc",
   "metadata": {
    "deletable": false,
    "editable": false
   },
   "outputs": [],
   "source": [
    "grader.check(\"q1.3\")"
   ]
  },
  {
   "cell_type": "markdown",
   "id": "468bbc29",
   "metadata": {},
   "source": [
    "## Part 2: The Monty Hall Problem\n",
    "<br>\n",
    "\n",
    "<img src=\"monty_hall.png\" width=500, height=400></img>\n",
    "\n",
    "You may already be familiar with the classic conundrum of the *Monty Hall Problem*, but here's a brief explanation of it. From [Wolfram](https://mathworld.wolfram.com/MontyHallProblem.html):\n",
    "> Assume that a room is equipped with **three doors**. Behind two are goats, and behind the third is a **shiny new car**. You are asked to pick a door, and will win whatever is behind it. Let's say you pick door 1. Before the door is opened, however, someone who knows what's behind the doors (Monty Hall) opens one of the other two doors, revealing a goat, and asks you if you wish to change your selection to the third door (i.e., the door which neither you picked nor he opened). The Monty Hall problem is deciding **whether or not you should switch doors**.\n",
    "\n",
    "In this section of the lab, you'll run a **simulation** to answer the question raised above.\n",
    "\n",
    "### Playing the Game\n",
    "\n",
    "Before we dive into the simulation itself, let's get a feel for the actual game as described above. Below, we've defined the `monty_hall` function which simulates an actual game of the **Monty Hall Problem**. "
   ]
  },
  {
   "cell_type": "code",
   "execution_count": null,
   "id": "6cfa06f9",
   "metadata": {
    "execution": {
     "iopub.execute_input": "2024-07-29T02:34:59.585274Z",
     "iopub.status.busy": "2024-07-29T02:34:59.585195Z",
     "iopub.status.idle": "2024-07-29T02:34:59.587321Z",
     "shell.execute_reply": "2024-07-29T02:34:59.587116Z"
    }
   },
   "outputs": [],
   "source": [
    "def monty_hall():\n",
    "    choice = int(input(\"What door would you like to choose?\\n\"))\n",
    "    \n",
    "    new_order_doors = np.random.permutation([\"goat\", \"goat\", \"car\"])\n",
    "    picked = new_order_doors.item(choice-1)\n",
    "    new_options = [\"goat\", \"car\"]\n",
    "    print(\"Monty reveals one of the goats!\")\n",
    "    second_choice = input(\"Would you like to 'stay' or 'switch'?\\n\")\n",
    "    \n",
    "    if second_choice == \"stay\":\n",
    "        if picked == \"car\":\n",
    "            display(HTML(\"<h1>🎉 You Win! 🎉</h1>\"))\n",
    "        else:\n",
    "            display(HTML(\"<h1>👎 You Lose. 👎</h1>\"))\n",
    "        return picked\n",
    "    elif second_choice == \"switch\":\n",
    "        new_options.remove(picked)\n",
    "        if new_options[0] == \"car\":\n",
    "            display(HTML(\"<h1>🎉 You Win! 🎉</h1>\"))\n",
    "        else:\n",
    "            display(HTML(\"<h1>👎 You Lose. 👎</h1>\"))\n",
    "        return new_options[0]"
   ]
  },
  {
   "cell_type": "code",
   "execution_count": null,
   "id": "dc7a2e8b",
   "metadata": {
    "execution": {
     "iopub.execute_input": "2024-07-29T02:34:59.588471Z",
     "iopub.status.busy": "2024-07-29T02:34:59.588390Z",
     "iopub.status.idle": "2024-07-29T02:34:59.733967Z",
     "shell.execute_reply": "2024-07-29T02:34:59.733735Z"
    }
   },
   "outputs": [],
   "source": [
    "# Just run this cell and follow the prompts\n",
    "monty_hall()"
   ]
  },
  {
   "cell_type": "markdown",
   "id": "afd1b9d5",
   "metadata": {},
   "source": [
    "## What's the Optimal Strategy?\n",
    "\n",
    "In order to run a simulation, we'll provide you with several helpful variables. The first is `goats`, an array of the two goats. The second is a function, `other_goat`, which, given a goat, it will return a string representing the **other goat**. This is important to distinguish the two goats from one another."
   ]
  },
  {
   "cell_type": "code",
   "execution_count": null,
   "id": "c4270747",
   "metadata": {
    "execution": {
     "iopub.execute_input": "2024-07-29T02:34:59.735385Z",
     "iopub.status.busy": "2024-07-29T02:34:59.735312Z",
     "iopub.status.idle": "2024-07-29T02:34:59.736959Z",
     "shell.execute_reply": "2024-07-29T02:34:59.736762Z"
    }
   },
   "outputs": [],
   "source": [
    "goats = make_array('first goat', 'second goat')"
   ]
  },
  {
   "cell_type": "code",
   "execution_count": null,
   "id": "b2f13e4a",
   "metadata": {
    "execution": {
     "iopub.execute_input": "2024-07-29T02:34:59.738195Z",
     "iopub.status.busy": "2024-07-29T02:34:59.738126Z",
     "iopub.status.idle": "2024-07-29T02:34:59.739750Z",
     "shell.execute_reply": "2024-07-29T02:34:59.739549Z"
    }
   },
   "outputs": [],
   "source": [
    "def other_goat(x):\n",
    "    if x == 'first goat':\n",
    "        return 'second goat'\n",
    "    elif x == 'second goat':\n",
    "        return 'first goat'"
   ]
  },
  {
   "cell_type": "markdown",
   "id": "c78e1b25",
   "metadata": {},
   "source": [
    "Run the following cells to see the `other_goat` function in action:"
   ]
  },
  {
   "cell_type": "code",
   "execution_count": null,
   "id": "23209f95",
   "metadata": {
    "execution": {
     "iopub.execute_input": "2024-07-29T02:34:59.740942Z",
     "iopub.status.busy": "2024-07-29T02:34:59.740876Z",
     "iopub.status.idle": "2024-07-29T02:34:59.742765Z",
     "shell.execute_reply": "2024-07-29T02:34:59.742561Z"
    }
   },
   "outputs": [],
   "source": [
    "other_goat('first goat')"
   ]
  },
  {
   "cell_type": "code",
   "execution_count": null,
   "id": "3000c083",
   "metadata": {
    "execution": {
     "iopub.execute_input": "2024-07-29T02:34:59.743882Z",
     "iopub.status.busy": "2024-07-29T02:34:59.743821Z",
     "iopub.status.idle": "2024-07-29T02:34:59.745599Z",
     "shell.execute_reply": "2024-07-29T02:34:59.745392Z"
    }
   },
   "outputs": [],
   "source": [
    "other_goat('second goat')"
   ]
  },
  {
   "cell_type": "markdown",
   "id": "d6ead8c0",
   "metadata": {},
   "source": [
    "### All Three Items\n",
    "\n",
    "Let's store both goats and the car into the new `hidden_behind_doors`."
   ]
  },
  {
   "cell_type": "code",
   "execution_count": null,
   "id": "7d12b3e0",
   "metadata": {
    "execution": {
     "iopub.execute_input": "2024-07-29T02:34:59.746782Z",
     "iopub.status.busy": "2024-07-29T02:34:59.746716Z",
     "iopub.status.idle": "2024-07-29T02:34:59.748591Z",
     "shell.execute_reply": "2024-07-29T02:34:59.748350Z"
    }
   },
   "outputs": [],
   "source": [
    "hidden_behind_doors = np.append(goats, 'car')\n",
    "hidden_behind_doors"
   ]
  },
  {
   "cell_type": "markdown",
   "id": "2a89aad2",
   "metadata": {},
   "source": [
    "### The Investigation\n",
    "\n",
    "Now it's time for the actual game. Once again, we'll define another helpful function called `run_monty_hall_simulation` which will simulate **one game** in a slightly different way than above. The function returns an **array of three items**: the contestant's guess, the door revealed by Monty Hall, and the item that is behind the remaining door."
   ]
  },
  {
   "cell_type": "code",
   "execution_count": null,
   "id": "3b2e4995",
   "metadata": {
    "execution": {
     "iopub.execute_input": "2024-07-29T02:34:59.749728Z",
     "iopub.status.busy": "2024-07-29T02:34:59.749659Z",
     "iopub.status.idle": "2024-07-29T02:34:59.751499Z",
     "shell.execute_reply": "2024-07-29T02:34:59.751304Z"
    }
   },
   "outputs": [],
   "source": [
    "def run_monty_hall_simulation():\n",
    "    \"\"\"Return \n",
    "    [contestant's guess, what Monty reveals, what remains behind the other door]\"\"\"\n",
    "    \n",
    "    contestant_guess = np.random.choice(hidden_behind_doors)\n",
    "    \n",
    "    if contestant_guess == 'first goat':\n",
    "        return make_array(contestant_guess, 'second goat', 'car')\n",
    "    \n",
    "    if contestant_guess == 'second goat':\n",
    "        return make_array(contestant_guess, 'first goat', 'car')\n",
    "    \n",
    "    if contestant_guess == 'car':\n",
    "        revealed = np.random.choice(goats)\n",
    "        return make_array(contestant_guess, revealed, other_goat(revealed))"
   ]
  },
  {
   "cell_type": "markdown",
   "id": "19c65a26",
   "metadata": {},
   "source": [
    "Run the following cell to simulate one game (you don't need to pass any arguments into the `monty_hall_game` function):"
   ]
  },
  {
   "cell_type": "code",
   "execution_count": null,
   "id": "5ed92254",
   "metadata": {
    "execution": {
     "iopub.execute_input": "2024-07-29T02:34:59.752669Z",
     "iopub.status.busy": "2024-07-29T02:34:59.752603Z",
     "iopub.status.idle": "2024-07-29T02:34:59.754431Z",
     "shell.execute_reply": "2024-07-29T02:34:59.754227Z"
    }
   },
   "outputs": [],
   "source": [
    "run_monty_hall_simulation()"
   ]
  },
  {
   "cell_type": "markdown",
   "id": "e19c900e",
   "metadata": {},
   "source": [
    "We can interpret these results as: the original choice of door had the `\"first goat\"` behind it, Monty revealed the `\"second goat\"`, and the remaining door had the `\"car\"` behind it."
   ]
  },
  {
   "cell_type": "markdown",
   "id": "8296f586",
   "metadata": {},
   "source": [
    "### Collecting the Data\n",
    "\n",
    "In order to accurately answer the question of *switching*, the best course of action is to simulate *many, many games* and see the results in aggregate. Then, we'll be able analyze the results to make our decision. The following cell will run 10,000 games and store the results in a new table called `games`."
   ]
  },
  {
   "cell_type": "code",
   "execution_count": null,
   "id": "0d2cce10",
   "metadata": {
    "execution": {
     "iopub.execute_input": "2024-07-29T02:34:59.755690Z",
     "iopub.status.busy": "2024-07-29T02:34:59.755602Z",
     "iopub.status.idle": "2024-07-29T02:35:00.183570Z",
     "shell.execute_reply": "2024-07-29T02:35:00.183350Z"
    }
   },
   "outputs": [],
   "source": [
    "games = Table(make_array('Guess', 'Revealed', 'Remaining'))\n",
    "\n",
    "for i in np.arange(10000):\n",
    "    games.append(run_monty_hall_simulation())\n",
    "\n",
    "games.show(5)"
   ]
  },
  {
   "cell_type": "markdown",
   "id": "f88b5361",
   "metadata": {},
   "source": [
    "### What's in the Remaining Door?\n",
    "\n",
    "Let's now aggregate the results by our **original choice of door** and the item in the **remaining door**. You'll notice that we originally chose each door around the same number of times (~1/3 for each door), but the car is in the remaining door ~2/3rds of the time."
   ]
  },
  {
   "cell_type": "code",
   "execution_count": null,
   "id": "c08e69c7",
   "metadata": {
    "execution": {
     "iopub.execute_input": "2024-07-29T02:35:00.184945Z",
     "iopub.status.busy": "2024-07-29T02:35:00.184864Z",
     "iopub.status.idle": "2024-07-29T02:35:00.229278Z",
     "shell.execute_reply": "2024-07-29T02:35:00.229057Z"
    }
   },
   "outputs": [],
   "source": [
    "original_choice = games.group('Guess')\n",
    "original_choice"
   ]
  },
  {
   "cell_type": "code",
   "execution_count": null,
   "id": "537908f4",
   "metadata": {
    "execution": {
     "iopub.execute_input": "2024-07-29T02:35:00.230516Z",
     "iopub.status.busy": "2024-07-29T02:35:00.230433Z",
     "iopub.status.idle": "2024-07-29T02:35:00.310726Z",
     "shell.execute_reply": "2024-07-29T02:35:00.310507Z"
    }
   },
   "outputs": [],
   "source": [
    "remaining_door = games.group('Remaining')\n",
    "remaining_door"
   ]
  },
  {
   "cell_type": "markdown",
   "id": "45d9e92f",
   "metadata": {},
   "source": [
    "Let's combine our results into one, cleanly-formatted table:"
   ]
  },
  {
   "cell_type": "code",
   "execution_count": null,
   "id": "fcfc54dc",
   "metadata": {
    "execution": {
     "iopub.execute_input": "2024-07-29T02:35:00.312080Z",
     "iopub.status.busy": "2024-07-29T02:35:00.312008Z",
     "iopub.status.idle": "2024-07-29T02:35:00.315123Z",
     "shell.execute_reply": "2024-07-29T02:35:00.314926Z"
    }
   },
   "outputs": [],
   "source": [
    "joined = original_choice.join('Guess', remaining_door, 'Remaining')\n",
    "combined = joined.relabeled(0, 'Item').relabeled(1, 'Original Door').relabeled(2, 'Remaining Door')\n",
    "combined"
   ]
  },
  {
   "cell_type": "markdown",
   "id": "e66126c4",
   "metadata": {},
   "source": [
    "<!-- BEGIN QUESTION -->\n",
    "\n",
    "### Visualizing Our Results\n",
    "\n",
    "While staring at the numbers in the table may be helpful, the most effective way to understand the results of our simulation is via a visualization.\n",
    "\n",
    "**Question 2.1:** In the following cell, produce a horizontal bar chart which plots each of **car**, **first goat**, and **second goat** as categories, each with two bars: one representing the count of *Original Door* from the simulation and one representing the count of *Remaining Door* from the simulation.\n"
   ]
  },
  {
   "cell_type": "code",
   "execution_count": null,
   "id": "ec0d33b6",
   "metadata": {
    "execution": {
     "iopub.execute_input": "2024-07-29T02:35:00.316390Z",
     "iopub.status.busy": "2024-07-29T02:35:00.316323Z",
     "iopub.status.idle": "2024-07-29T02:35:00.405857Z",
     "shell.execute_reply": "2024-07-29T02:35:00.405616Z"
    },
    "tags": []
   },
   "outputs": [],
   "source": [
    "..."
   ]
  },
  {
   "cell_type": "markdown",
   "id": "8f0125fa",
   "metadata": {},
   "source": [
    "<!-- END QUESTION -->\n",
    "\n",
    "Assuming you've plotted the bar chart above correctly, you should see clear evidence that **switching doors** is the better move. Switching doors gives you nearly a **66% chance** that you'll win the car. "
   ]
  },
  {
   "cell_type": "markdown",
   "id": "62210035",
   "metadata": {},
   "source": [
    "## Done! 😇"
   ]
  },
  {
   "attachments": {},
   "cell_type": "markdown",
   "id": "80cd469d",
   "metadata": {},
   "source": [
    "## Pets of Data 6\n",
    "You have now finished the final lab! Stand proud, you are strong!\n",
    "\n",
    "<img src=\"cat-weights.jpg\" width=\"50%\" alt=\"White cat lifting weights\"/>"
   ]
  },
  {
   "cell_type": "markdown",
   "id": "895e3faf",
   "metadata": {
    "deletable": false,
    "editable": false
   },
   "source": [
    "## Submission\n",
    "\n",
    "Make sure you have run all cells in your notebook in order before running the cell below, so that all images/graphs appear in the output. The cell below will generate a zip file for you to submit. **Please save before exporting!**"
   ]
  },
  {
   "cell_type": "code",
   "execution_count": null,
   "id": "832a8b57",
   "metadata": {
    "deletable": false,
    "editable": false
   },
   "outputs": [],
   "source": [
    "# Save your notebook first, then run this cell to export your submission.\n",
    "grader.export(pdf=False, run_tests=True)"
   ]
  },
  {
   "cell_type": "markdown",
   "id": "f6098222",
   "metadata": {},
   "source": [
    " "
   ]
  }
 ],
 "metadata": {
  "kernelspec": {
   "display_name": "Python 3",
   "language": "python",
   "name": "python3"
  },
  "language_info": {
   "codemirror_mode": {
    "name": "ipython",
    "version": 3
   },
   "file_extension": ".py",
   "mimetype": "text/x-python",
   "name": "python",
   "nbconvert_exporter": "python",
   "pygments_lexer": "ipython3",
   "version": "3.12.4"
  },
  "otter": {
   "OK_FORMAT": true,
   "tests": {
    "q1.2": {
     "name": "q1.2",
     "points": 1,
     "suites": [
      {
       "cases": [
        {
         "code": ">>> isinstance(hundo_ints, np.ndarray)\nTrue",
         "hidden": false,
         "locked": false
        },
        {
         "code": ">>> len(hundo_ints) == 100\nTrue",
         "hidden": false,
         "locked": false
        },
        {
         "code": ">>> min(hundo_ints) >= - 500 and max(hundo_ints) <= 500\nTrue",
         "hidden": false,
         "locked": false
        },
        {
         "code": ">>> hundo_ints.item(59) == 318\nTrue",
         "hidden": false,
         "locked": false
        }
       ],
       "scored": true,
       "setup": "",
       "teardown": "",
       "type": "doctest"
      }
     ]
    },
    "q1.3": {
     "name": "q1.3",
     "points": 1,
     "suites": [
      {
       "cases": [
        {
         "code": ">>> isinstance(ups_and_downs, np.ndarray)\nTrue",
         "hidden": false,
         "locked": false
        },
        {
         "code": ">>> len(ups_and_downs) == 1000\nTrue",
         "hidden": false,
         "locked": false
        },
        {
         "code": ">>> set(np.unique(ups_and_downs)) == set(make_array('down', 'up'))\nTrue",
         "hidden": false,
         "locked": false
        },
        {
         "code": ">>> ups_and_downs.item(499) == 'down'\nTrue",
         "hidden": false,
         "locked": false
        }
       ],
       "scored": true,
       "setup": "",
       "teardown": "",
       "type": "doctest"
      }
     ]
    }
   }
  }
 },
 "nbformat": 4,
 "nbformat_minor": 5
}
