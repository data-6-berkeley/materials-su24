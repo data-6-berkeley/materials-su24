{
 "cells": [
  {
   "cell_type": "code",
   "execution_count": null,
   "metadata": {
    "deletable": false,
    "editable": false
   },
   "outputs": [],
   "source": [
    "# Initialize Otter\n",
    "import otter\n",
    "grader = otter.Notebook(\"project1.ipynb\")"
   ]
  },
  {
   "cell_type": "markdown",
   "metadata": {},
   "source": [
    "<img src=\"data6.png\" style=\"width: 15%; float: right; padding: 1%; margin-right: 2%;\"/>\n",
    "\n",
    "# Final Project \u2013 Dictionaries\n",
    "\n",
    "## Data 6, Summer 2024\n",
    "\n",
    "In this project, you will solve problems involving dictionaries, a key data structure you'll need to be familiar with moving forward. You'll also gain some experience with reading in real data.\n",
    "\n",
    "This project is due on **Wednesday, August 7th at 11:00PM**. It is due one day earlier than usual so that you'll have time to focus on final exam studying. You must submit the assignment to Gradescope. Submission instructions can be found at the bottom of this notebook. See the [syllabus](https://data6.org/su24/syllabus/) for our late submission policy."
   ]
  },
  {
   "cell_type": "code",
   "execution_count": null,
   "metadata": {},
   "outputs": [],
   "source": [
    "# Just run this cell to load in the relevant dependencies\n",
    "\n",
    "from datascience import *\n",
    "from data6_utils import *\n",
    "import numpy as np\n",
    "import matplotlib.pyplot as plt\n",
    "from pathlib import Path\n",
    "from ipywidgets import interact, widgets\n",
    "from IPython.display import HTML, display\n",
    "%matplotlib inline\n",
    "plt.style.use('ggplot')"
   ]
  },
  {
   "cell_type": "markdown",
   "metadata": {},
   "source": [
    "<hr style=\"border: 5px solid #003262;\" />\n",
    "<hr style=\"border: 1px solid #fdb515;\" />\n",
    "\n",
    "## Part 1: Encryption\n",
    "\n",
    "<br></br>\n",
    "<hr style=\"border: 1px solid #fdb515;\" />"
   ]
  },
  {
   "cell_type": "markdown",
   "metadata": {},
   "source": [
    "\n",
    "In this project, we'll be taking a deep dive into a new Python data structure: **dictionaries**. While other data types we've seen in class are quite useful in many ways, dictionaries have a special purpose.\n",
    "\n",
    "<img src='dictionary.png' width=300>\n",
    "\n",
    "**Dictionaries** can be very useful. They store key/value pairs that can be used to map one value to another. You can think of a dictionary as a list where the indexes (locations) of the values of the list are no longer their integer locations, but rather their keys.\n",
    "\n",
    ">In an array, you access the first item with `my_array.item(0)`.\n",
    "\n",
    ">In a dictionary, you access the \"key-th\" item with `my_dictionary[key]`.\n",
    "\n",
    "If we think of list items as having their \"address\" be their location in the list, then a dictionary value's \"address\" is its key.\n",
    "\n",
    "Some important properties of dictionaries to note:\n",
    "- The key and value **do not** have to be of the same type\n",
    "- We designate a new key/value entry in a dictionary in this format: *key* **:** *value*\n",
    "- We store all these key/value entries in a dictionaries with braces `{}` around the ends (like `[]` with a list) and commas separating the entries\n",
    "- Keys in a dictionary are unique, but values don't have to be unique. \n",
    "    - For example {'a': 100, 'a': 200} is not a valid dictionary\n",
    "    - but, {'a': 100, 'b': 100} is a valid dictionary\n",
    "    \n",
    "Let's take a closer look at a dictionary in practice:"
   ]
  },
  {
   "cell_type": "code",
   "execution_count": null,
   "metadata": {},
   "outputs": [],
   "source": [
    "my_dictionary = {\"a\": 100, \"b\": 200, \"c\": 300}\n",
    "print(\"The value 'a' maps to the value:\", my_dictionary[\"a\"])\n",
    "print(\"The value 'b' maps to the value:\", my_dictionary[\"b\"])\n",
    "print(\"The value 'c' maps to the value:\", my_dictionary[\"c\"])"
   ]
  },
  {
   "cell_type": "markdown",
   "metadata": {},
   "source": [
    "### How to Access the Data\n",
    "\n",
    "We can't access a dictionary's values like we can access a list's values. If we want the \"first\" item in a dictionary, we cannot ask for `my_dictionary[0]`, because this request is really asking \"What does the key 0 map to in this dictionary?\". If your dictionary does not have a value associated with the key 0, you will get an error."
   ]
  },
  {
   "cell_type": "code",
   "execution_count": null,
   "metadata": {
    "tags": [
     "raises-exception"
    ]
   },
   "outputs": [],
   "source": [
    "my_dictionary[0]"
   ]
  },
  {
   "cell_type": "markdown",
   "metadata": {},
   "source": [
    "A `KeyError` warning means that you asked for a key that is not in your dictionary. This may happen when you are writing a function with a dictionary, so if you see it, this is what it means."
   ]
  },
  {
   "cell_type": "markdown",
   "metadata": {},
   "source": [
    "### Changing the Data\n",
    "\n",
    "We can add the key value pair `(key, value)` with the following syntax:\n",
    "\n",
    "> `my_dictionary[key] = value`\n",
    "\n",
    "Run the cell below to change the `\"d\"` entry of the dictionary to 400:"
   ]
  },
  {
   "cell_type": "code",
   "execution_count": null,
   "metadata": {},
   "outputs": [],
   "source": [
    "my_dictionary[\"d\"] = 400 # Add the key/value pair (\"d\", 400) to our dictionary\n",
    "my_dictionary"
   ]
  },
  {
   "cell_type": "markdown",
   "metadata": {},
   "source": [
    "We can use **any** data type we know as a value in a dictionary..."
   ]
  },
  {
   "cell_type": "code",
   "execution_count": null,
   "metadata": {},
   "outputs": [],
   "source": [
    "# Here, the value we add is a list!\n",
    "my_dictionary[\"grocery list\"] = make_array(\"apples\", \"bananas\", \"carrots\")\n",
    "my_dictionary"
   ]
  },
  {
   "cell_type": "markdown",
   "metadata": {},
   "source": [
    "...including even having a **dictionary itself** as a value! "
   ]
  },
  {
   "cell_type": "code",
   "execution_count": null,
   "metadata": {},
   "outputs": [],
   "source": [
    "my_dictionary[\"squares\"] = {1: 1, 2: 4, 3: 9, 4: 16}\n",
    "my_dictionary"
   ]
  },
  {
   "cell_type": "markdown",
   "metadata": {},
   "source": [
    "### Dictionary Iteration\n",
    "\n",
    "We can get a list of a dictionary's keys with the `.keys()` function."
   ]
  },
  {
   "cell_type": "code",
   "execution_count": null,
   "metadata": {},
   "outputs": [],
   "source": [
    "my_keys = my_dictionary.keys()\n",
    "my_keys"
   ]
  },
  {
   "cell_type": "code",
   "execution_count": null,
   "metadata": {},
   "outputs": [],
   "source": [
    "# Note the type of this list of keys\n",
    "type(my_keys)"
   ]
  },
  {
   "cell_type": "markdown",
   "metadata": {},
   "source": [
    "To iterate over the keys in a dictionary, we can use a `for` loop!"
   ]
  },
  {
   "cell_type": "code",
   "execution_count": null,
   "metadata": {},
   "outputs": [],
   "source": [
    "for key in my_dictionary:\n",
    "    print(\"I am a key, and my name is:\", key)"
   ]
  },
  {
   "cell_type": "markdown",
   "metadata": {},
   "source": [
    "We can also get a list of a dictionary's values with the `.values()` function."
   ]
  },
  {
   "cell_type": "code",
   "execution_count": null,
   "metadata": {},
   "outputs": [],
   "source": [
    "my_values = my_dictionary.values()\n",
    "my_values"
   ]
  },
  {
   "cell_type": "markdown",
   "metadata": {},
   "source": [
    "We can iterate over the values of a dictionary like this:"
   ]
  },
  {
   "cell_type": "code",
   "execution_count": null,
   "metadata": {},
   "outputs": [],
   "source": [
    "for value in list(my_dictionary.values()):\n",
    "    print(\"I am a value, and my name is:\", value)"
   ]
  },
  {
   "cell_type": "markdown",
   "metadata": {},
   "source": [
    "We can use this to do cool things like change all the values in a dictionary!"
   ]
  },
  {
   "cell_type": "code",
   "execution_count": null,
   "metadata": {},
   "outputs": [],
   "source": [
    "def add_one_to_dictionary_values(dictionary):\n",
    "    for key in dictionary:\n",
    "        dictionary[key] = dictionary[key] + 1\n",
    "    return dictionary\n",
    "\n",
    "new_dictionary = {\"data\": 6, \"cs\": 61, \"poli sci\": 1}\n",
    "modified_dictionary = add_one_to_dictionary_values(new_dictionary)\n",
    "modified_dictionary"
   ]
  },
  {
   "cell_type": "markdown",
   "metadata": {},
   "source": [
    "---\n",
    "## Question 1.1 - Fake-lish\n",
    "\n",
    "Let's try writing a function that uses a dictionary that can help us make up a whole new language so we can communicate in secret with our friends! We want to convert all of our text messages to our new language, which we call *Fake-lish*.\n",
    "\n",
    "*Fake-lish* converts all letters in a message to another letter. We make a dictionary that maps every letter to another letter, which makes our message impossible to read for anyone other than other people who have the *Fake-lish* dictionary!\n",
    "\n",
    "Spaces should be preserved by this function, so leave spaces as spaces when we convert the message to *Fake-lish*.\n",
    "\n",
    "Your function below should find each non white-space (i.e. \" \") character in `text`, use it as a key to find its corresponding value in `fake_lish_dictionary`, and then use those values to build a new word in Fake-lish. \n"
   ]
  },
  {
   "cell_type": "code",
   "execution_count": null,
   "metadata": {
    "tags": []
   },
   "outputs": [],
   "source": [
    "def fake_lish(text, fake_lish_dictionary):\n",
    "    output_text = ...\n",
    "    for letter in text:\n",
    "        if letter != \" \":\n",
    "            converted_letter = ...\n",
    "            output_text = output_text + converted_letter\n",
    "        else:\n",
    "            output_text = output_text + \" \"\n",
    "    return output_text\n",
    "\n",
    "# This is the fake-lish dictionary we will use for this question\n",
    "# You do not need to know how this works, and you do not need to touch it\n",
    "fld = {}\n",
    "for char in list(map(chr, range(97,123))):\n",
    "    fld[char] = chr((ord(char) - 97 + 13) % 26 + 97)\n",
    "fld"
   ]
  },
  {
   "cell_type": "code",
   "execution_count": null,
   "metadata": {
    "deletable": false,
    "editable": false
   },
   "outputs": [],
   "source": [
    "grader.check(\"q1.1\")"
   ]
  },
  {
   "cell_type": "markdown",
   "metadata": {},
   "source": [
    "### Using Our Function\n",
    "\n",
    "Now we can use this function to send messages that nobody will understand (unless they crack our code...)!"
   ]
  },
  {
   "cell_type": "code",
   "execution_count": null,
   "metadata": {},
   "outputs": [],
   "source": [
    "fake_lish(\"hello world\", fld)"
   ]
  },
  {
   "cell_type": "code",
   "execution_count": null,
   "metadata": {},
   "outputs": [],
   "source": [
    "fake_lish(\"i am speaking in secret hehe\", fld)"
   ]
  },
  {
   "cell_type": "markdown",
   "metadata": {},
   "source": [
    "Just a cool property of the dictionary we chose to use, look what happens when we encrypt one of our messages... we can use the function again to *decrypt* the messages too!"
   ]
  },
  {
   "cell_type": "code",
   "execution_count": null,
   "metadata": {},
   "outputs": [],
   "source": [
    "fake_lish(\"hello can you hear me\", fld)"
   ]
  },
  {
   "cell_type": "code",
   "execution_count": null,
   "metadata": {},
   "outputs": [],
   "source": [
    "fake_lish(\"uryyb pna lbh urne zr\", fld)"
   ]
  },
  {
   "cell_type": "markdown",
   "metadata": {},
   "source": [
    "Now we can talk in secret! See **Question 1.3** to see how this can be useful in a cool way!"
   ]
  },
  {
   "cell_type": "markdown",
   "metadata": {},
   "source": [
    "---\n",
    "\n",
    "## Question 1.2 - Login\n",
    "\n",
    "In this problem, we will be using dictionaries to implement a login system. For **new accounts**, we **create** a new username with the password given, and for **existing accounts**, we **log in** if the password given matches the correct password for the given username. If a user tries to make an account with a username that **already exists**, we **do not** allow them to make that new account, and if the password **does not** match the username's password, login **fails**.\n",
    "\n",
    "Here is what the function should return:\n",
    "- It should return `\"New account\"` when a new account is successfully created\n",
    "- It should return `\"No new account\"` when a new account is not successfully created\n",
    "- It should return `\"Successful login\"` when login is successful\n",
    "- It should return `\"No successful login\"` when login is not successful\n",
    "\n",
    "You will write two parts of this function:\n",
    "- You must add a new username/password pair to the `accounts` dictionary when a new account is being created\n",
    "- You must check if the given password is correct for an existing account in `accounts`\n",
    "\n",
    "You can see that the argument `new_account` appears as `new_account=False`. This makes `new_account` an *optional* argument, and if no third argument is given to `login`, the default value with be `False`. If you want the value of `new_account` to be `True`, you must put `True` in as the third argument (ex. `login(\"data6student\", \"1234\", True)`)."
   ]
  },
  {
   "cell_type": "code",
   "execution_count": null,
   "metadata": {},
   "outputs": [],
   "source": [
    "accounts = {}"
   ]
  },
  {
   "cell_type": "code",
   "execution_count": null,
   "metadata": {
    "tags": []
   },
   "outputs": [],
   "source": [
    "def login(username, password, new_account=False):\n",
    "    if new_account:\n",
    "        if username not in accounts:\n",
    "            ...\n",
    "            print(\"Account with username:\", username, \"created with password:\", password)\n",
    "            result = ...\n",
    "            return result\n",
    "        else:\n",
    "            print(\"Username already exists, please select another username\")\n",
    "            result = ...\n",
    "            return result\n",
    "    ...\n",
    "        print(\"Successfully logged in as user:\", username)\n",
    "        result = ...\n",
    "        return result\n",
    "    else:\n",
    "        print(\"Incorrect password, please try again\")\n",
    "        result = ...\n",
    "        return result"
   ]
  },
  {
   "cell_type": "code",
   "execution_count": null,
   "metadata": {
    "deletable": false,
    "editable": false
   },
   "outputs": [],
   "source": [
    "grader.check(\"q1.2\")"
   ]
  },
  {
   "cell_type": "markdown",
   "metadata": {},
   "source": [
    "<details>\n",
    "    <summary>Solution (for after you have tried yourself - click this Markdown cell)</summary>\n",
    "    <code>def login(username, password, new_account=False):\n",
    "    if new_account:\n",
    "        if username not in accounts:\n",
    "            accounts[username] = password\n",
    "            print(\"Account with username:\", username, \"created with password:\", password)\n",
    "            result = \"New account\"\n",
    "            return result\n",
    "        else:\n",
    "            print(\"Username already exists, please select another username\")\n",
    "            result = \"No new account\"\n",
    "            return result\n",
    "    elif password == accounts[username]:\n",
    "        print(\"Successfully logged in as user:\", username)\n",
    "        result = \"Successful login\"\n",
    "        return result\n",
    "    else:\n",
    "        print(\"Incorrect password, please try again\")\n",
    "        result = \"No successful login\"\n",
    "        return result</code>\n",
    "</details>"
   ]
  },
  {
   "cell_type": "markdown",
   "metadata": {},
   "source": [
    "Let's look at this function at work:"
   ]
  },
  {
   "cell_type": "code",
   "execution_count": null,
   "metadata": {
    "scrolled": true
   },
   "outputs": [],
   "source": [
    "login(\"ian\", \"ian12345\", True)"
   ]
  },
  {
   "cell_type": "code",
   "execution_count": null,
   "metadata": {},
   "outputs": [],
   "source": [
    "login(\"isaac\", \"isaac9876\", True)"
   ]
  },
  {
   "cell_type": "code",
   "execution_count": null,
   "metadata": {
    "scrolled": true
   },
   "outputs": [],
   "source": [
    "login(\"kseniya\", \"kseniya4567\", True)"
   ]
  },
  {
   "cell_type": "code",
   "execution_count": null,
   "metadata": {},
   "outputs": [],
   "source": [
    "login(\"ian\", \"ian12345\")"
   ]
  },
  {
   "cell_type": "code",
   "execution_count": null,
   "metadata": {},
   "outputs": [],
   "source": [
    "login(\"isaac\", \"isaac9876\")"
   ]
  },
  {
   "cell_type": "code",
   "execution_count": null,
   "metadata": {},
   "outputs": [],
   "source": [
    "login(\"kseniya\", \"kseniya4567\")"
   ]
  },
  {
   "cell_type": "code",
   "execution_count": null,
   "metadata": {},
   "outputs": [],
   "source": [
    "login(\"ian\", \"password\")"
   ]
  },
  {
   "cell_type": "code",
   "execution_count": null,
   "metadata": {},
   "outputs": [],
   "source": [
    "login(\"isaac\", \"password\")"
   ]
  },
  {
   "cell_type": "code",
   "execution_count": null,
   "metadata": {},
   "outputs": [],
   "source": [
    "login(\"kseniya\", \"password\")"
   ]
  },
  {
   "cell_type": "markdown",
   "metadata": {},
   "source": [
    "Now if we take a look at our accounts dictionary, we can see that the username/password pairs we have for login are here!"
   ]
  },
  {
   "cell_type": "code",
   "execution_count": null,
   "metadata": {
    "scrolled": true
   },
   "outputs": [],
   "source": [
    "accounts"
   ]
  },
  {
   "cell_type": "code",
   "execution_count": null,
   "metadata": {},
   "outputs": [],
   "source": [
    "# Use this cell to explore how the login function works!\n",
    "# Try and make your own accounts to see how the dictionary helps us log in!\n"
   ]
  },
  {
   "cell_type": "markdown",
   "metadata": {},
   "source": [
    "---\n",
    "\n",
    "## Question 1.3 - Secured Login\n",
    "\n",
    "Imagine our `accounts` dictionary has been obtained by some people who want to hack into our login system. They have access to all the passwords! We should figure out a way to make sure that even if people have access to the `accounts` dictionary, they still cannot steal peoples' passwords. We can do this using our `fake_lish` function from earlier! Modify the `login` function in `login_secure` so that it not only stores passwords in fake-lish, but also converts from fake-lish back to english while logging someone in!\n",
    "\n",
    "*Remember*: you have to pass in `fld` as the second input to `fake_lish` for it to work properly."
   ]
  },
  {
   "cell_type": "code",
   "execution_count": null,
   "metadata": {},
   "outputs": [],
   "source": [
    "accounts_secure = {}"
   ]
  },
  {
   "cell_type": "code",
   "execution_count": null,
   "metadata": {
    "tags": []
   },
   "outputs": [],
   "source": [
    "def login_secure(username, password, new_account=False):\n",
    "    if new_account:\n",
    "        if username not in accounts_secure:\n",
    "            password_fake_lish = ...\n",
    "            ...\n",
    "            print(\"Account with username:\", username, \"created with secure password:\", password)\n",
    "            result = ...\n",
    "            return result\n",
    "        else:\n",
    "            print(\"Username already exists, please select another username\")\n",
    "            result = ...\n",
    "            return result\n",
    "    ...\n",
    "        print(\"Successfully logged in as user:\", username)\n",
    "        result = ...\n",
    "        return result\n",
    "    else:\n",
    "        print(\"Incorrect password, please try again\")\n",
    "        result = ...\n",
    "        return result"
   ]
  },
  {
   "cell_type": "code",
   "execution_count": null,
   "metadata": {
    "deletable": false,
    "editable": false
   },
   "outputs": [],
   "source": [
    "grader.check(\"q1.3\")"
   ]
  },
  {
   "cell_type": "markdown",
   "metadata": {},
   "source": [
    "<details>\n",
    "    <summary>Solution (for after you have tried yourself - click this Markdown cell)</summary>\n",
    "    <code>def login_secure(username, password, new_account=False):\n",
    "    if new_account:\n",
    "        if username not in accounts_secure:\n",
    "            password_fake_lish = fake_lish(password, fld) # SOLUTION\n",
    "            # BEGIN SOLUTION\n",
    "            accounts_secure[username] = password_fake_lish\n",
    "            # END SOLUTION\n",
    "            print(\"Account with username:\", username, \"created with secure password:\", password)\n",
    "            result = \"New account\" # SOLUTION\n",
    "            return result\n",
    "        else:\n",
    "            print(\"Username already exists, please select another username\")\n",
    "            result = \"No new account\" # SOLUTION\n",
    "            return result\n",
    "    elif fake_lish(password, fld) == accounts_secure[username]: # SOLUTION\n",
    "        print(\"Successfully logged in as user:\", username)\n",
    "        result = \"Successful login\" # SOLUTION\n",
    "        return result\n",
    "    else:\n",
    "        print(\"Incorrect password, please try again\")\n",
    "        result = \"No successful login\" # SOLUTION\n",
    "        return result</code>\n",
    "</details>"
   ]
  },
  {
   "cell_type": "markdown",
   "metadata": {},
   "source": [
    "### Put Your Function To the Test"
   ]
  },
  {
   "cell_type": "code",
   "execution_count": null,
   "metadata": {
    "scrolled": true
   },
   "outputs": [],
   "source": [
    "login_secure(\"ian\", \"berkeley\", True)"
   ]
  },
  {
   "cell_type": "code",
   "execution_count": null,
   "metadata": {},
   "outputs": [],
   "source": [
    "login_secure(\"isaac\", \"datascience\", True)"
   ]
  },
  {
   "cell_type": "code",
   "execution_count": null,
   "metadata": {
    "scrolled": true
   },
   "outputs": [],
   "source": [
    "login_secure(\"kseniya\", \"iscool\", True)"
   ]
  },
  {
   "cell_type": "code",
   "execution_count": null,
   "metadata": {},
   "outputs": [],
   "source": [
    "login_secure(\"ian\", \"berkeley\")"
   ]
  },
  {
   "cell_type": "code",
   "execution_count": null,
   "metadata": {},
   "outputs": [],
   "source": [
    "login_secure(\"isaac\", \"datascience\")"
   ]
  },
  {
   "cell_type": "code",
   "execution_count": null,
   "metadata": {},
   "outputs": [],
   "source": [
    "login_secure(\"kseniya\", \"iscool\")"
   ]
  },
  {
   "cell_type": "code",
   "execution_count": null,
   "metadata": {},
   "outputs": [],
   "source": [
    "login_secure(\"ian\", \"password\")"
   ]
  },
  {
   "cell_type": "code",
   "execution_count": null,
   "metadata": {},
   "outputs": [],
   "source": [
    "login_secure(\"isaac\", \"password\")"
   ]
  },
  {
   "cell_type": "code",
   "execution_count": null,
   "metadata": {},
   "outputs": [],
   "source": [
    "login_secure(\"kseniya\", \"password\")"
   ]
  },
  {
   "cell_type": "markdown",
   "metadata": {},
   "source": [
    "Now if we look at our accounts dictionary, it is useless to those hackers!"
   ]
  },
  {
   "cell_type": "code",
   "execution_count": null,
   "metadata": {},
   "outputs": [],
   "source": [
    "accounts_secure"
   ]
  },
  {
   "cell_type": "markdown",
   "metadata": {},
   "source": [
    "If they try to use these passwords to log in, they won't work! Go cybersecurity!"
   ]
  },
  {
   "cell_type": "code",
   "execution_count": null,
   "metadata": {},
   "outputs": [],
   "source": [
    "login_secure(\"data6admin\", \"tbbqcnffjbeq\")"
   ]
  },
  {
   "cell_type": "code",
   "execution_count": null,
   "metadata": {},
   "outputs": [],
   "source": [
    "login_secure(\"ian\", \"orexryrl\")"
   ]
  },
  {
   "cell_type": "code",
   "execution_count": null,
   "metadata": {},
   "outputs": [],
   "source": [
    "login_secure(\"isaac\", \"qngnfpvrapr\")"
   ]
  },
  {
   "cell_type": "code",
   "execution_count": null,
   "metadata": {},
   "outputs": [],
   "source": [
    "login_secure(\"kseniya\", \"vfpbby\")"
   ]
  },
  {
   "cell_type": "markdown",
   "metadata": {},
   "source": [
    "<hr style=\"border: 5px solid #003262;\" />\n",
    "<hr style=\"border: 1px solid #fdb515;\" />\n",
    "\n",
    "## Part 2: Dictionary Fundamentals\n",
    "\n",
    "<br></br>\n",
    "<hr style=\"border: 1px solid #fdb515;\" />\n",
    "\n",
    "## Question 1 \u2013 Syntax\n",
    "\n",
    "In this question, you will solidify your understanding of the syntax necessary for working with dictionaries. You'll also learn how to read in data from external files."
   ]
  },
  {
   "cell_type": "markdown",
   "metadata": {},
   "source": [
    "---\n",
    "## Question 2.1.1\n",
    "\n",
    "Below, we create a dictionary that contains modern-day slang acronyms and their corresponding full forms."
   ]
  },
  {
   "cell_type": "code",
   "execution_count": null,
   "metadata": {},
   "outputs": [],
   "source": [
    "# DO NOT EDIT THIS CELL \u2013 just run it!\n",
    "\n",
    "more_slang = {\n",
    "    'haha': 'that was not funny',\n",
    "    'smh': 'shake my head',\n",
    "    'lol': 'laugh out loud',\n",
    "    'GOAT': 'greatest of all time'\n",
    "}"
   ]
  },
  {
   "cell_type": "markdown",
   "metadata": {},
   "source": [
    "In the cell below, add a new key-value pair to `more_slang`, corresponding to the abbreviation `'ofr'`. The value can be any string consisting of three words whose first letter is `'o'`, second letter is `'f'`, and third letter is `'r'`. You should not change the cell above.\n"
   ]
  },
  {
   "cell_type": "code",
   "execution_count": null,
   "metadata": {
    "tags": []
   },
   "outputs": [],
   "source": [
    "..."
   ]
  },
  {
   "cell_type": "code",
   "execution_count": null,
   "metadata": {
    "deletable": false,
    "editable": false
   },
   "outputs": [],
   "source": [
    "grader.check(\"q2.1.1\")"
   ]
  },
  {
   "cell_type": "markdown",
   "metadata": {},
   "source": [
    "---\n",
    "## Question 2.1.2\n",
    "\n",
    "In the cell below, we've created a new dictionary `even_more_slang` which is a copy of your `more_slang` from 1a. We did this in order to make the autograder work correctly.\n",
    "\n",
    "**Task:** Your job is to add another key-value pair to `even_more_slang`. The key should be the string `'explicit'`, and the value should be another dictionary. In this nested dictionary, the two keys should be the strings `'lmao'` and `'fml'`, and the values should be four-word and three-word strings that abbreviate to `'lmao'` and `'fml'`, respectively. Don't use any swear words \u2013 we don't want to lose our jobs! \ud83d\ude05\n",
    "\n",
    "That is, after running your cell, `even_more_slang['explicit']['fml']` should be a string consisting of three words.\n",
    "\n",
    "*Reminder:* The keys of a dictionary can be strings, numbers, bools, or even `None` \u2013 just not a list or other dictionary. On the other hand, values in a dictionary can be anything!\n"
   ]
  },
  {
   "cell_type": "code",
   "execution_count": null,
   "metadata": {
    "tags": []
   },
   "outputs": [],
   "source": [
    "even_more_slang = more_slang.copy() # Don't change this\n",
    "\n",
    "explicit_dict = {\n",
    "    ...\n",
    "}\n",
    "\n",
    "even_more_slang['explicit'] = ..."
   ]
  },
  {
   "cell_type": "code",
   "execution_count": null,
   "metadata": {
    "deletable": false,
    "editable": false
   },
   "outputs": [],
   "source": [
    "grader.check(\"q2.1.2\")"
   ]
  },
  {
   "cell_type": "markdown",
   "metadata": {},
   "source": [
    "---\n",
    "## Question 2.1.3\n",
    "\n",
    "We can also read and convert JSON files into Python dictionaries. That's what you'll do in this question.\n",
    "\n",
    "Before following these instructions, make sure to save your notebook (which you should be doing frequently anyways)!\n",
    "\n",
    "1. Right click the Jupyter logo in the top left of your screen, and click \"Open Link in New Tab\" (it may appear as Open...)\n",
    "2. Navigate to the project1 folder\n",
    "3. Identify the name of the `.json` file that contains Google Maps data. You may have to open both `.json` files to determine which one it is; you can open files by clicking on them.\n",
    "4. Set the string `maps_path` below equal to the path to that file. `maps_path` end with `'.json'`.\n"
   ]
  },
  {
   "cell_type": "code",
   "execution_count": null,
   "metadata": {
    "tags": []
   },
   "outputs": [],
   "source": [
    "maps_path = ..."
   ]
  },
  {
   "cell_type": "code",
   "execution_count": null,
   "metadata": {
    "deletable": false,
    "editable": false
   },
   "outputs": [],
   "source": [
    "grader.check(\"q2.1.3\")"
   ]
  },
  {
   "cell_type": "markdown",
   "metadata": {},
   "source": [
    "If you answered the previous part correctly, you should be able to run the following cell:"
   ]
  },
  {
   "cell_type": "code",
   "execution_count": null,
   "metadata": {},
   "outputs": [],
   "source": [
    "maps_data = read_json(maps_path)\n",
    "maps_data"
   ]
  },
  {
   "cell_type": "markdown",
   "metadata": {},
   "source": [
    "---\n",
    "## Question 2.1.4\n",
    "\n",
    "The dictionary above is quite unwieldy, and contains many nested dictionaries! Let's try and extract some data from it programatically (that is, using code).\n",
    "\n",
    "**Task**: Assign `maps_data_keys` to the `dict_keys` object of all of `maps_data`'s keys. Don't just manually type in all of the keys.\n",
    "\n",
    "_Hint_: `len(maps_data_keys)` will tell you that there are 6 keys. `'long_name'` is not a key of `maps_data`.\n"
   ]
  },
  {
   "cell_type": "code",
   "execution_count": null,
   "metadata": {
    "tags": []
   },
   "outputs": [],
   "source": [
    "maps_data_keys = ...\n",
    "maps_data_keys"
   ]
  },
  {
   "cell_type": "code",
   "execution_count": null,
   "metadata": {
    "deletable": false,
    "editable": false
   },
   "outputs": [],
   "source": [
    "grader.check(\"q2.1.4\")"
   ]
  },
  {
   "cell_type": "markdown",
   "metadata": {},
   "source": [
    "---\n",
    "## Question 2.1.5\n",
    "\n",
    "Finally, assign `key_1`, `key_2`, and `key_3` below so that `maps_data[key_1][key_2][key_3]` evaluates to the latitude of the location whose data is stored in `maps_data`. We've done `key_2` for you.\n",
    "\n",
    "_Hint_: Work one step at a time. You know that `key_1` must be one of the six keys in `maps_data_keys`, which you found above. Then, given what we've set `key_2` to, what must `key_3` be?\n"
   ]
  },
  {
   "cell_type": "code",
   "execution_count": null,
   "metadata": {
    "tags": []
   },
   "outputs": [],
   "source": [
    "key_1 = ...\n",
    "key_2 = 'location'\n",
    "key_3 = ...\n",
    "\n",
    "maps_data[key_1][key_2][key_3]"
   ]
  },
  {
   "cell_type": "code",
   "execution_count": null,
   "metadata": {
    "deletable": false,
    "editable": false
   },
   "outputs": [],
   "source": [
    "grader.check(\"q2.1.5\")"
   ]
  },
  {
   "cell_type": "markdown",
   "metadata": {},
   "source": [
    "By the way, `maps_data` contains location information for 84 Viet, a Vietnamese restaurant in Downtown Berkeley. It's quite good, you should try it!"
   ]
  },
  {
   "cell_type": "markdown",
   "metadata": {},
   "source": [
    "<br></br>\n",
    "<hr style=\"border: 1px solid #fdb515;\" />\n",
    "\n",
    "## Question 2 \u2013 Emojify \n",
    "\n",
    "The default keyboard on iOS suggests emojis for you to use in place of boring, ordinary words.\n",
    "\n",
    "<img src = \"https://support.apple.com/library/content/dam/edam/applecare/images/en_US/iOS/ios12-iphone-x-messages-replace-words-with-emoji.jpg\" width=200>\n",
    "\n",
    "In this question, you will replicate some of that behavior using dictionaries!\n",
    "\n",
    "\n",
    "### Emojis in Python\n",
    "In Python, emojis can be included as part of a string. For example:"
   ]
  },
  {
   "cell_type": "code",
   "execution_count": null,
   "metadata": {},
   "outputs": [],
   "source": [
    "'\ud83e\udd24'"
   ]
  },
  {
   "cell_type": "markdown",
   "metadata": {},
   "source": [
    "If you remove the quotes from the emoji above, you will see `SyntaxError: invalid character in identifier`. **Make sure that throughout this question, your emojis are contained within strings!** Fun fact, they cannot currently be used as variable names. Try it and see what error you get!"
   ]
  },
  {
   "cell_type": "markdown",
   "metadata": {},
   "source": [
    "---\n",
    "## Question 2.2.1\n",
    "\n",
    "In the cell below, define a dictionary `fav_emojis` that has the following **five** keys:\n",
    "- `'happy'`\n",
    "- `'annoyed'`\n",
    "- `'tired'`\n",
    "- `'love'`\n",
    "- `'food'`\n",
    "\n",
    "The values corresponding to these five keys must be an emoji. [getemoji.com](https://getemoji.com) allows you to copy and paste emojis. To select an emoji, double click it to highlight it. You may choose any emojis you would like **as long as**:\n",
    ">- it is copied from the site above\n",
    ">- it is not in the \"New Emojis\" category at the bottom\n",
    "\n",
    "Have fun with it! We've chosen an emoji for `'happy'` for you, but feel free to change it.\n",
    "\n",
    "**Some troubleshooting tips:**\n",
    "- After defining your dictionary, you may see some emoijs displayed with `'\\U001...'` instead of their actual graphic. **If this happens, pick different emojis**.\n",
    "- If you fail the test case that says your emojis are invalid, and you're certain you correctly defined your dictionary, you may consider choosing other emojis that are more generic that are more likely to be recognized by our autograder. This most likely won't be a problem.\n"
   ]
  },
  {
   "cell_type": "code",
   "execution_count": null,
   "metadata": {
    "tags": []
   },
   "outputs": [],
   "source": [
    "fav_emojis = {\n",
    "    'happy': '\ud83d\ude01',\n",
    "    ...\n",
    "}\n",
    "\n",
    "fav_emojis"
   ]
  },
  {
   "cell_type": "code",
   "execution_count": null,
   "metadata": {
    "deletable": false,
    "editable": false
   },
   "outputs": [],
   "source": [
    "grader.check(\"q2.2.1\")"
   ]
  },
  {
   "cell_type": "markdown",
   "metadata": {},
   "source": [
    "---\n",
    "## Question 2.2.2\n",
    "\n",
    "Now, complete the implementation of the function `emojify`, which takes in a string `message` and returns a new string with all instances of any of the keys in `fav_emojis` replaced with their corresponding emoji value. Example behavior is shown below, though the emojis will be different, depending on what you put in `fav_emojis`. If you passed the previous question, you don't need to change your emojis!\n",
    "\n",
    "```py\n",
    ">>> emojify('Filing taxes makes me tired and want food.')\n",
    "'Filing taxes makes me \ud83d\ude35 and want \ud83c\udf3d.'\n",
    "\n",
    ">>> emojify('I LOVE love life right now. I am so happy \u2013 why do you look so annoyed?!')\n",
    "'I \ud83d\udc8b \ud83d\udc8b life right now. I am so \ud83d\ude01 \u2013 why do you look so \ud83d\udc80?!'\n",
    "\n",
    ">>> emojify(\"It's not you, it's me... I don't make you haPPy, I make you tired.\")\n",
    "\"It's not you, it's me... I don't make you \ud83d\ude01, I make you \ud83d\ude35.\"\n",
    "```\n",
    "\n",
    "*Hint*: You may have seen a similar exercise in lecture.\n"
   ]
  },
  {
   "cell_type": "code",
   "execution_count": null,
   "metadata": {
    "tags": []
   },
   "outputs": [],
   "source": [
    "def emojify(message):\n",
    "    # This line ensures your code replaces correctly if any of\n",
    "    # the keys in fav_emojis appears in uppercase in the message\n",
    "    message = message.lower()\n",
    "\n",
    "    ...\n",
    "    \n",
    "    # Don't change this\n",
    "    return message"
   ]
  },
  {
   "cell_type": "code",
   "execution_count": null,
   "metadata": {
    "deletable": false,
    "editable": false
   },
   "outputs": [],
   "source": [
    "grader.check(\"q2.2.2\")"
   ]
  },
  {
   "cell_type": "markdown",
   "metadata": {},
   "source": [
    "### Fun Demo\n",
    "\n",
    "Run the cell below to produce a text box (don't worry about the code itself). Type text in the text box and watch it get emojified live!"
   ]
  },
  {
   "cell_type": "code",
   "execution_count": null,
   "metadata": {
    "scrolled": true
   },
   "outputs": [],
   "source": [
    "def emojify_live(type_here):\n",
    "    display(HTML('<h2>' + emojify(type_here) + '</h2>'))\n",
    "interact(emojify_live, type_here=\"I LOVE food\");"
   ]
  },
  {
   "cell_type": "markdown",
   "metadata": {},
   "source": [
    "<!-- BEGIN QUESTION -->\n",
    "\n",
    "---\n",
    "## Question 2.2.3\n",
    "\n",
    "Nice and simple: What's your favorite emoji? Place it in the Markdown cell below.\n"
   ]
  },
  {
   "cell_type": "markdown",
   "metadata": {},
   "source": [
    "_Type your answer here, replacing this text._"
   ]
  },
  {
   "cell_type": "markdown",
   "metadata": {},
   "source": [
    "<!-- END QUESTION -->\n",
    "\n",
    "<hr style=\"border: 5px solid #003262;\" />\n",
    "<hr style=\"border: 1px solid #fdb515;\" />\n",
    "\n",
    "## Part 3: The Bee Movie Word Counter\n",
    "\n",
    "<hr style=\"border: 1px solid #fdb515;\" />"
   ]
  },
  {
   "cell_type": "markdown",
   "metadata": {},
   "source": [
    "In this section of the project, we will begin by loading a `txt` file that contains the complete script of the Bee Movie. The end goal will be to create a dictionary of the word counts from the movie and doing some analysis."
   ]
  },
  {
   "cell_type": "markdown",
   "metadata": {},
   "source": [
    "---\n",
    "## Question 3.1 - The Text File\n",
    "\n",
    "Navigate to your Jupyter directory and locate the folder for project1. Inside this folder, find the `txt` file containing the *Bee Movie* script. Assign `file_name` to file name as a string.\n",
    "\n",
    "*Note*: A `txt` file is a file that stores unformatted text."
   ]
  },
  {
   "cell_type": "code",
   "execution_count": null,
   "metadata": {
    "tags": []
   },
   "outputs": [],
   "source": [
    "# Replace with the name of the txt file\n",
    "file_name = ...\n",
    "file_path = Path(file_name)\n",
    "\n",
    "# This code reads the content of the file\n",
    "file_content = file_path.read_text()\n",
    "\n",
    "# The first 1000 characters from the script\n",
    "file_content[:1000]"
   ]
  },
  {
   "cell_type": "code",
   "execution_count": null,
   "metadata": {
    "deletable": false,
    "editable": false
   },
   "outputs": [],
   "source": [
    "grader.check(\"q3.1\")"
   ]
  },
  {
   "cell_type": "markdown",
   "metadata": {},
   "source": [
    "<!-- BEGIN QUESTION -->\n",
    "\n",
    "---\n",
    "## Question 3.2 - Analyzing the File Contents\n",
    "\n",
    "Notice that the file contents look a bit odd. What in particular do you notice that's strange about the file contents, and what does it mean? You can use online resources to research its meaning."
   ]
  },
  {
   "cell_type": "markdown",
   "metadata": {},
   "source": [
    "_Type your answer here, replacing this text._"
   ]
  },
  {
   "cell_type": "markdown",
   "metadata": {},
   "source": [
    "<!-- END QUESTION -->\n",
    "\n",
    "---\n",
    "## Question 3.3 - Cleaning the Data\n",
    "\n",
    "We would like to get rid of a couple of items from the script. Most notably, `'-'`, `\",\"`, `\"?\"`, `\".\"`, `\"!\"` since we do not consider these a part of a word. Write a function, `remove_punctuation` that takes in a string and removes these five punctuations.\n",
    "\n",
    "_Hint_: `str.replace(...)` from lecture 14 may be helpful"
   ]
  },
  {
   "cell_type": "code",
   "execution_count": null,
   "metadata": {},
   "outputs": [],
   "source": [
    "# For example, we wish to have the word \"fly\" and not \"fly.\"\n",
    "file_content.split()[17]"
   ]
  },
  {
   "cell_type": "code",
   "execution_count": null,
   "metadata": {
    "tags": []
   },
   "outputs": [],
   "source": [
    "def remove_punctuation(script):\n",
    "    ...\n",
    "\n",
    "# The last line of code should return 'fly' if implemented correctly\n",
    "no_punctuation = remove_punctuation(file_content)\n",
    "no_punctuation.split()[17]"
   ]
  },
  {
   "cell_type": "code",
   "execution_count": null,
   "metadata": {
    "deletable": false,
    "editable": false
   },
   "outputs": [],
   "source": [
    "grader.check(\"q3.3\")"
   ]
  },
  {
   "cell_type": "markdown",
   "metadata": {},
   "source": [
    "---\n",
    "## Question 3.4 - Tomato vs tomato\n",
    "\n",
    "In Python, strings are case-sensitive, which means that `\"Tomato\"` and `\"tomato\"` are considered different words. To accurately get the word counts in a text file, we need to standardize the text to ensure consistency in word counting.\n",
    "\n",
    "For this question, make all words in `no_punctuation` lower cased and assign it to `cleaned_data`."
   ]
  },
  {
   "cell_type": "code",
   "execution_count": null,
   "metadata": {},
   "outputs": [],
   "source": [
    "# 'Tomato' is not the same as 'tomato'\n",
    "'Tomato' == 'tomato'"
   ]
  },
  {
   "cell_type": "code",
   "execution_count": null,
   "metadata": {
    "tags": []
   },
   "outputs": [],
   "source": [
    "cleaned_data = ...\n",
    "cleaned_data[:9]"
   ]
  },
  {
   "cell_type": "code",
   "execution_count": null,
   "metadata": {
    "deletable": false,
    "editable": false
   },
   "outputs": [],
   "source": [
    "grader.check(\"q3.4\")"
   ]
  },
  {
   "cell_type": "markdown",
   "metadata": {},
   "source": [
    "---\n",
    "## Question 3.5 - Word Counter\n",
    "\n",
    "Implement the function `word_counts` that takes a single parameter, `script`. The goal is to count the frequency of each word in the given text. The function should process the text to create a dictionary where each key is a unique word from the text, and the corresponding value is the number of times that word appears.\n",
    "\n",
    "Your function should handle the text by splitting it into individual words and then tallying the occurrences of each word. The final output should be a dictionary where words are keys and their counts are integers.\n",
    "\n",
    "*Note*: `str.split()` ignores the forward slash n when splitting words. "
   ]
  },
  {
   "cell_type": "code",
   "execution_count": null,
   "metadata": {},
   "outputs": [],
   "source": [
    "\"This\\n is an example\\n\".split()"
   ]
  },
  {
   "cell_type": "code",
   "execution_count": null,
   "metadata": {
    "tags": []
   },
   "outputs": [],
   "source": [
    "def word_counts(script):\n",
    "    ...\n",
    "\n",
    "# Uncomment the last line to see the full dictionary           \n",
    "bee_movie_dictionary = word_counts(cleaned_data)\n",
    "# bee_movie_dictionary"
   ]
  },
  {
   "cell_type": "code",
   "execution_count": null,
   "metadata": {
    "deletable": false,
    "editable": false
   },
   "outputs": [],
   "source": [
    "grader.check(\"q3.5\")"
   ]
  },
  {
   "cell_type": "markdown",
   "metadata": {},
   "source": [
    "---\n",
    "## Question 3.6 - Top 10 Most Popular Words in the Bee Movie\n",
    "\n",
    "To analyze the word counts from the *Bee Movie* script, follow these tasks:\n",
    "\n",
    "Create a table named `bee_movie` that has two columns: \n",
    "1. `Words`, containing each unique word from the script\n",
    "\n",
    "2. `Counts`, the count of each word.\n",
    "\n",
    "Sort this table by the `Counts` column in descending order and assign the sorted table to a variable called `bee_movie_sorted`.\n",
    "What are the top 10 most popular words in the Bee Movie? Assign these words to `top_10`.\n",
    "\n",
    "*Note:* Use the dictionary, `bee_movie_dictionary`, to create the table."
   ]
  },
  {
   "cell_type": "code",
   "execution_count": null,
   "metadata": {
    "tags": []
   },
   "outputs": [],
   "source": [
    "bee_movie = ...\n",
    "bee_movie_sorted = ...\n",
    "top_10 = ...\n",
    "top_10"
   ]
  },
  {
   "cell_type": "code",
   "execution_count": null,
   "metadata": {
    "deletable": false,
    "editable": false
   },
   "outputs": [],
   "source": [
    "grader.check(\"q3.6\")"
   ]
  },
  {
   "cell_type": "markdown",
   "metadata": {},
   "source": [
    "<hr style=\"border: 5px solid #003262;\" />\n",
    "<hr style=\"border: 1px solid #fdb515;\" />\n",
    "\n",
    "## Part 4: Presidential Addresses\n",
    "\n",
    "<hr style=\"border: 1px solid #fdb515;\" />"
   ]
  },
  {
   "cell_type": "markdown",
   "metadata": {},
   "source": [
    "One of the first tasks for every modern United States President is to make an address to the joint chambers of the United States Congress and more broadly to the country at large. [\"These messages are, technically, not considered to be \"State of the Union\" addresses.\"](https://www.presidency.ucsb.edu/documents/presidential-documents-archive-guidebook/annual-messages-congress-the-state-the-union#Table%20of%20SOTU) That said these speeches early in a President's term are used to set the tone and outlook of the President's ambitions. Presidents have used this platform to garner support for new policies, expound on their strengths and stoke various emotions among their audience. If you're still unsure what a Presidential Address is we encourage you to skim one of the speeches linked below. \n",
    "\n",
    "In this part of the project you will first build on Part 3 to make functions that help streamline the proccess of analyzing a few of these presidential speeches. Once that is finished we will give you an opportunity to explore different speeches and conduct some exploratory data analysis. A potential motivating question for this analysis would be, *\"How do recent American Presidents differ in how they reference nationatlities and countries during their speeches\"*.\n",
    "\n",
    "We have provided for you to work with the following five speeches: [President Clinton's first address to the Joint Congress in 1993](https://millercenter.org/the-presidency/presidential-speeches/february-17-1993-address-joint-session-congress) stored in `clinton.txt`, President George W. Bush's first address to the Joint Congress in 2001 stored in `bush.txt`, [President Obama's first address to the Joint Congress in 2009](https://millercenter.org/the-presidency/presidential-speeches/february-24-2009-address-joint-session-congress) stored in `obama.txt`, [President Trump's first address to the Joint Congress in 2017](https://millercenter.org/the-presidency/presidential-speeches/february-28-2017-address-joint-session-congress) stored in `trump.txt`, and [President Biden's first address to the Joint Congress in 2021](https://millercenter.org/the-presidency/presidential-speeches/april-28-2021-address-joint-session-congress) stored in `biden.txt`. We have also provided [President Washington's First Innaugral Address to Congress](https://millercenter.org/the-presidency/presidential-speeches/january-8-1790-first-annual-message-congress) which in a sense was the first ever State of the Union in 1790 and is stored in `washington.txt.`\n"
   ]
  },
  {
   "cell_type": "markdown",
   "metadata": {},
   "source": [
    "---\n",
    "## Question 4.1 - Streamlining how we Process Text\n",
    "\n",
    "In order to easily analyze many different text files it will be useful if we design a new function that given just the name of the text file will do all the neccessary pre-processing and then returns a table with the counts of each word used in that speech. To help you in this process we've already written for you the `import_text` function which will take a `.txt` file and output it as a string.\n",
    "\n",
    "Define the function `count_table`:\n",
    "1. `count_table` should have one argument called `text_file`\n",
    "2. `count_table` should preprocess the data by removing punctuation and converting all text to lowercase\n",
    "3. `count_table` should return a table (like in q3.6) with the counts of each word in the text file\n",
    "\n",
    "**Hint:** You should be using functions defined in earlier parts of the project."
   ]
  },
  {
   "cell_type": "code",
   "execution_count": null,
   "metadata": {},
   "outputs": [],
   "source": [
    "def import_text(text_file):\n",
    "    \"\"\"Takes a .txt file and returns it as a string\"\"\"\n",
    "    file_path = Path(text_file)\n",
    "    # This code reads the content of the txt file\n",
    "    file_content = file_path.read_text()\n",
    "    return file_content"
   ]
  },
  {
   "cell_type": "code",
   "execution_count": null,
   "metadata": {
    "tags": []
   },
   "outputs": [],
   "source": [
    "def count_table(text):\n",
    "    # loading in the text\n",
    "    text_it = ...\n",
    "    # cleaning the text\n",
    "    clean_text = ...\n",
    "    lower_clean_text = ...\n",
    "    # making a dictionary of counts\n",
    "    count_dict = ...\n",
    "    # Making and returning the Table\n",
    "    ...\n",
    "count_table(\"obama.txt\")"
   ]
  },
  {
   "cell_type": "code",
   "execution_count": null,
   "metadata": {
    "deletable": false,
    "editable": false
   },
   "outputs": [],
   "source": [
    "grader.check(\"q4.1\")"
   ]
  },
  {
   "cell_type": "markdown",
   "metadata": {},
   "source": [
    "---\n",
    "## Question 4.2 - Analysis of Nationalities\n",
    "\n",
    "In this problem, we're going to try to answer the question *\"how do recent American Presidents differ in how they reference nationatlities and countries during their speeches?\"* To do this we're going to first write a new function and use it to manipulate our data. Then we'll make a visualization to clearly illustrate the differences and finally we'll write up what we found. "
   ]
  },
  {
   "cell_type": "markdown",
   "metadata": {},
   "source": [
    "---\n",
    "## Question 4.2.1 - President George W. Bush's Nationalities\n",
    "Using the `nationalities_and_countries` array defined for you already find the number of times diffferent nationalities and countries were mentioned by President Bush."
   ]
  },
  {
   "cell_type": "code",
   "execution_count": null,
   "metadata": {
    "tags": []
   },
   "outputs": [],
   "source": [
    "bush_words = ...\n",
    "bush_nationalities_and_countries = ...\n",
    "bush_nationalities_and_countries"
   ]
  },
  {
   "cell_type": "code",
   "execution_count": null,
   "metadata": {
    "deletable": false,
    "editable": false
   },
   "outputs": [],
   "source": [
    "grader.check(\"q4.2.1\")"
   ]
  },
  {
   "cell_type": "markdown",
   "metadata": {},
   "source": [
    "---\n",
    "## Question 4.2.2 - Analysis of Americans Graph\n",
    "\n",
    "To analyze how American centric each President's speech follow these tasks:\n",
    "\n",
    "1. Define the function `percent_american` which takes in a text file and outputs the **proportion** of all of the nationalities or countries mentioned that were American (i.e. America, American, The United States).\n",
    "2. Assign `percentages_american` to an array with the **proportion** of all of the nationalities and countries mentioned that were American in each of the last five President's speech."
   ]
  },
  {
   "cell_type": "code",
   "execution_count": null,
   "metadata": {
    "tags": []
   },
   "outputs": [],
   "source": [
    "def percent_american(speech):\n",
    "    speech_table = ...\n",
    "    nationalities_table = ...\n",
    "    return ...\n",
    "\n",
    "percentages_american = ...\n",
    "speech_files = make_array('clinton.txt', 'bush.txt', 'obama.txt','trump.txt', 'biden.txt')\n",
    "for ... in ...:\n",
    "    percentages_american = ... \n",
    "    ...\n",
    "    ...\n",
    "percentages_american"
   ]
  },
  {
   "cell_type": "code",
   "execution_count": null,
   "metadata": {
    "deletable": false,
    "editable": false
   },
   "outputs": [],
   "source": [
    "grader.check(\"q4.2.2\")"
   ]
  },
  {
   "cell_type": "markdown",
   "metadata": {},
   "source": [
    "<!-- BEGIN QUESTION -->\n",
    "\n",
    "---\n",
    "## Question 4.2.3 - Visualizing Word Usage\n",
    "Create a table called `president_american_percentage` with the Presidents and their corresponding percentage values from `percentages_american`. Then, use the table to generate a horizontal bar chart that displays the percentage for each President."
   ]
  },
  {
   "cell_type": "code",
   "execution_count": null,
   "metadata": {
    "tags": []
   },
   "outputs": [],
   "source": [
    "president_american_percentage = ...\n",
    "..."
   ]
  },
  {
   "cell_type": "markdown",
   "metadata": {},
   "source": [
    "<!-- END QUESTION -->\n",
    "\n",
    "<!-- BEGIN QUESTION -->\n",
    "\n",
    "---\n",
    "## Question 4.2.4 - Analysis of Americans Write Up\n",
    "\n",
    "In the markdown cell below write a 2-3 sentence analysis of different Presidents references to nationalities and countries in thier speech. Note that there is no one correct answer to this and you may need to look up context about the President's speeches. Please site sources such as this analysis of [Obama's 2009 speech](https://www.cnn.com/2009/POLITICS/02/24/obama.speech/index.html) or any other source you look up including sites like wikipedia. You should also reference the graph above in your analysis."
   ]
  },
  {
   "cell_type": "markdown",
   "metadata": {},
   "source": [
    "_Type your answer here, replacing this text._"
   ]
  },
  {
   "cell_type": "markdown",
   "metadata": {},
   "source": [
    "<!-- END QUESTION -->\n",
    "\n",
    "---\n",
    "## Question 4.3 - Now it's Your Turn\n",
    "\n",
    "In questions `4.3.1`, `4.3.2`, and `4.3.3` it's now your turn to do some exploratory analysis. Similar to question `4.2` you should choose a topic of interest and do some data manipulation and visualization to gain some insights into a President or multiple President's speech(es)."
   ]
  },
  {
   "cell_type": "markdown",
   "metadata": {},
   "source": [
    "<!-- BEGIN QUESTION -->\n",
    "\n",
    "---\n",
    "## Question 4.3.1 - Research Question\n",
    "\n",
    "All good analysis starts with a question. **Choose a question of interest and write it in the markdown cell below**. A good research question should be clear, specific, and answerable. For instance for `4.2` a good research question might have been *\"How do recent American Presidents differ in how they reference nationatlities during their speeches\"*.\n",
    "\n",
    "If you're feeling stuck feel free to ask for inspiration in office hours or edStem."
   ]
  },
  {
   "cell_type": "markdown",
   "metadata": {},
   "source": [
    "_Type your answer here, replacing this text._"
   ]
  },
  {
   "cell_type": "markdown",
   "metadata": {},
   "source": [
    "<!-- END QUESTION -->\n",
    "\n",
    "<!-- BEGIN QUESTION -->\n",
    "\n",
    "---\n",
    "## Question 4.3.2 - Data Manipulation and Visualization\n",
    "\n",
    "We'll leave this section largely up to you to as every analysis is different. However, to ensure a level of rigor all answers should create at least one new table and one visualization. You should create new functions, tables, and graphs as needed to answer your research question."
   ]
  },
  {
   "cell_type": "code",
   "execution_count": null,
   "metadata": {},
   "outputs": [],
   "source": []
  },
  {
   "cell_type": "code",
   "execution_count": null,
   "metadata": {},
   "outputs": [],
   "source": []
  },
  {
   "cell_type": "code",
   "execution_count": null,
   "metadata": {},
   "outputs": [],
   "source": []
  },
  {
   "cell_type": "markdown",
   "metadata": {},
   "source": [
    "<!-- END QUESTION -->\n",
    "\n",
    "<!-- BEGIN QUESTION -->\n",
    "\n",
    "---\n",
    "## Question 4.3.3 - Analysis\n",
    "\n",
    "Write a 3 to 10 sentence analysis of your findings in part `4.3.2`. If you feel there is only enough in `4.3.2` for 1-2 sentences you should revisit `4.2.2`. Please write your answer in the markdown cell below."
   ]
  },
  {
   "cell_type": "markdown",
   "metadata": {},
   "source": [
    "_Type your answer here, replacing this text._"
   ]
  },
  {
   "cell_type": "markdown",
   "metadata": {},
   "source": [
    "<!-- END QUESTION -->\n",
    "\n",
    "## Done! \ud83d\ude07\n",
    "\n",
    "Congratulations, you've finished the final project for Data 6!\n",
    "\n",
    "The point breakdown for this assignment is given in the table below:\n",
    "\n",
    "| **Category** | Points |\n",
    "| --- | --- |\n",
    "| Autograder | 48 |\n",
    "| Written | 18 |\n",
    "| **Total** | 66 |"
   ]
  },
  {
   "attachments": {},
   "cell_type": "markdown",
   "metadata": {},
   "source": [
    "## Pets of Data 6\n",
    "Make sure to be well rested for the Final Exam, just like these two cats!\n",
    "\n",
    "<img src=\"sophia.jpeg\" width=\"50%\" alt=\"Two cute sleepy cats on a floral cushion\"/>"
   ]
  },
  {
   "cell_type": "markdown",
   "metadata": {},
   "source": [
    "## Submission\n",
    "\n",
    "Below, you will see two cells. Running the first cell will automatically generate a PDF of all questions that need to be manually graded, and running the second cell will automatically generate a zip with your autograded answers. You are responsible for submitting both the coding portion (the zip) and the written portion (the PDF) to their respective Gradescope portals. **Please save before exporting!**\n",
    "\n",
    "> **Important: You must correctly assign the pages of your PDF after you submit to the correct gradescope assignment. If your pages are not correctly assigned and/or not in the correct PDF format by the deadline, we reserve the right to award no points for your written work.**\n",
    "\n",
    "If there are issues with automatically generating the PDF in the first cell, you can try downloading the notebook as a PDF by colicking on `File -> Save and Export Notebook As... -> PDF`. If that doesn't work either, you can manually take screenshots of your answers to the manually graded questions and submit those. Either way, **you are responsible for ensuring your submision follows our requirements, we will NOT be granting regrade requests for submissions that don't follow instructions.**"
   ]
  },
  {
   "cell_type": "code",
   "execution_count": null,
   "metadata": {},
   "outputs": [],
   "source": [
    "from otter.export import export_notebook\n",
    "from os import path\n",
    "from IPython.display import display, HTML\n",
    "name = 'project1'\n",
    "export_notebook(f\"{name}.ipynb\", filtering=True, pagebreaks=True)\n",
    "if(path.exists(f'{name}.pdf')):\n",
    "    display(HTML(f\"Download your PDF <a href='{name}.pdf' download>here</a>.\"))\n",
    "else:\n",
    "    print(\"\\n Pdf generation failed, please try the other methods described above\")"
   ]
  },
  {
   "cell_type": "markdown",
   "metadata": {
    "deletable": false,
    "editable": false
   },
   "source": [
    "## Submission\n",
    "\n",
    "Make sure you have run all cells in your notebook in order before running the cell below, so that all images/graphs appear in the output. The cell below will generate a zip file for you to submit. **Please save before exporting!**"
   ]
  },
  {
   "cell_type": "code",
   "execution_count": null,
   "metadata": {
    "deletable": false,
    "editable": false
   },
   "outputs": [],
   "source": [
    "# Save your notebook first, then run this cell to export your submission.\n",
    "grader.export(pdf=False, run_tests=True)"
   ]
  },
  {
   "cell_type": "markdown",
   "metadata": {},
   "source": [
    " "
   ]
  }
 ],
 "metadata": {
  "kernelspec": {
   "display_name": "Python 3",
   "language": "python",
   "name": "python3"
  },
  "language_info": {
   "codemirror_mode": {
    "name": "ipython",
    "version": 3
   },
   "file_extension": ".py",
   "mimetype": "text/x-python",
   "name": "python",
   "nbconvert_exporter": "python",
   "pygments_lexer": "ipython3",
   "version": "3.12.4"
  },
  "otter": {
   "OK_FORMAT": true,
   "tests": {
    "q1.1": {
     "name": "q1.1",
     "points": 2,
     "suites": [
      {
       "cases": [
        {
         "code": ">>> fake_lish(\"hey lets go see a movie tonight\", fld) == \"url yrgf tb frr n zbivr gbavtug\"\nTrue",
         "hidden": false,
         "locked": false
        },
        {
         "code": ">>> fake_lish(\"they will never see what we say\", fld) == \"gurl jvyy arire frr jung jr fnl\"\nTrue",
         "hidden": false,
         "locked": false
        },
        {
         "code": ">>> fake_lish(\"the secret to life is forty two\", fld) == \"gur frperg gb yvsr vf sbegl gjb\"\nTrue",
         "hidden": false,
         "locked": false
        }
       ],
       "scored": true,
       "setup": "",
       "teardown": "",
       "type": "doctest"
      }
     ]
    },
    "q1.2": {
     "name": "q1.2",
     "points": 3,
     "suites": [
      {
       "cases": [
        {
         "code": ">>> login(\"data6admin\", \"12345\", True) == \"New account\"\nAccount with username: data6admin created with password: 12345\nTrue",
         "hidden": false,
         "locked": false
        },
        {
         "code": ">>> login(\"data6admin\", \"12345\") == \"Successful login\"\nSuccessfully logged in as user: data6admin\nTrue",
         "hidden": false,
         "locked": false
        },
        {
         "code": ">>> login(\"data6admin\", \"123456\") == \"No successful login\"\nIncorrect password, please try again\nTrue",
         "hidden": false,
         "locked": false
        },
        {
         "code": ">>> login(\"data6admin\", \"better_password\", True) == \"No new account\"\nUsername already exists, please select another username\nTrue",
         "hidden": false,
         "locked": false
        }
       ],
       "scored": true,
       "setup": "",
       "teardown": "",
       "type": "doctest"
      }
     ]
    },
    "q1.3": {
     "name": "q1.3",
     "points": 4,
     "suites": [
      {
       "cases": [
        {
         "code": ">>> login_secure(\"data6admin\", \"goodpassword\", True) == \"New account\"\nAccount with username: data6admin created with secure password: goodpassword\nTrue",
         "hidden": false,
         "locked": false
        },
        {
         "code": ">>> login_secure(\"data6admin\", \"goodpassword\") == \"Successful login\"\nSuccessfully logged in as user: data6admin\nTrue",
         "hidden": false,
         "locked": false
        },
        {
         "code": ">>> login_secure(\"data6admin\", \"badpassword\") == \"No successful login\"\nIncorrect password, please try again\nTrue",
         "hidden": false,
         "locked": false
        },
        {
         "code": ">>> login_secure(\"data6admin\", \"betterpassword\", True) == \"No new account\"\nUsername already exists, please select another username\nTrue",
         "hidden": false,
         "locked": false
        }
       ],
       "scored": true,
       "setup": "",
       "teardown": "",
       "type": "doctest"
      }
     ]
    },
    "q2.1.1": {
     "name": "q2.1.1",
     "points": 2,
     "suites": [
      {
       "cases": [
        {
         "code": ">>> # This test ensures you added the right key ('ofr') and nothing else.\n>>> sorted(more_slang.keys()) == ['GOAT', 'haha', 'lol', 'ofr', 'smh']\nTrue",
         "hidden": false,
         "locked": false
        },
        {
         "code": ">>> # This test ensures that you added a value with three words\n>>> # and whose first word starts with 'o', second word starts with 'f', and third word starts with 'r'.\n>>> new_abb = more_slang['ofr'].split(' ')\n>>> (new_abb[0][0] == 'o') and (new_abb[1][0] == 'f') and (new_abb[2][0] == 'r') and (len(new_abb) == 3)\nTrue",
         "hidden": false,
         "locked": false
        }
       ],
       "scored": true,
       "setup": "",
       "teardown": "",
       "type": "doctest"
      }
     ]
    },
    "q2.1.2": {
     "name": "q2.1.2",
     "points": 2,
     "suites": [
      {
       "cases": [
        {
         "code": ">>> # If you fail this test, either you didn't correctly set the key 'explicit'\n>>> # or you may have accidentally used the variable name 'dict' somewhere, which you should not have.\n>>> # If it's the latter, change that variable name, restart your notebook, and run all cells until this point.\n>>> isinstance(even_more_slang['explicit'], dict)\nTrue",
         "hidden": false,
         "locked": false
        },
        {
         "code": ">>> # This test makes sure more_slang has the correct six keys.\n>>> # 'lmao' and 'fml' should not be keys of more_slang: they should be keys of more_slang['explicit'].\n>>> sorted(even_more_slang.keys()) == ['GOAT', 'explicit', 'haha', 'lol', 'ofr', 'smh']\nTrue",
         "hidden": false,
         "locked": false
        },
        {
         "code": ">>> # This test ensures that more_slang['explicit']['lmao'] is a string with four words\n>>> # and whose first word starts with 'l', second word starts with 'm', third word starts with 'a', and fourth starts with 'o'.\n>>> lmao_word = even_more_slang['explicit']['lmao'].split(' ')\n>>> (lmao_word[0][0] == 'l') and (lmao_word[1][0] == 'm') and (lmao_word[2][0] == 'a') and (lmao_word[3][0] == 'o') and (len(lmao_word) == 4)\nTrue",
         "hidden": false,
         "locked": false
        },
        {
         "code": ">>> # This test ensures that more_slang['explicit']['fml'] is a string with three words\n>>> # and whose first word starts with 'f', second word starts with 'm', and third word starts with 'l'.\n>>> fml_word = even_more_slang['explicit']['fml'].split(' ')\n>>> (fml_word[0][0] == 'f') and (fml_word[1][0] == 'm') and (fml_word[2][0] == 'l') and (len(fml_word) == 3)\nTrue",
         "hidden": false,
         "locked": false
        }
       ],
       "scored": true,
       "setup": "",
       "teardown": "",
       "type": "doctest"
      }
     ]
    },
    "q2.1.3": {
     "name": "q2.1.3",
     "points": 1,
     "suites": [
      {
       "cases": [
        {
         "code": ">>> isinstance(maps_path, str)\nTrue",
         "hidden": false,
         "locked": false
        },
        {
         "code": ">>> # If you see this, don't just copy the answer \u2013 follow the steps above!\n>>> maps_path == '84_viet.json'\nTrue",
         "hidden": false,
         "locked": false
        }
       ],
       "scored": true,
       "setup": "",
       "teardown": "",
       "type": "doctest"
      }
     ]
    },
    "q2.1.4": {
     "name": "q2.1.4",
     "points": 1,
     "suites": [
      {
       "cases": [
        {
         "code": ">>> sorted(list(maps_data_keys)) == ['address_components',\n...  'formatted_address',\n...  'geometry',\n...  'place_id',\n...  'plus_code',\n...  'types']\nTrue",
         "hidden": false,
         "locked": false
        }
       ],
       "scored": true,
       "setup": "",
       "teardown": "",
       "type": "doctest"
      }
     ]
    },
    "q2.1.5": {
     "name": "q2.1.5",
     "points": 2,
     "suites": [
      {
       "cases": [
        {
         "code": ">>> isinstance(key_1, str) and isinstance(key_2, str)\nTrue",
         "hidden": false,
         "locked": false
        },
        {
         "code": ">>> # If you see this, don't just copy the answer \u2013 follow the steps above!\n>>> (key_1 == 'geometry') and (key_3 == 'lat')\nTrue",
         "hidden": false,
         "locked": false
        },
        {
         "code": ">>> np.isclose(maps_data[key_1][key_2][key_3], 37.8727848)\nTrue",
         "hidden": false,
         "locked": false
        }
       ],
       "scored": true,
       "setup": "",
       "teardown": "",
       "type": "doctest"
      }
     ]
    },
    "q2.2.1": {
     "name": "q2.2.1",
     "points": 3,
     "suites": [
      {
       "cases": [
        {
         "code": ">>> # This test makes sure that fav_emojis has exactly 5 key-value pairs.\n>>> len(fav_emojis) == 5\nTrue",
         "hidden": false,
         "locked": false
        },
        {
         "code": ">>> # This test makes sure that fav_emojis has the five necessary keys, and nothing else.\n>>> sorted(list(fav_emojis.keys())) == ['annoyed', 'food', 'happy', 'love', 'tired']\nTrue",
         "hidden": false,
         "locked": false
        },
        {
         "code": ">>> # This test makes sure that all values in fav_emojis are of length 1.\n>>> all([len(e) == 1 for e in fav_emojis.values()])\nTrue",
         "hidden": false,
         "locked": false
        },
        {
         "code": ">>> # This test makes sure that all of your values are actually emojis.\n>>> all_emojis = read_json('emojis.json')\n>>> \n>>> invalid_keys = []\n>>> for k in fav_emojis.keys():\n...     if fav_emojis[k] not in all_emojis:\n...         invalid_keys.append(k)\n>>> \n>>> if len(invalid_keys) == 0:\n...     print('All valid')\n... else:\n...     print('The emoji(s) corresponding to the key(s) ' + str(invalid_keys)[1:-1] + ' are invalid.\\nCheck your work!')\nAll valid\n",
         "hidden": false,
         "locked": false
        }
       ],
       "scored": true,
       "setup": "",
       "teardown": "",
       "type": "doctest"
      }
     ]
    },
    "q2.2.2": {
     "name": "q2.2.2",
     "points": 4,
     "suites": [
      {
       "cases": [
        {
         "code": ">>> # This test checks the first example in question description.\n>>> convert_1 = emojify('Filing taxes makes me tired and want food.').split(' ')\n>>> e1_1, e1_2 = convert_1[4], convert_1[-1][:-1]\n>>> (e1_1 == fav_emojis['tired']) and (e1_2 == fav_emojis['food'])\nTrue",
         "hidden": false,
         "locked": false
        },
        {
         "code": ">>> # This test checks the second example in question description.\n>>> convert_2 = emojify('I LOVE love life right now. I am so happy \u2013 why do you look so annoyed?!').split(' ')\n>>> e2_1, e2_2, e2_3, e2_4 = convert_2[1], convert_2[2], convert_2[9], convert_2[-1][:-2]\n>>> (e2_1 == fav_emojis['love']) and (e2_2 == fav_emojis['love']) and (e2_3 == fav_emojis['happy']) and (e2_4 == fav_emojis['annoyed'])\nTrue",
         "hidden": false,
         "locked": false
        },
        {
         "code": ">>> # This test checks the third example in question description.\n>>> convert_3 = emojify(\"It's not you, it's me... I don't make you haPPy, I make you tired.\").split(' ')\n>>> e3_1, e3_2 = convert_3[9][:-1], convert_3[-1][:-1]\n>>> (e3_1 == fav_emojis['happy']) and (e3_2 == fav_emojis['tired'])\nTrue",
         "hidden": false,
         "locked": false
        },
        {
         "code": ">>> # This test checks a new fourth example.\n>>> convert_4 = emojify('Billy is lovesick, and not the kind that can be solved with food \u2013 Billy is annoyed, really.').split(' ')\n>>> e4_1, e4_2, e4_3 = convert_4[2][0], convert_4[12], convert_4[-2][0]\n>>> (e4_1 == fav_emojis['love']) and (e4_2 == fav_emojis['food']) and (e4_3 == fav_emojis['annoyed'])\nTrue",
         "hidden": false,
         "locked": false
        }
       ],
       "scored": true,
       "setup": "",
       "teardown": "",
       "type": "doctest"
      }
     ]
    },
    "q3.1": {
     "name": "q3.1",
     "points": 1,
     "suites": [
      {
       "cases": [
        {
         "code": ">>> len(file_content) == 55315\nTrue",
         "hidden": false,
         "locked": false
        }
       ],
       "scored": true,
       "setup": "",
       "teardown": "",
       "type": "doctest"
      }
     ]
    },
    "q3.3": {
     "name": "q3.3",
     "points": 4,
     "suites": [
      {
       "cases": [
        {
         "code": ">>> no_punctuation.split()[17] == 'fly'\nTrue",
         "hidden": false,
         "locked": false
        },
        {
         "code": ">>> not (\"-\" in no_punctuation)\nTrue",
         "hidden": false,
         "locked": false
        },
        {
         "code": ">>> not (\",\" in no_punctuation)\nTrue",
         "hidden": false,
         "locked": false
        },
        {
         "code": ">>> not (\"?\" in no_punctuation)\nTrue",
         "hidden": false,
         "locked": false
        },
        {
         "code": ">>> not (\".\" in no_punctuation)\nTrue",
         "hidden": false,
         "locked": false
        },
        {
         "code": ">>> not (\"!\" in no_punctuation)\nTrue",
         "hidden": false,
         "locked": false
        }
       ],
       "scored": true,
       "setup": "",
       "teardown": "",
       "type": "doctest"
      }
     ]
    },
    "q3.4": {
     "name": "q3.4",
     "points": 1,
     "suites": [
      {
       "cases": [
        {
         "code": ">>> cleaned_data[:9] == 'according'\nTrue",
         "hidden": false,
         "locked": false
        }
       ],
       "scored": true,
       "setup": "",
       "teardown": "",
       "type": "doctest"
      }
     ]
    },
    "q3.5": {
     "name": "q3.5",
     "points": 6,
     "suites": [
      {
       "cases": [
        {
         "code": ">>> isinstance(bee_movie_dictionary, dict)\nTrue",
         "hidden": false,
         "locked": false
        }
       ],
       "scored": true,
       "setup": "",
       "teardown": "",
       "type": "doctest"
      }
     ]
    },
    "q3.6": {
     "name": "q3.6",
     "points": 4,
     "suites": [
      {
       "cases": [
        {
         "code": ">>> isinstance(top_10, np.ndarray)\nTrue",
         "hidden": false,
         "locked": false
        },
        {
         "code": ">>> len(top_10) == 10\nTrue",
         "hidden": false,
         "locked": false
        }
       ],
       "scored": true,
       "setup": "",
       "teardown": "",
       "type": "doctest"
      }
     ]
    },
    "q4.1": {
     "name": "q4.1",
     "points": 4,
     "suites": [
      {
       "cases": [
        {
         "code": ">>> import types\n>>> assert(isinstance(count_table, types.FunctionType))\n",
         "hidden": false,
         "locked": false
        },
        {
         "code": ">>> assert(count_table('obama.txt').labels == ('Words', 'Counts'))\n",
         "hidden": false,
         "locked": false
        }
       ],
       "scored": true,
       "setup": "",
       "teardown": "",
       "type": "doctest"
      }
     ]
    },
    "q4.2.1": {
     "name": "q4.2.1",
     "points": 2,
     "suites": [
      {
       "cases": [
        {
         "code": ">>> assert(type(bush_words) == Table and count_table('obama.txt').labels == ('Words', 'Counts')) #bush_words should be a table with the correct columns\n",
         "hidden": false,
         "locked": false
        },
        {
         "code": ">>> assert(all([nationaltiy in nationalities_and_countries for nationaltiy in bush_nationalities_and_countries.column(\"Words\")]))\n",
         "hidden": false,
         "locked": false
        }
       ],
       "scored": true,
       "setup": "",
       "teardown": "",
       "type": "doctest"
      }
     ]
    },
    "q4.2.2": {
     "name": "q4.2.2",
     "points": 2,
     "suites": [
      {
       "cases": [
        {
         "code": ">>> assert 0.2 < percent_american('bush.txt') < 0.4\n",
         "hidden": false,
         "locked": false
        },
        {
         "code": ">>> assert(type(percent_american('trump.txt')) == np.float64)\n",
         "hidden": false,
         "locked": false
        },
        {
         "code": ">>> assert(len(percentages_american) == 5)\n",
         "hidden": false,
         "locked": false
        }
       ],
       "scored": true,
       "setup": "",
       "teardown": "",
       "type": "doctest"
      }
     ]
    }
   }
  }
 },
 "nbformat": 4,
 "nbformat_minor": 5
}